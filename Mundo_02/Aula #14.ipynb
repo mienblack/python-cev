{
 "cells": [
  {
   "cell_type": "markdown",
   "metadata": {},
   "source": [
    "Estrutura de repetição (While)"
   ]
  },
  {
   "cell_type": "markdown",
   "metadata": {},
   "source": [
    "- Se eu não souber o limite, use while.\n",
    "- enqueanto eu não chegar"
   ]
  },
  {
   "cell_type": "code",
   "execution_count": 1,
   "metadata": {},
   "outputs": [
    {
     "name": "stdout",
     "output_type": "stream",
     "text": [
      "1\n",
      "2\n",
      "3\n",
      "4\n",
      "5\n",
      "6\n",
      "7\n",
      "8\n",
      "9\n",
      "FIM\n"
     ]
    }
   ],
   "source": [
    "for c in range(1, 10):\n",
    "    print(c)\n",
    "print('FIM')"
   ]
  },
  {
   "cell_type": "code",
   "execution_count": 2,
   "metadata": {},
   "outputs": [
    {
     "name": "stdout",
     "output_type": "stream",
     "text": [
      "1\n",
      "2\n",
      "3\n",
      "4\n",
      "5\n",
      "6\n",
      "7\n",
      "8\n",
      "9\n",
      "FIM\n"
     ]
    }
   ],
   "source": [
    "d = 1\n",
    "while d < 10:\n",
    "    print(d)\n",
    "    d += 1\n",
    "print('FIM')"
   ]
  },
  {
   "cell_type": "markdown",
   "metadata": {},
   "source": [
    "flag => Ponto de parada da repetição"
   ]
  },
  {
   "cell_type": "code",
   "execution_count": 3,
   "metadata": {},
   "outputs": [
    {
     "name": "stdout",
     "output_type": "stream",
     "text": [
      "FIM\n"
     ]
    }
   ],
   "source": [
    "n = 1\n",
    "while n != 0:\n",
    "    n = int(input('Digite um valor: '))\n",
    "print('FIM')"
   ]
  },
  {
   "cell_type": "code",
   "execution_count": 4,
   "metadata": {},
   "outputs": [
    {
     "name": "stdout",
     "output_type": "stream",
     "text": [
      "FIM\n"
     ]
    }
   ],
   "source": [
    "r = 'S'\n",
    "while r == 'S':\n",
    "    n = int(input('Digite um valor: '))\n",
    "    r = str(input('Deseja continuar? [S/N]')).upper\n",
    "print('FIM')"
   ]
  },
  {
   "cell_type": "code",
   "execution_count": 5,
   "metadata": {},
   "outputs": [
    {
     "name": "stdout",
     "output_type": "stream",
     "text": [
      "Você digitou 2 números ímpares e 2 números pares.\n"
     ]
    }
   ],
   "source": [
    "n = 1\n",
    "even = odd = 0\n",
    "while n != 0:\n",
    "    n = int(input('Digite um valor: '))\n",
    "    if n != 0:\n",
    "        if n % 2 ==0:\n",
    "            even += 1\n",
    "        else:\n",
    "            odd += 1\n",
    "print('Você digitou {} números ímpares e {} números pares.'.format(odd, even)) "
   ]
  },
  {
   "cell_type": "markdown",
   "metadata": {},
   "source": [
    "Desafio #057"
   ]
  },
  {
   "cell_type": "code",
   "execution_count": 8,
   "metadata": {},
   "outputs": [
    {
     "name": "stdout",
     "output_type": "stream",
     "text": [
      "Sexo M registrado com sucesso.\n"
     ]
    }
   ],
   "source": [
    "#sexo -> M ou F, digite até estar correto\n",
    "sexo = str(input('Informe o seu sexo: [M/F]')).strip().upper()[0]\n",
    "while sexo not in 'MmFf':\n",
    "    sexo = str(input('Dados inválidos. Por favor, informe seu sexo: [M/F]')).strip().upper()[0]\n",
    "print('Sexo {} registrado com sucesso.'.format(sexo))\n"
   ]
  },
  {
   "cell_type": "markdown",
   "metadata": {},
   "source": [
    "Desafio #058"
   ]
  },
  {
   "cell_type": "code",
   "execution_count": 13,
   "metadata": {},
   "outputs": [
    {
     "name": "stdout",
     "output_type": "stream",
     "text": [
      "Sou seu computador...\n",
      "Acabei de pensar em um número entre 1 e 10.\n",
      "Será que você consegue adivinhar?\n",
      "******************************\n",
      "Mais...  Tente novamente.\n",
      "Mais...  Tente novamente.\n",
      "Mais...  Tente novamente.\n",
      "Mais...  Tente novamente.\n",
      "Mais...  Tente novamente.\n",
      "Mais...  Tente novamente.\n",
      "Eu pensei no número 6...\n",
      "Você acertou com 7 tentativa. Parabéns.\n"
     ]
    }
   ],
   "source": [
    "#comp. pensa em um núm. (1, 10) -> digitar até acertar -> Quantos palpites necessários para vencer?\n",
    "from random import randint\n",
    "print('Sou seu computador...\\nAcabei de pensar em um número entre 1 e 10.\\nSerá que você consegue adivinhar?')\n",
    "print('*'*30)\n",
    "comp = randint(1, 10)\n",
    "tent = 0\n",
    "num = 0\n",
    "while comp != num:\n",
    "    num = int(input('Qual é o seu palpite? '))\n",
    "    if num > comp:\n",
    "        print('Menos... Tente novamente.')\n",
    "    if num < comp:\n",
    "        print('Mais...  Tente novamente.')\n",
    "    tent += 1\n",
    "print(f'Eu pensei no número {comp}...')\n",
    "print('Você acertou com {} tentativa. Parabéns.'.format(tent))"
   ]
  },
  {
   "cell_type": "markdown",
   "metadata": {},
   "source": [
    "Desafio #059"
   ]
  },
  {
   "cell_type": "code",
   "execution_count": 14,
   "metadata": {},
   "outputs": [
    {
     "name": "stdout",
     "output_type": "stream",
     "text": [
      "-=-=-=-=-=-=-=-=-=-=-=-=-=-=-=-=-=-=-=-=-=-=-=-=-=\n",
      "[1] Somar\n",
      "[2] Multiplicar\n",
      "[3] Maior\n",
      "[4] Adicionar novos números\n",
      "[5] Sair do programa\n",
      "-=-=-=-=-=-=-=-=-=-=-=-=-=-=-=-=-=-=-=-=-=-=-=-=-=\n",
      "O número 2 é maior que 1.\n",
      "-=-=-=-=-=-=-=-=-=-=-=-=-=-=-=-=-=-=-=-=-=-=-=-=-=\n",
      "[1] Somar\n",
      "[2] Multiplicar\n",
      "[3] Maior\n",
      "[4] Adicionar novos números\n",
      "[5] Sair do programa\n",
      "-=-=-=-=-=-=-=-=-=-=-=-=-=-=-=-=-=-=-=-=-=-=-=-=-=\n",
      "1 x 2 = 2\n",
      "-=-=-=-=-=-=-=-=-=-=-=-=-=-=-=-=-=-=-=-=-=-=-=-=-=\n",
      "[1] Somar\n",
      "[2] Multiplicar\n",
      "[3] Maior\n",
      "[4] Adicionar novos números\n",
      "[5] Sair do programa\n",
      "-=-=-=-=-=-=-=-=-=-=-=-=-=-=-=-=-=-=-=-=-=-=-=-=-=\n",
      "Informe os números novamente.\n",
      "-=-=-=-=-=-=-=-=-=-=-=-=-=-=-=-=-=-=-=-=-=-=-=-=-=\n",
      "[1] Somar\n",
      "[2] Multiplicar\n",
      "[3] Maior\n",
      "[4] Adicionar novos números\n",
      "[5] Sair do programa\n",
      "-=-=-=-=-=-=-=-=-=-=-=-=-=-=-=-=-=-=-=-=-=-=-=-=-=\n",
      "O número 5 é maior que 4.\n",
      "-=-=-=-=-=-=-=-=-=-=-=-=-=-=-=-=-=-=-=-=-=-=-=-=-=\n",
      "[1] Somar\n",
      "[2] Multiplicar\n",
      "[3] Maior\n",
      "[4] Adicionar novos números\n",
      "[5] Sair do programa\n",
      "-=-=-=-=-=-=-=-=-=-=-=-=-=-=-=-=-=-=-=-=-=-=-=-=-=\n",
      "Selecione a sua opção:\n",
      "[1] Somar\n",
      "[2] Multiplicar\n",
      "[3] Maior\n",
      "[4] Adicionar novos números\n",
      "[5] Sair do programa\n",
      "-=-=-=-=-=-=-=-=-=-=-=-=-=-=-=-=-=-=-=-=-=-=-=-=-=\n",
      "Você saiu do programa\n"
     ]
    }
   ],
   "source": [
    "#2 valores -> mostre menu: [1]somar, [2]mult., [3]maior, [4]novo núm., [5]sair do prog. -> dar a resposta\n",
    "num1 = int(input('Digite um número: '))\n",
    "num2 = int(input('Digite outro número: '))\n",
    "tot = 0\n",
    "c = 0\n",
    "while c != 5:\n",
    "    print('-='*25)\n",
    "    print('[1] Somar\\n[2] Multiplicar\\n[3] Maior\\n[4] Adicionar novos números\\n[5] Sair do programa')\n",
    "    print('-='*25)\n",
    "    c = int(input('>>>>Qual a sua opção?'))\n",
    "    if c == 1:\n",
    "        tot = num1 + num2\n",
    "        print('{} + {} = {}'.format(num1, num2, tot))\n",
    "    elif c == 2:\n",
    "        tot = num1 * num2\n",
    "        print('{} x {} = {}'.format(num1, num2, tot))\n",
    "    elif c == 3:\n",
    "        if num1 > num2:\n",
    "            print('O número {} é maior que {}.'.format(num1, num2))\n",
    "        elif num1 == num2:\n",
    "            print('Os números são iguais.')\n",
    "        else:\n",
    "            print('O número {} é maior que {}.'.format(num2, num1))\n",
    "    elif c == 4:\n",
    "        print('Informe os números novamente.')\n",
    "        num1 = int(input('Digite um número: '))\n",
    "        num2 = int(input('Digite outro valor: '))\n",
    "    else:\n",
    "        print('Selecione a sua opção:')\n",
    "        print('[1] Somar\\n[2] Multiplicar\\n[3] Maior\\n[4] Adicionar novos números\\n[5] Sair do programa')\n",
    "print('-='*25)\n",
    "print('Você saiu do programa')\n",
    "        "
   ]
  },
  {
   "cell_type": "markdown",
   "metadata": {},
   "source": [
    "Desafio #060"
   ]
  },
  {
   "cell_type": "code",
   "execution_count": 15,
   "metadata": {},
   "outputs": [
    {
     "name": "stdout",
     "output_type": "stream",
     "text": [
      "O fatorial de 5 é 120.\n"
     ]
    }
   ],
   "source": [
    "#num. inteiro -> fatorial\n",
    "from math import factorial\n",
    "n = int(input('Digite um número para o cálculo do fatorial: '))\n",
    "f = factorial(n)\n",
    "print('O fatorial de {} é {}.'.format(n, f))"
   ]
  },
  {
   "cell_type": "code",
   "execution_count": 18,
   "metadata": {},
   "outputs": [
    {
     "name": "stdout",
     "output_type": "stream",
     "text": [
      "45! = 119622220865480194561963161495657715064383733760000000000.\n"
     ]
    }
   ],
   "source": [
    "n = int(input('Digite um número para o cálculo do fatorial:'))\n",
    "c = n\n",
    "f = 1\n",
    "while c > 0:\n",
    "    f *= c\n",
    "    c -= 1\n",
    "print('{}! = {}.'.format(n, f))"
   ]
  },
  {
   "cell_type": "markdown",
   "metadata": {},
   "source": [
    "Desafio #061"
   ]
  },
  {
   "cell_type": "code",
   "execution_count": 19,
   "metadata": {},
   "outputs": [
    {
     "name": "stdout",
     "output_type": "stream",
     "text": [
      "(9, 21, 33, 45, 57, 69, 81, 93, 105, 117)"
     ]
    }
   ],
   "source": [
    "#primeiro termo e razão da PA ->10 primeiros termos\n",
    "termo = int(input('Digite o primeiro termo da P.A.: '))\n",
    "razão = int(input('Razão da P.A.: '))\n",
    "c = 0\n",
    "print('(', end='')\n",
    "while c != 10:\n",
    "    print(termo, end='')\n",
    "    print(', ' if c < 9 else ')', end='')\n",
    "    termo = termo + razão\n",
    "    c += 1"
   ]
  },
  {
   "cell_type": "markdown",
   "metadata": {},
   "source": [
    "Desafio #062"
   ]
  },
  {
   "cell_type": "code",
   "execution_count": 20,
   "metadata": {},
   "outputs": [
    {
     "name": "stdout",
     "output_type": "stream",
     "text": [
      "(2, 9, 16, 23, 30, 37, 44, 51, 58, 65\n",
      ",72, 79\n",
      ",86, 93, 100, 107, 114\n",
      ")\n",
      "A P.A. teve 18 termos.\n",
      "FIM\n"
     ]
    }
   ],
   "source": [
    "#ex-061 ->quer mostrar mais alguns termos, até dizer que quer mostrar mais 0 termos\n",
    "termo = int(input('Primeiro termo: '))\n",
    "razão = int(input('Razão: '))\n",
    "print('(', end='')\n",
    "c = 1\n",
    "total = 10\n",
    "mais = 1\n",
    "while mais != 0:\n",
    "    total += mais\n",
    "    while c < total:\n",
    "        print(termo, end='')\n",
    "        print(', ' if c < total - 1 else '', end='')\n",
    "        termo += razão\n",
    "        c += 1\n",
    "    print('')\n",
    "    mais = int(input('\\nQuantos termos a mais quer mostrar?'))\n",
    "    print(',' if mais != 0 else '', end='')\n",
    "print(')')\n",
    "print('A P.A. teve {} termos.'.format(total))\n",
    "print('FIM')"
   ]
  },
  {
   "cell_type": "markdown",
   "metadata": {},
   "source": [
    "Desafio #063"
   ]
  },
  {
   "cell_type": "code",
   "execution_count": 21,
   "metadata": {},
   "outputs": [
    {
     "name": "stdout",
     "output_type": "stream",
     "text": [
      "(0, 1, 1, 2, 3, 5, 8, 13, 21)"
     ]
    }
   ],
   "source": [
    "#n núm. inteiro -> n termos ta sequência de Fibonacci\n",
    "n = int(input('Quantos termos da sequência você quer ver?'))\n",
    "c = 2\n",
    "fib = 1\n",
    "d = 0\n",
    "print('(0, {}, '.format(fib), end='')\n",
    "while c < n:\n",
    "    fib += d\n",
    "    c += 1\n",
    "    d = fib - d\n",
    "    print('{}'.format(fib), end='')\n",
    "    print(', ' if c < n else ')', end='')"
   ]
  },
  {
   "cell_type": "markdown",
   "metadata": {},
   "source": [
    "Desafio #064"
   ]
  },
  {
   "cell_type": "code",
   "execution_count": 22,
   "metadata": {},
   "outputs": [
    {
     "name": "stdout",
     "output_type": "stream",
     "text": [
      "Foram digitados 8 números e a soma entre eles é 155.\n"
     ]
    }
   ],
   "source": [
    "#Vários núm. -> para quando digitar 999 ->Quantos foram digitados?; Qual a soma entre eles?\n",
    "d = f = sum = num = 0\n",
    "while num != 999:\n",
    "    f += 1\n",
    "    num = int(input('Digite o {}º número: [999 para parar]'.format(f)))\n",
    "    d += 1\n",
    "    sum = num + sum\n",
    "print('Foram digitados {} números e a soma entre eles é {}.'.format(d - 1, sum - 999))"
   ]
  },
  {
   "cell_type": "markdown",
   "metadata": {},
   "source": [
    "Desafio #065"
   ]
  },
  {
   "cell_type": "code",
   "execution_count": 2,
   "metadata": {},
   "outputs": [
    {
     "name": "stdout",
     "output_type": "stream",
     "text": [
      "Você digitou 4 números e a média dos valores foi 62.50\n",
      "O maior valor é 232 e o menor valor 4.\n"
     ]
    }
   ],
   "source": [
    "#vários núm.inteiros ->média entre eles; maior e menor valores lidos; Deseja continuar?\n",
    "maior = menor = c = soma = 0\n",
    "q = 'S'\n",
    "while q in 'Ss':\n",
    "    n = int(input('Digite um número: '))\n",
    "    soma += n\n",
    "    c += 1\n",
    "    if c == 1:\n",
    "        maior = menor = n\n",
    "    else:\n",
    "        if n > maior:\n",
    "            maior = n\n",
    "        if menor > n:\n",
    "            menor = n\n",
    "    q = str(input('Quer continuar? [S/N]')).strip().upper()[0]\n",
    "print('Você digitou {} números e a média dos valores foi {:.2f}'.format(c ,soma/c))\n",
    "print('O maior valor é {} e o menor valor {}.'.format(maior, menor))"
   ]
  }
 ],
 "metadata": {
  "kernelspec": {
   "display_name": "Python 3.10.6 64-bit (windows store)",
   "language": "python",
   "name": "python3"
  },
  "language_info": {
   "codemirror_mode": {
    "name": "ipython",
    "version": 3
   },
   "file_extension": ".py",
   "mimetype": "text/x-python",
   "name": "python",
   "nbconvert_exporter": "python",
   "pygments_lexer": "ipython3",
   "version": "3.10.6"
  },
  "orig_nbformat": 4,
  "vscode": {
   "interpreter": {
    "hash": "a09cfbe1da184d0f7af3839d38d8b0444656c81e00c4112e35b5e08da3441a1d"
   }
  }
 },
 "nbformat": 4,
 "nbformat_minor": 2
}
