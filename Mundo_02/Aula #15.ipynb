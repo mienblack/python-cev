{
 "cells": [
  {
   "cell_type": "markdown",
   "metadata": {},
   "source": [
    "Interrompendo repetições while"
   ]
  },
  {
   "cell_type": "markdown",
   "metadata": {},
   "source": [
    "- para interromper use: break"
   ]
  },
  {
   "cell_type": "code",
   "execution_count": 2,
   "metadata": {},
   "outputs": [
    {
     "name": "stdout",
     "output_type": "stream",
     "text": [
      "(5 , 56 , 21 , )\n",
      "A soma dos números digitados foi 82.\n"
     ]
    }
   ],
   "source": [
    "n = s = 0\n",
    "print('(', end='')\n",
    "while True:\n",
    "    n = int(input('Digite um número: '))\n",
    "    if n == 999:\n",
    "        break\n",
    "    print(n, ', ', end='')\n",
    "    s += n\n",
    "print(')')\n",
    "print(f'A soma dos números digitados foi {s}.')"
   ]
  },
  {
   "cell_type": "markdown",
   "metadata": {},
   "source": [
    "Desafio #066"
   ]
  },
  {
   "cell_type": "code",
   "execution_count": 4,
   "metadata": {},
   "outputs": [
    {
     "name": "stdout",
     "output_type": "stream",
     "text": [
      "A soma dos 2 valores digitados foi: 999\n"
     ]
    }
   ],
   "source": [
    "#Valores -> Soma(desconsiderando o flag)\n",
    "n = s = c = 0\n",
    "while True:\n",
    "    n = int(input('Digite um número: (999 para parar)'))\n",
    "    if n == 999:\n",
    "        break\n",
    "    s += n\n",
    "    c += 1\n",
    "print(f'A soma dos {c} valores digitados foi: {s}')"
   ]
  },
  {
   "cell_type": "markdown",
   "metadata": {},
   "source": [
    "Desafio #067"
   ]
  },
  {
   "cell_type": "code",
   "execution_count": 5,
   "metadata": {},
   "outputs": [
    {
     "name": "stdout",
     "output_type": "stream",
     "text": [
      "-=-=-=-=-=-=-=-=-=-=-=-=-=-=-=-=-=-=-=-=-=-=-=-=-=\n",
      "Tabuada do 5\n",
      "-=-=-=-=-=-=-=-=-=-=-=-=-=-=-=-=-=-=-=-=-=-=-=-=-=\n",
      "5 x 1 = 5\n",
      "5 x 2 = 10\n",
      "5 x 3 = 15\n",
      "5 x 4 = 20\n",
      "5 x 5 = 25\n",
      "5 x 6 = 30\n",
      "5 x 7 = 35\n",
      "5 x 8 = 40\n",
      "5 x 9 = 45\n",
      "5 x 10 = 50\n",
      "-=-=-=-=-=-=-=-=-=-=-=-=-=-=-=-=-=-=-=-=-=-=-=-=-=\n",
      "Tabuada do 45\n",
      "-=-=-=-=-=-=-=-=-=-=-=-=-=-=-=-=-=-=-=-=-=-=-=-=-=\n",
      "-=-=-=-=-=-=-=-=-=-=-=-=-=-=-=-=-=-=-=-=-=-=-=-=-=\n",
      "Tabuada do -1\n",
      "-=-=-=-=-=-=-=-=-=-=-=-=-=-=-=-=-=-=-=-=-=-=-=-=-=\n"
     ]
    }
   ],
   "source": [
    "#tabuada de valores positivos:\n",
    "n = p = 0\n",
    "c = 1\n",
    "while True:\n",
    "    print('-='*25)\n",
    "    n = int(input('Deseja ver a tabuada de qual número: '))\n",
    "    print(f'Tabuada do {n}')\n",
    "    print('-='*25)\n",
    "    if n < 0:\n",
    "        break\n",
    "    while c <= 10:\n",
    "        print(f'{n} x {c} = {n*c}')\n",
    "        c += 1"
   ]
  },
  {
   "cell_type": "markdown",
   "metadata": {},
   "source": [
    "Desafio #068"
   ]
  },
  {
   "cell_type": "code",
   "execution_count": 8,
   "metadata": {},
   "outputs": [
    {
     "name": "stdout",
     "output_type": "stream",
     "text": [
      "Você vai jogar Par ou Ímpar com o computador!\n",
      "********************************************************************************\n",
      "1ª Rodada!!\n",
      "========================================\n",
      "A soma dos valores deu 8.\n",
      "PAR\n",
      "-=-=-=-=-=-=-=-=-=-=-=-=-=-=-=-=-=-=-=-=\n",
      "Você PERDEU!!!\n",
      "----------------------------------------\n",
      "GAME OVER! Você venceu 0 vezes.\n"
     ]
    }
   ],
   "source": [
    "#par ou ímpar, se eu perder (stop), quantas vitórias?:\n",
    "from random import randint\n",
    "print('Você vai jogar Par ou Ímpar com o computador!')\n",
    "n = s = c = 0\n",
    "r = 1\n",
    "while True:\n",
    "    comp = randint(0, 10)\n",
    "    print('**'*40)\n",
    "    print(f'{r}ª Rodada!!')\n",
    "    n = 0\n",
    "    while n not in range(1, 11):\n",
    "        n = int(input('Diga um valor: (Entre 0 e 10)'))\n",
    "    p = ' '\n",
    "    while p not in 'PpIi':\n",
    "        p = str(input('Par ou Ímpar? [P/I]')).strip().upper()[0]\n",
    "    s = comp + n\n",
    "    print('=='*20)\n",
    "    print(f'A soma dos valores deu {s}.')\n",
    "    if s%2==0:\n",
    "        print('PAR')\n",
    "        print('-='*20)\n",
    "        if p in 'Pp':\n",
    "            print('Você VENCEU!!!')\n",
    "            r += 1\n",
    "            c += 1\n",
    "        else:\n",
    "            break\n",
    "    else:\n",
    "        print('ÍMPAR')\n",
    "        print('-='*20)\n",
    "        if p in 'Ii':\n",
    "            print('Você VENCEU!!!')\n",
    "            r += 1\n",
    "            c += 1\n",
    "        else:\n",
    "            break\n",
    "    print('Vamos jogar novamente...')\n",
    "print('Você PERDEU!!!')\n",
    "print('--'*20)\n",
    "print(f'GAME OVER! Você venceu {c} vezes.')"
   ]
  },
  {
   "cell_type": "markdown",
   "metadata": {},
   "source": [
    "Desafio #069"
   ]
  },
  {
   "cell_type": "code",
   "execution_count": 1,
   "metadata": {},
   "outputs": [
    {
     "name": "stdout",
     "output_type": "stream",
     "text": [
      "a) 1 pessoas com 18 ou mais anos de idade foram cadastradas.\n",
      "b) 2 homens foram cadastrados.\n",
      "c) 0 mulheres com 20 anos ou menos anos de idade foram cadastradas.\n",
      "d) 0 pessoas com o sexo não binário foram cadastrados.\n"
     ]
    }
   ],
   "source": [
    "#idade e sexo (várias pessoas) -> quer continuar? -> i) mais de 18; ii) homens; iii) mulheres com menos de 20;\n",
    "idade = tot18 = totm = totf20 = o = 0\n",
    "while True:\n",
    "    idade = int(input('Qual é a sua idade?'))\n",
    "    sexo = ' '\n",
    "    while sexo not in 'MmFfOo':\n",
    "        sexo = str(input('Qual é o seu sexo? [M/F/O]')).strip().upper()[0]\n",
    "    if sexo in 'Oo':\n",
    "        o += 1\n",
    "        sexo = str(input('Digite o seu Sexo: ')).strip().capitalize()\n",
    "    if idade >= 18:\n",
    "        tot18 += 1\n",
    "    if sexo in 'Mm':\n",
    "        totm += 1\n",
    "    if sexo in 'Ff':\n",
    "        if idade <= 20:\n",
    "            totf20 += 1\n",
    "    cont = ' '\n",
    "    while cont not in 'SsNn':\n",
    "        cont = str(input('Deseja continuar? [S/N]')).strip().upper()[0]\n",
    "    if cont in 'Nn':\n",
    "        break\n",
    "print(f'a) {tot18} pessoas com 18 ou mais anos de idade foram cadastradas.')\n",
    "print(f'b) {totm} homens foram cadastrados.')\n",
    "print(f'c) {totf20} mulheres com 20 anos ou menos anos de idade foram cadastradas.')\n",
    "print(f'd) {o} pessoas com o sexo não binário foram cadastrados.')"
   ]
  },
  {
   "cell_type": "markdown",
   "metadata": {},
   "source": [
    "Desafio #070"
   ]
  },
  {
   "cell_type": "code",
   "execution_count": 9,
   "metadata": {},
   "outputs": [
    {
     "name": "stdout",
     "output_type": "stream",
     "text": [
      "****************************************\n",
      "LOJA SUPER BARATÃO\n",
      "****************************************\n"
     ]
    }
   ],
   "source": [
    "#produto (nome e preço) -> deseja continuar? -> i) total gasto; ii) produtos que custam mais de 1000; iii) mais barato.\n",
    "s = m = barato = 0\n",
    "cont = 1\n",
    "mprod = ''\n",
    "print('**'*20)\n",
    "print('LOJA SUPER BARATÃO')\n",
    "print('**'*20)\n",
    "while True:\n",
    "    prod = str(input(f'{cont}º produto'))\n",
    "    preço = float(input('Preço: R$'))\n",
    "    s += preço\n",
    "    if preço >= 1000:\n",
    "        m += 1\n",
    "    if cont == 1 or preço < barato:\n",
    "        barato = preço\n",
    "        mprod = prod\n",
    "    cont += 1\n",
    "    resp = ' '\n",
    "    while resp not in 'SsNn':\n",
    "        resp = str(input('Deseja continuar? [S/N]')).strip().upper()[0]\n",
    "    if resp in 'Nn':\n",
    "        break\n",
    "print('-------FIM DO PROGRAMA-------')\n",
    "print(f'a) O total da compra foi R${s:.2f}.')\n",
    "print(f'b) Temos {m} produtos que custam mais de R$1000,00.')\n",
    "print(f'c) O produto mais barato foi {mprod} que custa R${barato:.2f}')"
   ]
  },
  {
   "cell_type": "markdown",
   "metadata": {},
   "source": [
    "Desafio #071"
   ]
  },
  {
   "cell_type": "code",
   "execution_count": 7,
   "metadata": {},
   "outputs": [],
   "source": [
    "#caixa eletrônico -> valor sacado -> cédulas entregue (50, 20, 10, 01)\n",
    "cinq = vint = dez = um = 0\n",
    "print('=='*25)\n",
    "print('{:^30}'.format('BANCO DAS NOTAS'))\n",
    "print('**'*25)\n",
    "sac = int(input('Que valor você quer sacar? R$'))\n",
    "total = sac\n",
    "ced = 50\n",
    "quanced = 0\n",
    "while True:\n",
    "    if total >= ced:\n",
    "        total -= ced\n",
    "        quanced += 1 \n",
    "    else:\n",
    "        if quanced > 0:\n",
    "            print(f'Total de {quanced} cédulas de R${ced}.')   \n",
    "        if ced == 50:\n",
    "            ced = 20\n",
    "        elif ced == 20:\n",
    "            ced = 10\n",
    "        elif ced == 10:\n",
    "            ced == 1\n",
    "        quanced = 0\n",
    "        if total == 0:\n",
    "            break\n",
    "print('=='*25)\n",
    "print('Volte sempre')"
   ]
  }
 ],
 "metadata": {
  "kernelspec": {
   "display_name": "Python 3.10.6 64-bit (windows store)",
   "language": "python",
   "name": "python3"
  },
  "language_info": {
   "codemirror_mode": {
    "name": "ipython",
    "version": 3
   },
   "file_extension": ".py",
   "mimetype": "text/x-python",
   "name": "python",
   "nbconvert_exporter": "python",
   "pygments_lexer": "ipython3",
   "version": "3.10.6"
  },
  "orig_nbformat": 4,
  "vscode": {
   "interpreter": {
    "hash": "a09cfbe1da184d0f7af3839d38d8b0444656c81e00c4112e35b5e08da3441a1d"
   }
  }
 },
 "nbformat": 4,
 "nbformat_minor": 2
}
