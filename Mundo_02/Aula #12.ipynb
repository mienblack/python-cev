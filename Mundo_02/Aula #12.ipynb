{
 "cells": [
  {
   "cell_type": "markdown",
   "metadata": {},
   "source": [
    "Condições Aninhadas"
   ]
  },
  {
   "cell_type": "code",
   "execution_count": 1,
   "metadata": {},
   "outputs": [
    {
     "name": "stdout",
     "output_type": "stream",
     "text": [
      "Bom dia Damien.\n",
      "Nome zika bro!!\n"
     ]
    }
   ],
   "source": [
    "nome = str(input('Qual o seu nome?'))\n",
    "print('Bom dia {}.'.format(nome))\n",
    "if nome == 'Damien':\n",
    "    print('Nome zika bro!!')\n",
    "elif nome == 'Rafael':\n",
    "    print('NomelLegal')\n",
    "elif nome == 'Gustavo':\n",
    "    print('Nome padrão')\n",
    "else:\n",
    "    print('Nome normalzinho.')"
   ]
  },
  {
   "cell_type": "markdown",
   "metadata": {},
   "source": [
    "Desafio 036"
   ]
  },
  {
   "cell_type": "code",
   "execution_count": 3,
   "metadata": {},
   "outputs": [
    {
     "name": "stdout",
     "output_type": "stream",
     "text": [
      "O valor da prestação da casa excede 30% do seu salário\n"
     ]
    }
   ],
   "source": [
    "# Aprovar empréstimo bancário -> valor da casa? valor do salário? em quantos anos vai pagar? >> não pode exceder 30% do salário a prestação mensal\n",
    "valor = float(input('Qual  o valor da casa a ser pago?'))\n",
    "salário = float(input('Qual é o seu salário?'))\n",
    "tempo = float(input('Em quantos anos você vai pagar?'))\n",
    "pm = valor/(tempo * 12)\n",
    "if pm > salário * (0.3):\n",
    "    print('O valor da prestação da casa excede 30% do seu salário')\n",
    "else:\n",
    "    print('A prestação mensal da casa será R${:.2f} e será paga em {} anos. Empréstimo garantido.'.format(pm, tempo))"
   ]
  },
  {
   "cell_type": "markdown",
   "metadata": {},
   "source": [
    "Desafio 037"
   ]
  },
  {
   "cell_type": "code",
   "execution_count": 4,
   "metadata": {},
   "outputs": [
    {
     "name": "stdout",
     "output_type": "stream",
     "text": [
      "O número foi convertido para 101 em BINÁRIO.\n"
     ]
    }
   ],
   "source": [
    "# Um núm. inteiro -> qual base de conversão: 1 para binário; 2 para octal; 3 para hexadecimal.\n",
    "num = int(input('Digite um número:'))\n",
    "con = int(input('Para converter digite:\\n[ 1 ] BINÃRIO\\n[ 2 ] OCTAL\\n[ 3 ] HEXADECIMAL'))\n",
    "if con == 1:\n",
    "    print('O número foi convertido para {} em BINÁRIO.'.format(bin(num)[2:]))\n",
    "elif con == 2:\n",
    "    print('O número foi convertido para {} em OCTAL.'.format(oct(num)[2:]))\n",
    "elif con == 3:\n",
    "    print('O número foi convertido para {} em HEXADECIMAL.'.format(hex(num)[2:]))\n",
    "else:\n",
    "    print('Você digitou um número fora daas opções.')"
   ]
  },
  {
   "cell_type": "markdown",
   "metadata": {},
   "source": [
    "Desafio 038"
   ]
  },
  {
   "cell_type": "code",
   "execution_count": 5,
   "metadata": {},
   "outputs": [
    {
     "name": "stdout",
     "output_type": "stream",
     "text": [
      "O segundo valor é maior.\n"
     ]
    }
   ],
   "source": [
    "# dois num. inteiros -> O primeiro é maior; O segundo é maior; São iguais.\n",
    "num1 = int(input('Digite o primeiro vslor:'))\n",
    "num2 = int(input('Digite o segundo valor:'))\n",
    "if num1 > num2:\n",
    "    print('O primeiro valor é maior.')\n",
    "elif num2 > num1:\n",
    "    print('O segundo valor é maior.')\n",
    "elif num2 == num1:\n",
    "    print('O dois valores são iguais')\n",
    "else:\n",
    "    print('Não está dentro das operações, tente novamente.')"
   ]
  },
  {
   "cell_type": "markdown",
   "metadata": {},
   "source": [
    "Desafio 039"
   ]
  },
  {
   "cell_type": "code",
   "execution_count": 7,
   "metadata": {},
   "outputs": [
    {
     "name": "stdout",
     "output_type": "stream",
     "text": [
      "Seu período de alistamento se passou.\n",
      "Se passaram 2 anos desde o seu período de alistamento.\n",
      "Você deveria ter se alistado em 2020.\n"
     ]
    }
   ],
   "source": [
    "# Ano de nascimento -> vai se alistar; hora de se alistar; passou o tempo de se alistar; (tempo que falta e quanto tempo já passou)\n",
    "import datetime\n",
    "ano = int(input('Qual o seu ano de nascimento?'))\n",
    "idade = datetime.date.today().year - ano\n",
    "if idade == 18:\n",
    "    print('Hora de se alistar!!!')\n",
    "elif idade > 18:\n",
    "    print('Seu período de alistamento se passou.\\nSe passaram {} anos desde o seu período de alistamento.\\nVocê deveria ter se alistado em {}.'.format(idade - 18, (datetime.date.today().year) - (idade - 18)))\n",
    "elif idade < 18:\n",
    "    print('O seu período de se alistar não chegou ainda.\\nFalta {} anos para seu alistamento.\\nVocê deve se alistar no ano {}.'.format(18 - idade, (datetime.date.today().year) + (18 - idade)))"
   ]
  },
  {
   "cell_type": "markdown",
   "metadata": {},
   "source": [
    "Desafio 040"
   ]
  },
  {
   "cell_type": "code",
   "execution_count": 8,
   "metadata": {},
   "outputs": [
    {
     "name": "stdout",
     "output_type": "stream",
     "text": [
      "RECUPERAÇÃO ;)\n"
     ]
    }
   ],
   "source": [
    "# Duas notas -> reprov se <5, aprov se >7 e recup se entre 5 e 6.9\n",
    "g1 = float(input('Primeira nota:'))\n",
    "g2 = float(input('Segunda nota:'))\n",
    "média = (g1 + g2)/2\n",
    "if média >= 7:\n",
    "    print('APROVADO!!!')\n",
    "elif média > 5:\n",
    "    print('RECUPERAÇÃO ;)')\n",
    "else:\n",
    "    print('REPROVADO :(')"
   ]
  },
  {
   "cell_type": "markdown",
   "metadata": {},
   "source": [
    "Desafio 041"
   ]
  },
  {
   "cell_type": "code",
   "execution_count": 10,
   "metadata": {},
   "outputs": [
    {
     "name": "stdout",
     "output_type": "stream",
     "text": [
      "Você é um nadador SÊNIOR\n"
     ]
    }
   ],
   "source": [
    "#Ano de nascimento -> mirim >> até 9; infantil >> até 14; junior >> até 19; sênior >> até 20; Acima >> Master.\n",
    "from datetime import date\n",
    "ano = int(input('Qual seu ano de nascimento?'))\n",
    "idade = date.today().year - ano\n",
    "if idade >= 25:\n",
    "    print('Você é um nadador MASTER.')\n",
    "elif idade >= 19:\n",
    "    print('Você é um nadador SÊNIOR')\n",
    "elif idade >= 14:\n",
    "    print('Você é um nadador JUNIOR')\n",
    "elif idade >= 9:\n",
    "    print('Você é um nadador INFANTIL')\n",
    "elif idade < 9:\n",
    "    print('Você é um nadador MIRIM')\n",
    "else:\n",
    "    print('Coloque o ano novamente.')"
   ]
  },
  {
   "cell_type": "markdown",
   "metadata": {},
   "source": [
    "Desafio 042"
   ]
  },
  {
   "cell_type": "code",
   "execution_count": 11,
   "metadata": {},
   "outputs": [
    {
     "name": "stdout",
     "output_type": "stream",
     "text": [
      "Pode ser um triângulo.\n",
      "É um triângulo equilátero.\n"
     ]
    }
   ],
   "source": [
    "# Comprimento das retas -> É tring? se for é euquilátero, isóceles ou escaleno.\n",
    "r1 = float(input('Qual o comprimento da primeira reta?'))\n",
    "r2 = float(input('Qual o comprimento da segunda reta?'))\n",
    "r3 = float(input('Qual o coprimento da terceira reta?'))\n",
    "if r1+r2 < r3:\n",
    "    print('Não podem ser um triângulo.')\n",
    "elif r1+r3 <  r2:\n",
    "    print('Não podem ser um triângulo.')\n",
    "elif r2+r3 < r1:\n",
    "    print('Não podem ser um triângulo.')\n",
    "else:\n",
    "    print('Pode ser um triângulo.')\n",
    "    \n",
    "    if r1 == r2 ==r3:\n",
    "        print('É um triângulo equilátero.')\n",
    "        \n",
    "    elif r1 == r2 or r1 == r3 or r2 ==r3:\n",
    "        print('É um triângulo Isóceles.')\n",
    "    \n",
    "    else:\n",
    "        print('É um triângulo Escaleno.')\n"
   ]
  },
  {
   "cell_type": "markdown",
   "metadata": {},
   "source": [
    "Desafio 043"
   ]
  },
  {
   "cell_type": "code",
   "execution_count": 12,
   "metadata": {},
   "outputs": [
    {
     "name": "stdout",
     "output_type": "stream",
     "text": [
      "Seu IMC é 25.7.\n",
      "Sobrepeso\n"
     ]
    }
   ],
   "source": [
    "# Peso e altura -> Calcule IMC e mostre a categoria.\n",
    "peso = float(input('Qual é o seu peso?(kg)'))\n",
    "altura = float(input('Qual é a sua altura?(m)'))\n",
    "imc = peso/(altura * altura)\n",
    "print('Seu IMC é {:.1f}.'.format(imc))\n",
    "if imc > 40:\n",
    "    print('Obesidade mórbida')\n",
    "elif imc > 30:\n",
    "    print('Obesidade')\n",
    "elif imc > 25:\n",
    "    print('Sobrepeso')\n",
    "elif imc > 18.5:\n",
    "    print('Peso ideal')\n",
    "else:\n",
    "    print('Abaixo do peso ideal')"
   ]
  },
  {
   "cell_type": "markdown",
   "metadata": {},
   "source": [
    "Desafio 044"
   ]
  },
  {
   "cell_type": "code",
   "execution_count": 1,
   "metadata": {},
   "outputs": [
    {
     "name": "stdout",
     "output_type": "stream",
     "text": [
      "O preço do produto é R$45.00\n",
      "Selecione o forma de pagamento:\n",
      "[1] à vista no dinheiro ou cheque.\n",
      "[2] à vista no cartão\n",
      "[3] em até 2x no cartão.\n",
      "[4] 3x ou mais no cartão.\n",
      "Sua compra será parcelada em 2x de R$21.38 sem juros.\n",
      "O valor total a ser pago é de R$45.00.\n"
     ]
    }
   ],
   "source": [
    "# preço normal e condição de pagamento -> valor\n",
    "pn = float(input('Qual o preço do produto? R$'))\n",
    "print('O preço do produto é R${:.2f}'.format(pn))\n",
    "print('Selecione o forma de pagamento:\\n[1] à vista no dinheiro ou cheque.\\n[2] à vista no cartão\\n[3] em até 2x no cartão.\\n[4] 3x ou mais no cartão.')\n",
    "cp = int(input('Forma de pagamento: '))\n",
    "if cp == 1:\n",
    "    print('O valor a ser pago é de R${:.2f}.'.format(pn - pn*0.1))\n",
    "elif cp == 2:\n",
    "    print('O valor a ser pago é de R${:.2f}.'.format(pn - pn*0.05))\n",
    "elif cp == 3:\n",
    "    print('Sua compra será parcelada em 2x de R${:.2f} sem juros.\\nO valor total a ser pago é de R${:.2f}.'.format((pn - pn*0.05)/2, pn))\n",
    "elif cp == 4:\n",
    "    parcelas = int(input('Quantas parcelas: '))\n",
    "    if parcelas == 1:\n",
    "        print('O valor a ser pago é de R${:.2f}.'.format(pn - pn*0.05))\n",
    "    elif parcelas == 2:\n",
    "        print('Sua compra será parcelada em 2x de R${:.2f}.\\nO valor total a ser pago é de R${}.'.format((pn - pn*0.05)/2, pn - pn*0.05))\n",
    "    elif parcelas >= 3:\n",
    "        print('Sua compra será parcelada em {}x de R${:.2f}.\\nO valor total a ser pago é de R${:.2f}.'.format(parcelas, (pn + pn*0.2)/parcelas, pn + pn*0.2))\n",
    "else:\n",
    "    print('Vocêmnão selecionou o método de pagameto.')"
   ]
  },
  {
   "cell_type": "markdown",
   "metadata": {},
   "source": [
    "Desafio 045"
   ]
  },
  {
   "cell_type": "code",
   "execution_count": 1,
   "metadata": {},
   "outputs": [
    {
     "name": "stdout",
     "output_type": "stream",
     "text": [
      "[0] ✊\n",
      "[1] 🖐️\n",
      "[2] ✌️\n",
      "JO\n",
      "KEN\n",
      "PO\n",
      "-=-=-=-=-=-=-=-=-=-=-=-=-=-=-=-=-=-=-=-=\n",
      "Você Jogou ✊.\n",
      "O Computador Jogou ✊.\n",
      "-=-=-=-=-=-=-=-=-=-=-=-=-=-=-=-=-=-=-=-=\n",
      "EMPATE\n"
     ]
    }
   ],
   "source": [
    "# JOKENPO\n",
    "from random import randint\n",
    "from time import sleep\n",
    "itens = ('✊', '🖐️', '✌️')\n",
    "c = randint(0, 2)\n",
    "print('[0] ✊\\n[1] 🖐️\\n[2] ✌️')\n",
    "j = int(input('Escolha:'))\n",
    "print('JO')\n",
    "sleep(1)\n",
    "print('KEN')\n",
    "sleep(1)\n",
    "print('PO')\n",
    "print('-='*20)\n",
    "print('Você Jogou {}.\\nO Computador Jogou {}.'.format(itens[j], itens[c]))\n",
    "print('-='*20)\n",
    "if j == c:\n",
    "    print('EMPATE')\n",
    "elif j == 0:\n",
    "    if c == 1:\n",
    "        print('PERDEU')\n",
    "    elif c == 2:\n",
    "        print('VENCEU')\n",
    "elif j == 1:\n",
    "    if c == 0:\n",
    "        print('VENCEU')\n",
    "    elif c == 2:\n",
    "        print('PERDEU')\n",
    "elif j == 2:\n",
    "    if c == 0:\n",
    "        print('PERDEU')\n",
    "    elif c == 1:\n",
    "        print('VENCEU')\n",
    "else:\n",
    "    print('Tente denovo.')"
   ]
  }
 ],
 "metadata": {
  "kernelspec": {
   "display_name": "Python 3.10.6 64-bit (windows store)",
   "language": "python",
   "name": "python3"
  },
  "language_info": {
   "codemirror_mode": {
    "name": "ipython",
    "version": 3
   },
   "file_extension": ".py",
   "mimetype": "text/x-python",
   "name": "python",
   "nbconvert_exporter": "python",
   "pygments_lexer": "ipython3",
   "version": "3.10.6"
  },
  "orig_nbformat": 4,
  "vscode": {
   "interpreter": {
    "hash": "a09cfbe1da184d0f7af3839d38d8b0444656c81e00c4112e35b5e08da3441a1d"
   }
  }
 },
 "nbformat": 4,
 "nbformat_minor": 2
}
