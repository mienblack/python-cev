{
 "cells": [
  {
   "cell_type": "markdown",
   "metadata": {},
   "source": [
    "Estrutura de repetição (for)"
   ]
  },
  {
   "cell_type": "markdown",
   "metadata": {},
   "source": [
    "- laço c no intervalo(1,10)\n",
    "-    passo\n",
    "- pega"
   ]
  },
  {
   "cell_type": "code",
   "execution_count": 3,
   "metadata": {},
   "outputs": [
    {
     "name": "stdout",
     "output_type": "stream",
     "text": [
      "Oi!\n",
      "Oi!\n",
      "Oi!\n",
      "Oi!\n",
      "FIM\n"
     ]
    }
   ],
   "source": [
    "for c in range(0,4):\n",
    "    print('Oi!')\n",
    "print('FIM')"
   ]
  },
  {
   "cell_type": "code",
   "execution_count": 2,
   "metadata": {},
   "outputs": [
    {
     "name": "stdout",
     "output_type": "stream",
     "text": [
      "6\n",
      "5\n",
      "4\n",
      "3\n",
      "2\n",
      "1\n",
      "FIM\n"
     ]
    }
   ],
   "source": [
    "for c in range(6,0,-1):\n",
    "    print(c)\n",
    "print('FIM')"
   ]
  },
  {
   "cell_type": "code",
   "execution_count": 1,
   "metadata": {},
   "outputs": [
    {
     "name": "stdout",
     "output_type": "stream",
     "text": [
      "0\n",
      "1\n",
      "2\n",
      "3\n",
      "4\n",
      "5\n",
      "6\n",
      "7\n",
      "8\n",
      "FIM\n"
     ]
    }
   ],
   "source": [
    "n = int(input('Digite um número:'))\n",
    "for c in range(0,n+1):\n",
    "    print(c)\n",
    "print('FIM')"
   ]
  },
  {
   "cell_type": "code",
   "execution_count": 2,
   "metadata": {},
   "outputs": [
    {
     "name": "stdout",
     "output_type": "stream",
     "text": [
      "1\n",
      "2\n",
      "3\n",
      "4\n",
      "5\n",
      "FIM\n"
     ]
    }
   ],
   "source": [
    "i = int(input('Início: '))\n",
    "f = int(input('Fim: '))\n",
    "p = int(input('Passo: '))\n",
    "for d in range(i, f+1, p):\n",
    "    print(d)\n",
    "print('FIM')"
   ]
  },
  {
   "cell_type": "code",
   "execution_count": 12,
   "metadata": {},
   "outputs": [
    {
     "name": "stdout",
     "output_type": "stream",
     "text": [
      "3\n",
      "4\n",
      "O somatório dos números foi 9.\n",
      "FIM\n"
     ]
    }
   ],
   "source": [
    "s = 0\n",
    "for e in range(0, 2):\n",
    "    n = int(input('Digite um número: '))\n",
    "    print(n-1)\n",
    "    s += n\n",
    "print('O somatório dos números foi {}.'.format(s))\n",
    "print('FIM')"
   ]
  },
  {
   "cell_type": "markdown",
   "metadata": {},
   "source": [
    "Desafio 046"
   ]
  },
  {
   "cell_type": "code",
   "execution_count": 1,
   "metadata": {},
   "outputs": [
    {
     "name": "stdout",
     "output_type": "stream",
     "text": [
      "10\n",
      "9\n",
      "8\n",
      "7\n",
      "6\n",
      "5\n",
      "4\n",
      "3\n",
      "2\n",
      "1\n",
      "0\n",
      "ESTOURO!!!\n"
     ]
    }
   ],
   "source": [
    "#Contagem regressiva para fogos de artifício, 10 a 0, com pausa de 1s entre cada.\n",
    "from time import sleep\n",
    "for c in range(10,-1, -1):\n",
    "    print(c)\n",
    "    sleep(1)\n",
    "print('ESTOURO!!!')"
   ]
  },
  {
   "cell_type": "markdown",
   "metadata": {},
   "source": [
    "Desafio 047"
   ]
  },
  {
   "cell_type": "code",
   "execution_count": 2,
   "metadata": {},
   "outputs": [
    {
     "name": "stdout",
     "output_type": "stream",
     "text": [
      "2\n",
      "4\n",
      "6\n",
      "8\n",
      "10\n",
      "12\n",
      "14\n",
      "16\n",
      "18\n",
      "20\n",
      "22\n",
      "24\n",
      "26\n",
      "28\n",
      "30\n",
      "32\n",
      "34\n",
      "36\n",
      "38\n",
      "40\n",
      "42\n",
      "44\n",
      "46\n",
      "48\n",
      "50\n"
     ]
    }
   ],
   "source": [
    "#Todos os núm. pares entre 1 e 50.\n",
    "for d in range(2, 51, 2):\n",
    "    print('{}'.format(d))\n"
   ]
  },
  {
   "cell_type": "markdown",
   "metadata": {},
   "source": [
    "Desafio 048"
   ]
  },
  {
   "cell_type": "code",
   "execution_count": 1,
   "metadata": {},
   "outputs": [
    {
     "name": "stdout",
     "output_type": "stream",
     "text": [
      "A soma dos múltiplos ímpares de três entre 1 e 500 é 20667.\n",
      "Existem 83 números entre 1 e 500 múltipos de 3.\n"
     ]
    }
   ],
   "source": [
    "#A soma entre todos os números ímp. múltiplos de 3, (1,500)\n",
    "soma = 0\n",
    "cont = 0\n",
    "for t in range(0, 500, 3):\n",
    "    if (t%2)!=0:\n",
    "        cont = cont + 1\n",
    "        soma += t\n",
    "print('A soma dos múltiplos ímpares de três entre 1 e 500 é {}.'.format(soma))\n",
    "print('Existem {} números entre 1 e 500 múltipos de 3.'.format(cont))"
   ]
  },
  {
   "cell_type": "markdown",
   "metadata": {},
   "source": [
    "Desafio 049"
   ]
  },
  {
   "cell_type": "code",
   "execution_count": 4,
   "metadata": {},
   "outputs": [
    {
     "name": "stdout",
     "output_type": "stream",
     "text": [
      "9 x 1 = 9\n",
      "9 x 2 = 18\n",
      "9 x 3 = 27\n",
      "9 x 4 = 36\n",
      "9 x 5 = 45\n",
      "9 x 6 = 54\n",
      "9 x 7 = 63\n",
      "9 x 8 = 72\n",
      "9 x 9 = 81\n",
      "9 x 10 = 90\n"
     ]
    }
   ],
   "source": [
    "#tabuada usando laço for\n",
    "tab = int(input('Deseja ver a tabuada de qual número inteiro: '))\n",
    "for t in range(1, 11):\n",
    "    print('{} x {} = {}'.format(tab, t, tab * t))"
   ]
  },
  {
   "cell_type": "markdown",
   "metadata": {},
   "source": [
    "Desafio 050"
   ]
  },
  {
   "cell_type": "code",
   "execution_count": 5,
   "metadata": {},
   "outputs": [
    {
     "name": "stdout",
     "output_type": "stream",
     "text": [
      "Você digitou 6 números pares.\n",
      "A soma dos valores pares dos números escolhidos é 0.\n"
     ]
    }
   ],
   "source": [
    "#6 núm. inteiros -> soma dos valores pares. não considera ímp.\n",
    "s = 0\n",
    "cont = 0\n",
    "for n in range(1, 7):\n",
    "    c = int(input('Digite o {}º valor:'.format(n\n",
    "    )))\n",
    "    if (c%2)==0:\n",
    "        cont += 1\n",
    "        s += c\n",
    "print('Você digitou {} números pares.'.format(cont))\n",
    "print('A soma dos valores pares dos números escolhidos é {}.'.format(s))"
   ]
  },
  {
   "cell_type": "markdown",
   "metadata": {},
   "source": [
    "Desafio 051"
   ]
  },
  {
   "cell_type": "code",
   "execution_count": 7,
   "metadata": {},
   "outputs": [
    {
     "name": "stdout",
     "output_type": "stream",
     "text": [
      "81, \n",
      "90, \n",
      "99, \n",
      "108, \n",
      "117, \n",
      "126, \n",
      "135, \n",
      "144, \n",
      "153, \n",
      "162, \n"
     ]
    }
   ],
   "source": [
    "#Primeiro termo e razão da PA -> 10 primeiros termos\n",
    "i = int(input('Primeiro termo da PA:'))\n",
    "r = int(input('Razão da PA: '))\n",
    "for c in range(0,10):\n",
    "    e = i + r*c\n",
    "    print('{}, '.format(e))"
   ]
  },
  {
   "cell_type": "markdown",
   "metadata": {},
   "source": [
    "Desafio 052"
   ]
  },
  {
   "cell_type": "code",
   "execution_count": 2,
   "metadata": {},
   "outputs": [
    {
     "name": "stdout",
     "output_type": "stream",
     "text": [
      "O número 21 não é primo.\n"
     ]
    }
   ],
   "source": [
    "#inteiro -> primo?\n",
    "n = int(input('Digite um número:'))\n",
    "div = 0\n",
    "for c in range(1, n+1):\n",
    "    if (n%c)==0:\n",
    "        div += 1\n",
    "if div == 2:\n",
    "    print('O número {} é primo.'.format(n))\n",
    "else:\n",
    "    print('O número {} não é primo.'.format(n))\n"
   ]
  },
  {
   "cell_type": "markdown",
   "metadata": {},
   "source": [
    "Desafio 053"
   ]
  },
  {
   "cell_type": "code",
   "execution_count": 3,
   "metadata": {},
   "outputs": [
    {
     "name": "stdout",
     "output_type": "stream",
     "text": [
      "Frase: ARARA\n",
      "Inversa: ARARA\n",
      "A frase ARARA é um palíndromo.\n"
     ]
    }
   ],
   "source": [
    "# Frase -> é palíndromo? (desconsiderando os espaçoes)\n",
    "frase = str(input('Digite uma frase:')).strip().upper()\n",
    "palavras = frase.split()\n",
    "junta = ''.join(palavras)\n",
    "inversa = ''\n",
    "for f in range(len(junta) - 1, -1, -1):\n",
    "    inversa += junta[f]\n",
    "print('Frase: {}\\nInversa: {}'.format(frase, inversa))\n",
    "if junta == inversa:\n",
    "    print('A frase {} é um palíndromo.'.format(frase))\n",
    "else:\n",
    "    print('A frase {} não é um palíndromo.'.format(frase))"
   ]
  },
  {
   "cell_type": "code",
   "execution_count": 4,
   "metadata": {},
   "outputs": [
    {
     "name": "stdout",
     "output_type": "stream",
     "text": [
      "Frase: OLOBO\n",
      "Inversa:  OBOLO\n",
      "A frase O LOBO não é um palíndromo.\n"
     ]
    }
   ],
   "source": [
    "frase = str(input('Digite uma frase: ')).strip().upper()\n",
    "palavras = frase.split()\n",
    "juntas = ''.join(palavras)\n",
    "inverso = juntas[::-1]\n",
    "print('Frase: {}\\nInversa:  {}'.format(juntas, inverso))\n",
    "if juntas == inverso:\n",
    "    print('A frase {} é um palíndromo.'.format(frase))\n",
    "else:\n",
    "    print('A frase {} não é um palíndromo.'.format(frase))\n"
   ]
  },
  {
   "cell_type": "markdown",
   "metadata": {},
   "source": [
    "Desafio 054"
   ]
  },
  {
   "cell_type": "code",
   "execution_count": 49,
   "metadata": {},
   "outputs": [
    {
     "name": "stdout",
     "output_type": "stream",
     "text": [
      "Temos 3 pesssoas maiores de idade.\n",
      "Temos 4 pessoas menores de idade.\n"
     ]
    }
   ],
   "source": [
    "#Ano de nascimento de 7 pessoas -> Quantas atingiram a maioridade e quantas não.\n",
    "from datetime import date\n",
    "anoatual = date.today().year\n",
    "tmaior = 0\n",
    "tmenor = 0\n",
    "for i in range(1, 8):\n",
    "    nasc = int(input('Digite a data de nascimento da {}ª pessoa: '.format(i)))\n",
    "    if anoatual - nasc >= 21:\n",
    "        tmaior += 1\n",
    "    else:\n",
    "        tmenor += 1\n",
    "print('Temos {} pesssoas maiores de idade.'.format(tmaior))\n",
    "print('Temos {} pessoas menores de idade.'.format(tmenor))"
   ]
  },
  {
   "cell_type": "markdown",
   "metadata": {},
   "source": [
    "Desafio 055"
   ]
  },
  {
   "cell_type": "code",
   "execution_count": 50,
   "metadata": {},
   "outputs": [
    {
     "name": "stdout",
     "output_type": "stream",
     "text": [
      "O maior peso foi 158.0kg\n",
      "O menor peso foi 1kg\n"
     ]
    }
   ],
   "source": [
    "#peso de 5 pessoas -> o maior e o menor peso\n",
    "maior = 0\n",
    "menor = 0\n",
    "for p in range(1, 6):\n",
    "    peso = float(input('Digite o peso da {}ª pessoa: '.format(p)))\n",
    "    if p == 1:\n",
    "        maior = p\n",
    "        menor = p\n",
    "    else:\n",
    "        if peso > maior:\n",
    "            maior = peso\n",
    "        if peso < menor:\n",
    "            menor = peso\n",
    "print('O maior peso foi {:.2f}kg'.format(maior))\n",
    "print('O menor peso foi {:.2f}kg'.format(menor))\n"
   ]
  },
  {
   "cell_type": "markdown",
   "metadata": {},
   "source": [
    "Desafio 056"
   ]
  },
  {
   "cell_type": "code",
   "execution_count": 67,
   "metadata": {},
   "outputs": [
    {
     "name": "stdout",
     "output_type": "stream",
     "text": [
      "-----1ªPESSOA-----\n",
      "Nome: Pedro\n",
      "Idade: 20 anos\n",
      "Sexo: M\n",
      "-----2ªPESSOA-----\n",
      "Nome: Clara\n",
      "Idade: 13 anos\n",
      "Sexo: F\n",
      "-----3ªPESSOA-----\n",
      "Nome: Julio\n",
      "Idade: 34 anos\n",
      "Sexo: M\n",
      "-----4ªPESSOA-----\n",
      "Nome: Ira\n",
      "Idade: 20 anos\n",
      "Sexo: F\n",
      "-------------------------\n",
      "A média de idade do grupo é 21.75 anos.\n",
      "A homem mais velho tem 34 anos e se chama Julio.\n",
      "Ao todo são 1 mulheres com mais de 20 anos.\n"
     ]
    }
   ],
   "source": [
    "#nome, idade, sexo de 4 pessoas -> média de idade; nome do homem mais velho; quantas mulhers com menos de 20.\n",
    "sidade = 0\n",
    "midade = 0\n",
    "maioridadeh = 0\n",
    "nomevelho = ''\n",
    "contm = 0\n",
    "for a in range(1,5):\n",
    "    print('-----{}ªPESSOA-----'.format(a))\n",
    "    nome = str(input('Nome: ')).strip().capitalize()\n",
    "    print('Nome: {}'.format(nome))\n",
    "    idade = int(input('Idade: '))\n",
    "    print('Idade: {} anos'.format(idade))\n",
    "    sexo = str(input('Sexo [M/F/O]: ')).strip().upper()\n",
    "    print('Sexo: {}'.format(sexo))\n",
    "    sidade += idade\n",
    "    if a == 1 and sexo == 'M':\n",
    "        maioridadeh = idade\n",
    "        nomevelho = nome\n",
    "    if sexo == 'M' and idade > maioridadeh:\n",
    "        maioridadeh = idade\n",
    "        nomevelho = nome\n",
    "    if sexo == 'F' and idade < 20:\n",
    "        contm += 1\n",
    "\n",
    "print('-'*25)\n",
    "midade = sidade / 4\n",
    "print('A média de idade do grupo é {} anos.'.format(midade))\n",
    "print('A homem mais velho tem {} anos e se chama {}.'.format(maioridadeh, nomevelho))\n",
    "print('Ao todo são {} mulheres com menos de 20 anos.'.format(contm))\n"
   ]
  }
 ],
 "metadata": {
  "kernelspec": {
   "display_name": "Python 3.10.6 64-bit (windows store)",
   "language": "python",
   "name": "python3"
  },
  "language_info": {
   "codemirror_mode": {
    "name": "ipython",
    "version": 3
   },
   "file_extension": ".py",
   "mimetype": "text/x-python",
   "name": "python",
   "nbconvert_exporter": "python",
   "pygments_lexer": "ipython3",
   "version": "3.10.6"
  },
  "orig_nbformat": 4,
  "vscode": {
   "interpreter": {
    "hash": "a09cfbe1da184d0f7af3839d38d8b0444656c81e00c4112e35b5e08da3441a1d"
   }
  }
 },
 "nbformat": 4,
 "nbformat_minor": 2
}
