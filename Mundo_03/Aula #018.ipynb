{
 "cells": [
  {
   "cell_type": "markdown",
   "metadata": {},
   "source": [
    "Listas em Python"
   ]
  },
  {
   "cell_type": "markdown",
   "metadata": {},
   "source": [
    "Parte 02"
   ]
  },
  {
   "cell_type": "code",
   "execution_count": 3,
   "metadata": {},
   "outputs": [
    {
     "name": "stdout",
     "output_type": "stream",
     "text": [
      "Pedro\n",
      "19\n",
      "João\n",
      "['Maria', 19]\n"
     ]
    }
   ],
   "source": [
    "pessoas = [['Pedro', 25], ['Maria', 19], ['João', 32]]\n",
    "print(pessoas[0][0])\n",
    "print(pessoas[1][1])\n",
    "print(pessoas[2][0])\n",
    "print(pessoas[1])"
   ]
  },
  {
   "cell_type": "code",
   "execution_count": 4,
   "metadata": {},
   "outputs": [
    {
     "name": "stdout",
     "output_type": "stream",
     "text": [
      "[['Damien', 19], ['Maria', 22]]\n"
     ]
    }
   ],
   "source": [
    "teste = []\n",
    "teste.append('Damien')\n",
    "teste.append(19)\n",
    "galera = []\n",
    "galera.append(teste[:])\n",
    "teste[0] = 'Maria'\n",
    "teste[1] = 22\n",
    "galera.append(teste[:])\n",
    "print(galera)"
   ]
  },
  {
   "cell_type": "code",
   "execution_count": 7,
   "metadata": {},
   "outputs": [
    {
     "name": "stdout",
     "output_type": "stream",
     "text": [
      "Ana\n",
      "João tem 19 anos de idade.\n",
      "Ana tem 33 anos de idade.\n",
      "Joaquim tem 13 anos de idade.\n",
      "Maria tem 45 anos de idade.\n"
     ]
    }
   ],
   "source": [
    "galeras = [['João', 19], ['Ana', 33], ['Joaquim', 13], ['Maria', 45]]\n",
    "print(galeras[1][0])\n",
    "for p in galeras:\n",
    "    print(f'{p[0]} tem {p[1]} anos de idade.')\n"
   ]
  },
  {
   "cell_type": "code",
   "execution_count": 1,
   "metadata": {},
   "outputs": [
    {
     "name": "stdout",
     "output_type": "stream",
     "text": [
      "[['fe', 44], ['das', 7], ['cer', 21]]\n",
      "fe é maior de idade.\n",
      "das é menor de idade.\n",
      "cer é maior de idade.\n",
      "Temos 2 maiores de idade e 1 menores de idade.\n"
     ]
    }
   ],
   "source": [
    "galera = []\n",
    "dados = []\n",
    "for i in range(0, 3):\n",
    "    dados.append(str(input('Nome: ')))\n",
    "    dados.append(int(input('Idade: ')))\n",
    "    galera.append(dados[:])\n",
    "    dados.clear()\n",
    "print(galera)\n",
    "\n",
    "totmaior = totmenor = 0\n",
    "for p in galera:\n",
    "    if p[1] >= 21:\n",
    "        print(f'{p[0]} é maior de idade.')\n",
    "        totmaior += 1\n",
    "    else:\n",
    "        print(f'{p[0]} é menor de idade.')\n",
    "        totmenor += 1\n",
    "print(f'Temos {totmaior} maiores de idade e {totmenor} menores de idade.')"
   ]
  },
  {
   "cell_type": "markdown",
   "metadata": {},
   "source": [
    "Desafio #084"
   ]
  },
  {
   "cell_type": "code",
   "execution_count": 2,
   "metadata": {},
   "outputs": [
    {
     "name": "stdout",
     "output_type": "stream",
     "text": [
      "[['s', 4.0], ['s', 5.0], ['s', 6.0], ['s', 7.0]]\n",
      "O número de pessoas cadastradas foi de 4.\n",
      "O maior peso foi de 7.0kg. Das pessoas s \n",
      "O menor peso foi de  4.0kg. Das pessoas s "
     ]
    }
   ],
   "source": [
    "#nome e peso -> a) Quantass pessoas; b) Mais pesadas; c) mais leves;\n",
    "dado = []\n",
    "cadastro = []\n",
    "mais = menos = 0\n",
    "while True:\n",
    "    dado.append(str(input('Nome: ')))\n",
    "    dado.append(float(input('Peso: ')))\n",
    "    if len(cadastro) == 0:\n",
    "        mais = menos = dado[1]\n",
    "    else:\n",
    "        if dado[1] >= mais:\n",
    "            mais = dado[1]\n",
    "        if dado[1] <= menos:\n",
    "            menos = dado[1]\n",
    "    cadastro.append(dado[:])\n",
    "    dado.clear()\n",
    "    r = ' '\n",
    "    while r not in 'SsNn':\n",
    "        r = str(input('deseja continuar?[S/N] ')).strip().upper()[0]\n",
    "    if r in 'Nn':\n",
    "        break\n",
    "print(cadastro)\n",
    "print(f'O número de pessoas cadastradas foi de {len(cadastro)}.')\n",
    "print(f'O maior peso foi de {mais}kg. Das pessoas ', end='')\n",
    "for p in cadastro:\n",
    "    if p[1] == mais:\n",
    "        print(f'{p[0]}', end=' ')\n",
    "print()\n",
    "print(f'O menor peso foi de  {menos}kg. Das pessoas ', end='')\n",
    "for p in cadastro:\n",
    "    if p[1] == menos:\n",
    "        print(f'{p[0]}', end=' ')\n"
   ]
  },
  {
   "cell_type": "markdown",
   "metadata": {},
   "source": [
    "Desafio #085"
   ]
  },
  {
   "cell_type": "code",
   "execution_count": 1,
   "metadata": {},
   "outputs": [
    {
     "name": "stdout",
     "output_type": "stream",
     "text": [
      "Os números pares digitados foram: [8, 4, 6]\n",
      "Os números ímpares digitados foram: [7, 7, 5, 9]\n"
     ]
    }
   ],
   "source": [
    "#7 valores -> impares e pares em ordem crescente\n",
    "num = [[], []]\n",
    "for p in range(1, 8):\n",
    "    s = int(input(f'Digite o {p}º número:'))\n",
    "    if s%2==0:\n",
    "        num[0].append(s)\n",
    "    else:\n",
    "        num[1].append(s)\n",
    "print(f'Os números pares digitados foram: {num[0]}')\n",
    "print(f'Os números ímpares digitados foram: {num[1]}')\n",
    "\n"
   ]
  },
  {
   "cell_type": "markdown",
   "metadata": {},
   "source": [
    "Desafio #086"
   ]
  },
  {
   "cell_type": "code",
   "execution_count": 17,
   "metadata": {},
   "outputs": [
    {
     "name": "stdout",
     "output_type": "stream",
     "text": [
      "[  1  ][  2  ][  3  ]\n",
      "[  4  ][  5  ][  6  ]\n",
      "[  7  ][  8  ][  9  ]\n"
     ]
    }
   ],
   "source": [
    "#matriz de dimensão 3x3\n",
    "matrix = [[0, 0, 0], [0, 0, 0], [0, 0, 0]]\n",
    "for r in range(0, 3):\n",
    "    for c in range(0, 3):\n",
    "        matrix[r][c] = int(input(f'Digite um valor para [{r}, {c}]'))\n",
    "\n",
    "for r in range(0, 3):\n",
    "    for c in range(0, 3):\n",
    "        print(f'[{matrix[r][c]:^5}]', end='')\n",
    "    print()\n"
   ]
  },
  {
   "cell_type": "markdown",
   "metadata": {},
   "source": [
    "Desafio #087"
   ]
  },
  {
   "cell_type": "code",
   "execution_count": 9,
   "metadata": {},
   "outputs": [
    {
     "name": "stdout",
     "output_type": "stream",
     "text": [
      "-=-=-=-=-=-=-=-=-=-=-=-=-=-=-=-=-=-=-=-=-=-=-=-=-=\n",
      "[  1  ][  2  ][  3  ]\n",
      "[  4  ][  5  ][  6  ]\n",
      "[  7  ][  8  ][  9  ]\n",
      "-=-=-=-=-=-=-=-=-=-=-=-=-=-=-=-=-=-=-=-=-=-=-=-=-=\n",
      "A soma dos valores pares da matriz foi 20.\n",
      "A soma dos valores da terceira coluna foi 18.\n",
      "O maior valor da segunda coluna foi 6.\n"
     ]
    }
   ],
   "source": [
    "#matriz 3x3 -> a)Soma dos valores pares; b)Soma dos valores da terceira coluna; c)Maior valor da segunda linha;\n",
    "matriz = [[0, 0, 0], [0, 0, 0], [0, 0, 0]]\n",
    "sumpair = sumtcol = mai = 0\n",
    "for r in range(0, 3):\n",
    "    for c in range(0, 3):\n",
    "        matriz[r][c] = int(input(f'Digite um valor na célula [{r}, {c}]:'))\n",
    "print('-='*25)\n",
    "for r in range(0, 3):\n",
    "    for c in range(0, 3):\n",
    "        print(f'[{matriz[r][c]:^5}]', end='')\n",
    "        if matriz[r][c]%2 == 0:\n",
    "            sumpair += matriz[r][c]\n",
    "    print()\n",
    "print('-='*25)\n",
    "print(f'A soma dos valores pares da matriz foi {sumpair}.')\n",
    "for r in range(0, 3):\n",
    "    sumtcol += matriz[r][2]\n",
    "print(f'A soma dos valores da terceira coluna foi {sumtcol}.')\n",
    "for c in range(0, 3):\n",
    "    if c == 0 or matriz[1][c] >= mai:\n",
    "        mai = matriz[1][c]\n",
    "print(f'O maior valor da segunda coluna foi {mai}.')\n"
   ]
  },
  {
   "cell_type": "markdown",
   "metadata": {},
   "source": [
    "Desafio #088"
   ]
  },
  {
   "cell_type": "code",
   "execution_count": 13,
   "metadata": {},
   "outputs": [
    {
     "name": "stdout",
     "output_type": "stream",
     "text": [
      "Jogo 1: [14, 18, 22, 48, 55, 56]\n",
      "Jogo 2: [22, 25, 33, 36, 50, 56]\n",
      "FIM\n"
     ]
    }
   ],
   "source": [
    "#Criar palpites (mega sena) -> Quantos jogos -> (1, 60)\n",
    "from random import randint\n",
    "from time import sleep\n",
    "jogo = []\n",
    "um = []\n",
    "quantos = int(input('Quantos jogos você quer que eu  sorteie?'))\n",
    "total = 1\n",
    "while quantos >= total:\n",
    "    c = 0\n",
    "    while True:\n",
    "        num = randint(1, 60)\n",
    "        if num not in um:\n",
    "            um.append(num)\n",
    "            c += 1\n",
    "        if c >= 6:\n",
    "            break\n",
    "    um.sort()\n",
    "    jogo.append(um[:])\n",
    "    um.clear()\n",
    "    total += 1\n",
    "for j in range(0, len(jogo)):\n",
    "    print(f'Jogo {j+1}: {jogo[j]}')\n",
    "    sleep(1)\n",
    "print('FIM')"
   ]
  },
  {
   "cell_type": "markdown",
   "metadata": {},
   "source": [
    "Desafio #089"
   ]
  },
  {
   "cell_type": "code",
   "execution_count": 9,
   "metadata": {},
   "outputs": [
    {
     "name": "stdout",
     "output_type": "stream",
     "text": [
      "-=-=-=-=-=-=-=-=-=-=-=-=-=-=-=-=-=-=-=-=-=-=-=-=-=\n",
      "nº   Nome    Média\n",
      "--------------------------------------------------\n",
      "0   so   2.0\n",
      "-=-=-=-=-=-=-=-=-=-=-=-=-=-=-=-=-=-=-=-=-=-=-=-=-=\n",
      "so: 2.0, 2.0\n",
      "FIM\n"
     ]
    }
   ],
   "source": [
    "#nome e duas notas -> média -> Notas individuais\n",
    "boletim = []\n",
    "aluno = []\n",
    "while True:\n",
    "    aluno.append(str(input('Nome:')).capitalize())\n",
    "    aluno.append(float(input('Nota 1: ')))\n",
    "    aluno.append(float(input('Nota 2: ')))\n",
    "    boletim.append(aluno[:])\n",
    "    aluno.clear()\n",
    "    r = ' '\n",
    "    while r not in 'NnSs':\n",
    "        r = str(input('Deseja Comtinuar? [S/N]')).strip().upper()[0]\n",
    "    if r in 'Nn':\n",
    "        break\n",
    "print('-='*25)\n",
    "print(f'nº   Nome    Média')\n",
    "print('--'*25)\n",
    "for n in range(0, len(boletim)):\n",
    "    print(f'{n}   {boletim[n][0]}   {(boletim[n][1]+boletim[n][2])/2}')\n",
    "print('-='*25)\n",
    "while True:\n",
    "    s = int(input('Mostar as notas de qual aluno? (999 para parar)'))\n",
    "    if s == 999:\n",
    "        break\n",
    "    print(f'{boletim[s][0]}: {boletim[s][1]}, {boletim[s][2]}')\n",
    "print('FIM')\n"
   ]
  }
 ],
 "metadata": {
  "interpreter": {
   "hash": "346fbeca3117dc23ca25cf18d5ef4ea2d282dc80d0cb6d30ae0f533acd98a276"
  },
  "kernelspec": {
   "display_name": "Python 3.10.4 64-bit",
   "language": "python",
   "name": "python3"
  },
  "language_info": {
   "codemirror_mode": {
    "name": "ipython",
    "version": 3
   },
   "file_extension": ".py",
   "mimetype": "text/x-python",
   "name": "python",
   "nbconvert_exporter": "python",
   "pygments_lexer": "ipython3",
   "version": "3.10.5"
  },
  "orig_nbformat": 4
 },
 "nbformat": 4,
 "nbformat_minor": 2
}
