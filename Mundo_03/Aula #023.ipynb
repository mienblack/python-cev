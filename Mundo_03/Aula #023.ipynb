{
 "cells": [
  {
   "cell_type": "markdown",
   "metadata": {},
   "source": [
    "Tratamento de erros"
   ]
  },
  {
   "cell_type": "code",
   "execution_count": 1,
   "metadata": {},
   "outputs": [
    {
     "ename": "NameError",
     "evalue": "name 'x' is not defined",
     "output_type": "error",
     "traceback": [
      "\u001b[1;31m---------------------------------------------------------------------------\u001b[0m",
      "\u001b[1;31mNameError\u001b[0m                                 Traceback (most recent call last)",
      "\u001b[1;32mc:\\Users\\damie\\OneDrive\\Documentos\\Programação\\Curso em Vídeo\\Python\\Mundo_03\\Aula #023.ipynb Célula: 2\u001b[0m in \u001b[0;36m<cell line: 1>\u001b[1;34m()\u001b[0m\n\u001b[1;32m----> <a href='vscode-notebook-cell:/c%3A/Users/damie/OneDrive/Documentos/Programa%C3%A7%C3%A3o/Curso%20em%20V%C3%ADdeo/Python/Mundo_03/Aula%20%23023.ipynb#W2sZmlsZQ%3D%3D?line=0'>1</a>\u001b[0m \u001b[39mprint\u001b[39m(x)\n",
      "\u001b[1;31mNameError\u001b[0m: name 'x' is not defined"
     ]
    }
   ],
   "source": [
    "print(x)"
   ]
  },
  {
   "cell_type": "markdown",
   "metadata": {},
   "source": [
    "- Caso erro não seja de forma sintática ele é uma excessão"
   ]
  },
  {
   "cell_type": "code",
   "execution_count": 2,
   "metadata": {},
   "outputs": [
    {
     "ename": "ValueError",
     "evalue": "invalid literal for int() with base 10: 'vs'",
     "output_type": "error",
     "traceback": [
      "\u001b[1;31m---------------------------------------------------------------------------\u001b[0m",
      "\u001b[1;31mValueError\u001b[0m                                Traceback (most recent call last)",
      "\u001b[1;32mc:\\Users\\damie\\OneDrive\\Documentos\\Programação\\Curso em Vídeo\\Python\\Mundo_03\\Aula #023.ipynb Célula: 4\u001b[0m in \u001b[0;36m<cell line: 1>\u001b[1;34m()\u001b[0m\n\u001b[1;32m----> <a href='vscode-notebook-cell:/c%3A/Users/damie/OneDrive/Documentos/Programa%C3%A7%C3%A3o/Curso%20em%20V%C3%ADdeo/Python/Mundo_03/Aula%20%23023.ipynb#W6sZmlsZQ%3D%3D?line=0'>1</a>\u001b[0m a \u001b[39m=\u001b[39m \u001b[39mint\u001b[39;49m(\u001b[39minput\u001b[39;49m(\u001b[39m'\u001b[39;49m\u001b[39mNúmero: \u001b[39;49m\u001b[39m'\u001b[39;49m))\n\u001b[0;32m      <a href='vscode-notebook-cell:/c%3A/Users/damie/OneDrive/Documentos/Programa%C3%A7%C3%A3o/Curso%20em%20V%C3%ADdeo/Python/Mundo_03/Aula%20%23023.ipynb#W6sZmlsZQ%3D%3D?line=1'>2</a>\u001b[0m \u001b[39mprint\u001b[39m(\u001b[39mf\u001b[39m\u001b[39m'\u001b[39m\u001b[39mVocê digitou o número \u001b[39m\u001b[39m{\u001b[39;00ma\u001b[39m}\u001b[39;00m\u001b[39m.\u001b[39m\u001b[39m'\u001b[39m)\n",
      "\u001b[1;31mValueError\u001b[0m: invalid literal for int() with base 10: 'vs'"
     ]
    }
   ],
   "source": [
    "a = int(input('Número: '))\n",
    "print(f'Você digitou o número {a}.')"
   ]
  },
  {
   "cell_type": "code",
   "execution_count": 3,
   "metadata": {},
   "outputs": [
    {
     "ename": "ZeroDivisionError",
     "evalue": "division by zero",
     "output_type": "error",
     "traceback": [
      "\u001b[1;31m---------------------------------------------------------------------------\u001b[0m",
      "\u001b[1;31mZeroDivisionError\u001b[0m                         Traceback (most recent call last)",
      "\u001b[1;32mc:\\Users\\damie\\OneDrive\\Documentos\\Programação\\Curso em Vídeo\\Python\\Mundo_03\\Aula #023.ipynb Célula: 5\u001b[0m in \u001b[0;36m<cell line: 1>\u001b[1;34m()\u001b[0m\n\u001b[1;32m----> <a href='vscode-notebook-cell:/c%3A/Users/damie/OneDrive/Documentos/Programa%C3%A7%C3%A3o/Curso%20em%20V%C3%ADdeo/Python/Mundo_03/Aula%20%23023.ipynb#X10sZmlsZQ%3D%3D?line=0'>1</a>\u001b[0m r \u001b[39m=\u001b[39m \u001b[39m2\u001b[39;49m\u001b[39m/\u001b[39;49m\u001b[39m0\u001b[39;49m\n\u001b[0;32m      <a href='vscode-notebook-cell:/c%3A/Users/damie/OneDrive/Documentos/Programa%C3%A7%C3%A3o/Curso%20em%20V%C3%ADdeo/Python/Mundo_03/Aula%20%23023.ipynb#X10sZmlsZQ%3D%3D?line=1'>2</a>\u001b[0m \u001b[39mprint\u001b[39m(r)\n",
      "\u001b[1;31mZeroDivisionError\u001b[0m: division by zero"
     ]
    }
   ],
   "source": [
    "r = 2/0\n",
    "print(r)"
   ]
  },
  {
   "cell_type": "code",
   "execution_count": 4,
   "metadata": {},
   "outputs": [
    {
     "ename": "TypeError",
     "evalue": "unsupported operand type(s) for /: 'int' and 'str'",
     "output_type": "error",
     "traceback": [
      "\u001b[1;31m---------------------------------------------------------------------------\u001b[0m",
      "\u001b[1;31mTypeError\u001b[0m                                 Traceback (most recent call last)",
      "\u001b[1;32mc:\\Users\\damie\\OneDrive\\Documentos\\Programação\\Curso em Vídeo\\Python\\Mundo_03\\Aula #023.ipynb Célula: 6\u001b[0m in \u001b[0;36m<cell line: 1>\u001b[1;34m()\u001b[0m\n\u001b[1;32m----> <a href='vscode-notebook-cell:/c%3A/Users/damie/OneDrive/Documentos/Programa%C3%A7%C3%A3o/Curso%20em%20V%C3%ADdeo/Python/Mundo_03/Aula%20%23023.ipynb#X11sZmlsZQ%3D%3D?line=0'>1</a>\u001b[0m f \u001b[39m=\u001b[39m \u001b[39m2\u001b[39;49m\u001b[39m/\u001b[39;49m\u001b[39m'\u001b[39;49m\u001b[39m2\u001b[39;49m\u001b[39m'\u001b[39;49m\n",
      "\u001b[1;31mTypeError\u001b[0m: unsupported operand type(s) for /: 'int' and 'str'"
     ]
    }
   ],
   "source": [
    "f = 2/'2'"
   ]
  },
  {
   "cell_type": "code",
   "execution_count": 5,
   "metadata": {},
   "outputs": [
    {
     "ename": "IndexError",
     "evalue": "list index out of range",
     "output_type": "error",
     "traceback": [
      "\u001b[1;31m---------------------------------------------------------------------------\u001b[0m",
      "\u001b[1;31mIndexError\u001b[0m                                Traceback (most recent call last)",
      "\u001b[1;32mc:\\Users\\damie\\OneDrive\\Documentos\\Programação\\Curso em Vídeo\\Python\\Mundo_03\\Aula #023.ipynb Célula: 7\u001b[0m in \u001b[0;36m<cell line: 2>\u001b[1;34m()\u001b[0m\n\u001b[0;32m      <a href='vscode-notebook-cell:/c%3A/Users/damie/OneDrive/Documentos/Programa%C3%A7%C3%A3o/Curso%20em%20V%C3%ADdeo/Python/Mundo_03/Aula%20%23023.ipynb#X13sZmlsZQ%3D%3D?line=0'>1</a>\u001b[0m lista \u001b[39m=\u001b[39m [\u001b[39m0\u001b[39m, \u001b[39m1\u001b[39m, \u001b[39m2\u001b[39m]\n\u001b[1;32m----> <a href='vscode-notebook-cell:/c%3A/Users/damie/OneDrive/Documentos/Programa%C3%A7%C3%A3o/Curso%20em%20V%C3%ADdeo/Python/Mundo_03/Aula%20%23023.ipynb#X13sZmlsZQ%3D%3D?line=1'>2</a>\u001b[0m \u001b[39mprint\u001b[39m(lista[\u001b[39m3\u001b[39;49m])\n",
      "\u001b[1;31mIndexError\u001b[0m: list index out of range"
     ]
    }
   ],
   "source": [
    "lista = [0, 1, 2]\n",
    "print(lista[3])"
   ]
  },
  {
   "cell_type": "markdown",
   "metadata": {},
   "source": [
    "Pratica"
   ]
  },
  {
   "cell_type": "code",
   "execution_count": 9,
   "metadata": {},
   "outputs": [
    {
     "name": "stdout",
     "output_type": "stream",
     "text": [
      "Não é possível dividir um número por zero!\n",
      "Volte sempre! Muito Obrigado!\n"
     ]
    }
   ],
   "source": [
    "try:\n",
    "    a = int(input('Numerador: '))\n",
    "    b = int(input('Denominador: '))\n",
    "    d = a/b\n",
    "except (ValueError, TypeError):\n",
    "    print('Tivemos um problema com os tipos de dados que você digitou!')\n",
    "except ZeroDivisionError:\n",
    "    print('Não é possível dividir um número por zero!')\n",
    "except KeyboardInterrupt:\n",
    "    print('O usuário preferiu não informar os dados!')\n",
    "except Exception as erro:\n",
    "    print(f'O erro encontrado foi {erro.__cause__}.')\n",
    "else:\n",
    "    print(f'O resultado da divisão é {d}.')\n",
    "finally:\n",
    "    print('Volte sempre! Muito Obrigado!')"
   ]
  },
  {
   "cell_type": "markdown",
   "metadata": {},
   "source": [
    "Desafio #113"
   ]
  },
  {
   "cell_type": "code",
   "execution_count": 23,
   "metadata": {},
   "outputs": [
    {
     "name": "stdout",
     "output_type": "stream",
     "text": [
      "ERRO: Por favor, digite um valor inteiro válido.\n",
      "ERRO: Por favor, digite um valor inteiro válido.\n",
      "ERRO: Por favor, digite um valor inteiro válido.\n",
      "ERRO: Por favor, digite um valor inteiro válido.\n",
      "ERRO: Por favor, digite um valor inteiro válido.\n",
      "ERRO: Por favor, digite um valor inteiro válido.\n",
      "ERRO: Por favor, digite um valor inteiro válido.\n",
      "O usuário preferiu não digitar esse valor\n",
      "O valor inteiro digitado foi 0 e o real 1.00\n"
     ]
    }
   ],
   "source": [
    "def leiaInt(msg):\n",
    "    ok = False\n",
    "    while not ok:\n",
    "        try:\n",
    "            inteiro = int(input(msg))\n",
    "        except KeyboardInterrupt:\n",
    "            print('O usuário preferiu não digitar esse valor')\n",
    "            ok = True\n",
    "            return 0\n",
    "        except (ValueError, TypeError):\n",
    "            print(f'ERRO: Por favor, digite um valor inteiro válido.')\n",
    "        else:\n",
    "            ok = True\n",
    "            return inteiro\n",
    "\n",
    "def leiaFloat(msg):\n",
    "    ok = False\n",
    "    while not ok:\n",
    "        try:\n",
    "            real = float(input(msg))\n",
    "        except KeyboardInterrupt:\n",
    "            print('O usuário preferiu não digitar esse valor')\n",
    "            ok = True\n",
    "            return 0\n",
    "        except (ValueError, TypeError):\n",
    "            print(f'ERRO: Por favor, digite um valor real válido.')\n",
    "        else:\n",
    "            ok = True\n",
    "            return real\n",
    "\n",
    "a = leiaInt('Digite um número Inteiro: ')\n",
    "b = leiaFloat('Digite um número Real: ')\n",
    "print(f'O valor inteiro digitado foi {a} e o real {b:.2f}')"
   ]
  },
  {
   "cell_type": "markdown",
   "metadata": {},
   "source": [
    "Desafio #114"
   ]
  },
  {
   "cell_type": "code",
   "execution_count": 25,
   "metadata": {},
   "outputs": [
    {
     "name": "stdout",
     "output_type": "stream",
     "text": [
      "Consegui acessar o site pudim com sucesso!\n"
     ]
    }
   ],
   "source": [
    "#Acessar site do pudim\n",
    "import urllib\n",
    "import urllib.request\n",
    "\n",
    "try:\n",
    "    site = urllib.request.urlopen('http://www.pudim.com.br')\n",
    "except urllib.error.URLError:\n",
    "    print(f'O site pudim não está acessível no momento.')\n",
    "else:\n",
    "    print('Consegui acessar o site pudim com sucesso!')"
   ]
  }
 ],
 "metadata": {
  "kernelspec": {
   "display_name": "Python 3.10.6 64-bit (windows store)",
   "language": "python",
   "name": "python3"
  },
  "language_info": {
   "codemirror_mode": {
    "name": "ipython",
    "version": 3
   },
   "file_extension": ".py",
   "mimetype": "text/x-python",
   "name": "python",
   "nbconvert_exporter": "python",
   "pygments_lexer": "ipython3",
   "version": "3.10.6"
  },
  "orig_nbformat": 4,
  "vscode": {
   "interpreter": {
    "hash": "a09cfbe1da184d0f7af3839d38d8b0444656c81e00c4112e35b5e08da3441a1d"
   }
  }
 },
 "nbformat": 4,
 "nbformat_minor": 2
}
