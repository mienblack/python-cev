{
 "cells": [
  {
   "cell_type": "markdown",
   "metadata": {},
   "source": [
    "Funções"
   ]
  },
  {
   "cell_type": "code",
   "execution_count": 3,
   "metadata": {},
   "outputs": [
    {
     "name": "stdout",
     "output_type": "stream",
     "text": [
      "------------------------------------------------------------\n",
      "SPORTS MANGA\n",
      "------------------------------------------------------------\n"
     ]
    }
   ],
   "source": [
    "def title(txt):\n",
    "    print('--'*30)\n",
    "    print(txt)\n",
    "    print('--'*30)\n",
    "\n",
    "#programa principal\n",
    "title('SPORTS MANGA')"
   ]
  },
  {
   "cell_type": "code",
   "execution_count": 5,
   "metadata": {},
   "outputs": [
    {
     "name": "stdout",
     "output_type": "stream",
     "text": [
      "A soma de 7 e 11 é igual a 18.\n",
      "A soma de 9 e 0 é igual a 9.\n",
      "A soma de 21 e 8 é igual a 29.\n"
     ]
    }
   ],
   "source": [
    "def sum(a, b):\n",
    "    print(f'A soma de {a} e {b} é igual a {a+b}.')\n",
    "\n",
    "sum(7, 11)\n",
    "sum(9, 0)\n",
    "sum(21, 8)"
   ]
  },
  {
   "cell_type": "code",
   "execution_count": 6,
   "metadata": {},
   "outputs": [
    {
     "name": "stdout",
     "output_type": "stream",
     "text": [
      "Recebi os valores (1, 2, 4, 6) e são ao todo 4 números.\n",
      "Recebi os valores (2, 2, 2) e são ao todo 3 números.\n"
     ]
    }
   ],
   "source": [
    "def count(*num):\n",
    "    print(f'Recebi os valores {num} e são ao todo {len(num)} números.')\n",
    "\n",
    "count(1, 2, 4, 6)\n",
    "count(2, 2, 2)"
   ]
  },
  {
   "cell_type": "markdown",
   "metadata": {},
   "source": [
    "Desafio #096"
   ]
  },
  {
   "cell_type": "code",
   "execution_count": 1,
   "metadata": {},
   "outputs": [
    {
     "name": "stdout",
     "output_type": "stream",
     "text": [
      "CONTROLE DE TERRENOS\n",
      "------------------------------------------------------------\n",
      "Um terreno de 45.0x28.0 tem área igual a 1260.0 m².\n"
     ]
    }
   ],
   "source": [
    "def area(l, c):\n",
    "    a = l * c\n",
    "    print(f'Um terreno de {l}x{c} tem área igual a {a} m².')\n",
    "\n",
    "print('CONTROLE DE TERRENOS')\n",
    "print('--'*30)\n",
    "l = float(input('Largura (m): '))\n",
    "c = float(input('Comprimento (m): '))\n",
    "area(l, c)"
   ]
  },
  {
   "cell_type": "markdown",
   "metadata": {},
   "source": [
    "Desafio #097"
   ]
  },
  {
   "cell_type": "code",
   "execution_count": 2,
   "metadata": {},
   "outputs": [
    {
     "name": "stdout",
     "output_type": "stream",
     "text": [
      "~~~~~~~~~~~~~~~~~~\n",
      "  Cegueira zika.\n",
      "~~~~~~~~~~~~~~~~~~\n",
      "~~~~~~~~~~~~~~~~~~~~~~~\n",
      "  O mundo não perdoa.\n",
      "~~~~~~~~~~~~~~~~~~~~~~~\n",
      "~~~~~~~~~~~~~~~~~~~~~~~~~~~~~~~~~~~~\n",
      "  Faz até que um pouco de sentido.\n",
      "~~~~~~~~~~~~~~~~~~~~~~~~~~~~~~~~~~~~\n"
     ]
    }
   ],
   "source": [
    "def escreva(frase):\n",
    "    tam = len(frase) + 4\n",
    "    print('~'* tam)\n",
    "    print(f'  {frase}')\n",
    "    print('~'* tam)\n",
    "\n",
    "escreva('Cegueira zika.')\n",
    "escreva('O mundo não perdoa.')\n",
    "escreva('Faz até que um pouco de sentido.')"
   ]
  },
  {
   "cell_type": "markdown",
   "metadata": {},
   "source": [
    "Desafio #098"
   ]
  },
  {
   "cell_type": "code",
   "execution_count": 20,
   "metadata": {},
   "outputs": [
    {
     "name": "stdout",
     "output_type": "stream",
     "text": [
      "=-=-=-=-=-=-=-=-=-=-=-=-=-=-=-=-=-=-=-=-=-=-=-=-=-=-=-=-=-=-\n",
      "Contagem de 1 a 10 de 1 em 1.\n",
      "1 2 3 4 5 6 7 8 9 10 FIM!\n",
      "=-=-=-=-=-=-=-=-=-=-=-=-=-=-=-=-=-=-=-=-=-=-=-=-=-=-=-=-=-=-\n",
      "Contagem de 10 a 0 de 2 em 2.\n",
      "10 8 6 4 2 0 FIM!\n",
      "=-=-=-=-=-=-=-=-=-=-=-=-=-=-=-=-=-=-=-=-=-=-=-=-=-=-=-=-=-=-\n",
      "Agora é sua vez de personalizar uma contagem!\n",
      "=-=-=-=-=-=-=-=-=-=-=-=-=-=-=-=-=-=-=-=-=-=-=-=-=-=-=-=-=-=-\n",
      "Contagem de 4 a 8 de 1 em 1.\n",
      "4 5 6 7 8 FIM!\n"
     ]
    }
   ],
   "source": [
    "from time import sleep\n",
    "\n",
    "def contador(inicio, fim, passo):\n",
    "    if  passo == 0:\n",
    "        passo = 1\n",
    "    print('=-'*30)\n",
    "    print(f'Contagem de {inicio} a {fim} de {passo} em {passo}.')\n",
    "    if inicio <= fim:\n",
    "        for c in range(inicio, fim + 1, passo):\n",
    "            print(f'{c}', end=' ')\n",
    "            sleep(0.5)\n",
    "        print('FIM!')\n",
    "    else:\n",
    "        if passo > 0:\n",
    "            for c in range(inicio, fim - 1, -passo):\n",
    "                print(f'{c}', end=' ')\n",
    "                sleep(0.5)\n",
    "            print('FIM!')\n",
    "        else:\n",
    "            for c in range(inicio, fim - 1, passo):\n",
    "                print(f'{c}', end=' ')\n",
    "                sleep(0.5)\n",
    "            print('FIM!')\n",
    "\n",
    "sleep(2)\n",
    "contador(1, 10, 1)\n",
    "sleep(2)\n",
    "contador(10, 0, 2)\n",
    "sleep(2)\n",
    "print('=-'*30)\n",
    "print(f'Agora é sua vez de personalizar uma contagem!')\n",
    "contador(int(input('Início: ')), int(input('Fim: ')), int(input('Passo: ')))\n"
   ]
  },
  {
   "cell_type": "markdown",
   "metadata": {},
   "source": [
    "Desafio #099"
   ]
  },
  {
   "cell_type": "code",
   "execution_count": 1,
   "metadata": {},
   "outputs": [
    {
     "name": "stdout",
     "output_type": "stream",
     "text": [
      "============================================================\n",
      "Analizando os valores passados...\n",
      "2 1 2 45 4 5 9 \n",
      "Foram informados 7 valores ao todo.\n",
      "O maior valor registrado foi 45.\n",
      "============================================================\n",
      "Analizando os valores passados...\n",
      "3 9 0 7 \n",
      "Foram informados 4 valores ao todo.\n",
      "O maior valor registrado foi 9.\n",
      "============================================================\n",
      "Analizando os valores passados...\n",
      "\n",
      "Foram informados 0 valores ao todo.\n"
     ]
    },
    {
     "ename": "IndexError",
     "evalue": "tuple index out of range",
     "output_type": "error",
     "traceback": [
      "\u001b[1;31m---------------------------------------------------------------------------\u001b[0m",
      "\u001b[1;31mIndexError\u001b[0m                                Traceback (most recent call last)",
      "\u001b[1;32mc:\\Users\\damie\\OneDrive\\Documentos\\Programação\\Curso em Vídeo\\Python\\Mundo_03\\Aula #20.ipynb Célula: 12\u001b[0m in \u001b[0;36m<cell line: 20>\u001b[1;34m()\u001b[0m\n\u001b[0;32m     <a href='vscode-notebook-cell:/c%3A/Users/damie/OneDrive/Documentos/Programa%C3%A7%C3%A3o/Curso%20em%20V%C3%ADdeo/Python/Mundo_03/Aula%20%2320.ipynb#X14sZmlsZQ%3D%3D?line=17'>18</a>\u001b[0m maior(\u001b[39m2\u001b[39m, \u001b[39m1\u001b[39m, \u001b[39m2\u001b[39m, \u001b[39m45\u001b[39m, \u001b[39m4\u001b[39m, \u001b[39m5\u001b[39m, \u001b[39m9\u001b[39m)\n\u001b[0;32m     <a href='vscode-notebook-cell:/c%3A/Users/damie/OneDrive/Documentos/Programa%C3%A7%C3%A3o/Curso%20em%20V%C3%ADdeo/Python/Mundo_03/Aula%20%2320.ipynb#X14sZmlsZQ%3D%3D?line=18'>19</a>\u001b[0m maior(\u001b[39m3\u001b[39m, \u001b[39m9\u001b[39m, \u001b[39m0\u001b[39m, \u001b[39m7\u001b[39m)\n\u001b[1;32m---> <a href='vscode-notebook-cell:/c%3A/Users/damie/OneDrive/Documentos/Programa%C3%A7%C3%A3o/Curso%20em%20V%C3%ADdeo/Python/Mundo_03/Aula%20%2320.ipynb#X14sZmlsZQ%3D%3D?line=19'>20</a>\u001b[0m maior()\n\u001b[0;32m     <a href='vscode-notebook-cell:/c%3A/Users/damie/OneDrive/Documentos/Programa%C3%A7%C3%A3o/Curso%20em%20V%C3%ADdeo/Python/Mundo_03/Aula%20%2320.ipynb#X14sZmlsZQ%3D%3D?line=20'>21</a>\u001b[0m maior(\u001b[39m200\u001b[39m, \u001b[39m1000\u001b[39m, \u001b[39m100000\u001b[39m, \u001b[39m0\u001b[39m, \u001b[39m908\u001b[39m)\n",
      "\u001b[1;32mc:\\Users\\damie\\OneDrive\\Documentos\\Programação\\Curso em Vídeo\\Python\\Mundo_03\\Aula #20.ipynb Célula: 12\u001b[0m in \u001b[0;36mmaior\u001b[1;34m(*valor)\u001b[0m\n\u001b[0;32m      <a href='vscode-notebook-cell:/c%3A/Users/damie/OneDrive/Documentos/Programa%C3%A7%C3%A3o/Curso%20em%20V%C3%ADdeo/Python/Mundo_03/Aula%20%2320.ipynb#X14sZmlsZQ%3D%3D?line=8'>9</a>\u001b[0m \u001b[39mprint\u001b[39m()\n\u001b[0;32m     <a href='vscode-notebook-cell:/c%3A/Users/damie/OneDrive/Documentos/Programa%C3%A7%C3%A3o/Curso%20em%20V%C3%ADdeo/Python/Mundo_03/Aula%20%2320.ipynb#X14sZmlsZQ%3D%3D?line=9'>10</a>\u001b[0m \u001b[39mprint\u001b[39m(\u001b[39mf\u001b[39m\u001b[39m'\u001b[39m\u001b[39mForam informados \u001b[39m\u001b[39m{\u001b[39;00m\u001b[39mlen\u001b[39m(valor)\u001b[39m}\u001b[39;00m\u001b[39m valores ao todo.\u001b[39m\u001b[39m'\u001b[39m)\n\u001b[1;32m---> <a href='vscode-notebook-cell:/c%3A/Users/damie/OneDrive/Documentos/Programa%C3%A7%C3%A3o/Curso%20em%20V%C3%ADdeo/Python/Mundo_03/Aula%20%2320.ipynb#X14sZmlsZQ%3D%3D?line=10'>11</a>\u001b[0m maior \u001b[39m=\u001b[39m valor[\u001b[39m0\u001b[39;49m]\n\u001b[0;32m     <a href='vscode-notebook-cell:/c%3A/Users/damie/OneDrive/Documentos/Programa%C3%A7%C3%A3o/Curso%20em%20V%C3%ADdeo/Python/Mundo_03/Aula%20%2320.ipynb#X14sZmlsZQ%3D%3D?line=11'>12</a>\u001b[0m \u001b[39mfor\u001b[39;00m m \u001b[39min\u001b[39;00m valor:\n\u001b[0;32m     <a href='vscode-notebook-cell:/c%3A/Users/damie/OneDrive/Documentos/Programa%C3%A7%C3%A3o/Curso%20em%20V%C3%ADdeo/Python/Mundo_03/Aula%20%2320.ipynb#X14sZmlsZQ%3D%3D?line=12'>13</a>\u001b[0m     \u001b[39mif\u001b[39;00m m \u001b[39m>\u001b[39m maior:\n",
      "\u001b[1;31mIndexError\u001b[0m: tuple index out of range"
     ]
    }
   ],
   "source": [
    "from time import sleep\n",
    "\n",
    "def maior(*valor):\n",
    "    print('=='*30)\n",
    "    print('Analizando os valores passados...')\n",
    "    sleep(1)\n",
    "    for v in valor:\n",
    "        print(f'{v}', end=' ')\n",
    "    print()\n",
    "    print(f'Foram informados {len(valor)} valores ao todo.')\n",
    "    maior = valor[0]\n",
    "    for m in valor:\n",
    "        if m > maior:\n",
    "            maior = m\n",
    "    print(f'O maior valor registrado foi {maior}.')\n",
    "    sleep(2)\n",
    "\n",
    "maior(2, 1, 2, 45, 4, 5, 9)\n",
    "maior(3, 9, 0, 7)\n",
    "maior()\n",
    "maior(200, 1000, 100000, 0, 908)"
   ]
  },
  {
   "cell_type": "markdown",
   "metadata": {},
   "source": [
    "Desafio #100"
   ]
  },
  {
   "cell_type": "code",
   "execution_count": 60,
   "metadata": {},
   "outputs": [
    {
     "name": "stdout",
     "output_type": "stream",
     "text": [
      "Sorteando 5 valores da lista: 2 2 4 7 4 PRONTO!\n",
      "A soma entre os valores pares de [2, 2, 4, 7, 4] é 12.\n"
     ]
    }
   ],
   "source": [
    "from random import randint\n",
    "num = list()\n",
    "def sorteia():\n",
    "    print('Sorteando 5 valores da lista:', end=' ')\n",
    "    for a in range(0, 5):\n",
    "        num.append(randint(0, 10)) \n",
    "        print(num[a], end=' ')\n",
    "    print('PRONTO!')\n",
    "\n",
    "def somaPar():\n",
    "    sumEven = 0\n",
    "    for v in num:\n",
    "        if v%2 == 0:\n",
    "            sumEven += v\n",
    "    print(f'A soma entre os valores pares de {num} é {sumEven}.')\n",
    "\n",
    "sorteia()\n",
    "somaPar()"
   ]
  }
 ],
 "metadata": {
  "kernelspec": {
   "display_name": "Python 3.10.6 64-bit (windows store)",
   "language": "python",
   "name": "python3"
  },
  "language_info": {
   "codemirror_mode": {
    "name": "ipython",
    "version": 3
   },
   "file_extension": ".py",
   "mimetype": "text/x-python",
   "name": "python",
   "nbconvert_exporter": "python",
   "pygments_lexer": "ipython3",
   "version": "3.10.6"
  },
  "orig_nbformat": 4,
  "vscode": {
   "interpreter": {
    "hash": "a09cfbe1da184d0f7af3839d38d8b0444656c81e00c4112e35b5e08da3441a1d"
   }
  }
 },
 "nbformat": 4,
 "nbformat_minor": 2
}
