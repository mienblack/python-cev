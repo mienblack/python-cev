{
 "cells": [
  {
   "cell_type": "markdown",
   "metadata": {},
   "source": [
    "Tuplas em Python"
   ]
  },
  {
   "cell_type": "markdown",
   "metadata": {},
   "source": [
    "- Variávei compostas recebem mais de um valor\n",
    "    - Tuplas\n",
    "    - Listas\n",
    "    - Dicionários"
   ]
  },
  {
   "cell_type": "markdown",
   "metadata": {},
   "source": [
    "- len -> Comprimento"
   ]
  },
  {
   "cell_type": "markdown",
   "metadata": {},
   "source": [
    "\"As Tuplas são imutáveis.\""
   ]
  },
  {
   "cell_type": "code",
   "execution_count": 9,
   "metadata": {},
   "outputs": [
    {
     "name": "stdout",
     "output_type": "stream",
     "text": [
      "('Hamburger',)\n",
      "4\n"
     ]
    }
   ],
   "source": [
    "lanche = 'Hamburger', 'Suco', 'Pizza', 'Pudim'\n",
    "print(lanche[:1])\n",
    "print(len(lanche))"
   ]
  },
  {
   "cell_type": "code",
   "execution_count": 11,
   "metadata": {},
   "outputs": [
    {
     "name": "stdout",
     "output_type": "stream",
     "text": [
      "Eu vou comer Hamburger na posição 0\n",
      "Eu vou comer Suco na posição 1\n",
      "Eu vou comer Pizza na posição 2\n",
      "Eu vou comer Pudim na posição 3\n",
      "Eu vou comer Batata Frita na posição 4\n",
      "Comi\n"
     ]
    }
   ],
   "source": [
    "lanche = 'Hamburger', 'Suco', 'Pizza', 'Pudim', 'Batata Frita'\n",
    "for cont in range(0, len(lanche)):\n",
    "    print(f'Eu vou comer {lanche[cont]} na posição {cont}')\n",
    "print('Comi')"
   ]
  },
  {
   "cell_type": "code",
   "execution_count": 14,
   "metadata": {},
   "outputs": [
    {
     "name": "stdout",
     "output_type": "stream",
     "text": [
      "Eu vou comer Hamburger na posição 0\n",
      "Eu vou comer Suco na posição 1\n",
      "Eu vou comer Pizza na posição 2\n",
      "Eu vou comer Pudim na posição 3\n",
      "Eu vou comer Batata Frita na posição 4\n"
     ]
    }
   ],
   "source": [
    "lanche = 'Hamburger', 'Suco', 'Pizza', 'Pudim', 'Batata Frita'\n",
    "for pos, c in enumerate(lanche):\n",
    "    print(f'Eu vou comer {c} na posição {pos}')"
   ]
  },
  {
   "cell_type": "code",
   "execution_count": 15,
   "metadata": {},
   "outputs": [
    {
     "name": "stdout",
     "output_type": "stream",
     "text": [
      "['Batata Frita', 'Hamburger', 'Pizza', 'Pudim', 'Suco']\n",
      "('Hamburger', 'Suco', 'Pizza', 'Pudim', 'Batata Frita')\n"
     ]
    }
   ],
   "source": [
    "lanche = 'Hamburger', 'Suco', 'Pizza', 'Pudim', 'Batata Frita'\n",
    "print(sorted(lanche))\n",
    "print(lanche)"
   ]
  },
  {
   "cell_type": "code",
   "execution_count": 5,
   "metadata": {},
   "outputs": [
    {
     "name": "stdout",
     "output_type": "stream",
     "text": [
      "(2, 5, 4, 5, 8, 1, 2)\n",
      "(5, 8, 1, 2, 2, 5, 4)\n",
      "2\n",
      "2\n"
     ]
    }
   ],
   "source": [
    "a = (2, 5, 4)\n",
    "b = (5, 8, 1, 2)\n",
    "c = a + b\n",
    "d = b + a\n",
    "print(c)\n",
    "print(d)\n",
    "print(c.count(5))\n",
    "print(c.index(4))"
   ]
  },
  {
   "cell_type": "code",
   "execution_count": 18,
   "metadata": {},
   "outputs": [
    {
     "name": "stdout",
     "output_type": "stream",
     "text": [
      "('Damien', 19, 'M', 85)\n"
     ]
    }
   ],
   "source": [
    "pessoa = 'Damien', 19, 'M', 85\n",
    "print(pessoa)"
   ]
  },
  {
   "cell_type": "markdown",
   "metadata": {},
   "source": [
    "Desafio #072"
   ]
  },
  {
   "cell_type": "code",
   "execution_count": 8,
   "metadata": {},
   "outputs": [
    {
     "name": "stdout",
     "output_type": "stream",
     "text": [
      "Você digitou o número oito.\n"
     ]
    }
   ],
   "source": [
    "#tupla de 0 à 20 -> nu==úmero por extenso\n",
    "num  = 'zero', 'um', 'dois', 'três', 'quatro', 'cinco', 'seis', 'sete', 'oito', 'nove', 'dez', 'onze', 'doze', 'treze', 'catorze', 'quinze', 'dezesseis', 'dezessete', 'dezenove', 'vinte'\n",
    "while True:\n",
    "    n = int(input('Digite um número entre 0 e 20: '))\n",
    "    if 0 <= n <= 20:\n",
    "        break\n",
    "    print('Tente novamente.', end=' ')\n",
    "print(f'Você digitou o número {num[n]}.')"
   ]
  },
  {
   "cell_type": "markdown",
   "metadata": {},
   "source": [
    "Desafio 073"
   ]
  },
  {
   "cell_type": "code",
   "execution_count": 10,
   "metadata": {},
   "outputs": [
    {
     "name": "stdout",
     "output_type": "stream",
     "text": [
      "Brasileirão série A\n",
      "('Corinthians', 'Santos', 'Avaí', 'América Mineiro', 'Bragantino', 'Atlético Mineiro', 'São Paulo', 'Botafogo', 'Internacional', 'Coritiba', 'Cuiabá', 'Athletico Paranaense', 'Palmeiras', 'Flamengo', 'Fluminense', 'Goiás', 'Ceará', 'Juventude', 'Atlético Goianiense', 'Fortaleza')\n",
      "-=-=-=-=-=-=-=-=-=-=-=-=-=-=-=-=-=-=-=-=-=-=-=-=-=\n",
      "Primeiros 5 colocados:\n",
      "('Corinthians', 'Santos', 'Avaí', 'América Mineiro', 'Bragantino')\n",
      "-=-=-=-=-=-=-=-=-=-=-=-=-=-=-=-=-=-=-=-=-=-=-=-=-=\n",
      "Últimos 4 colocados:\n",
      "('Ceará', 'Juventude', 'Atlético Goianiense', 'Fortaleza')\n",
      "-=-=-=-=-=-=-=-=-=-=-=-=-=-=-=-=-=-=-=-=-=-=-=-=-=\n",
      "Em órdem alfabética:\n",
      "['América Mineiro', 'Athletico Paranaense', 'Atlético Goianiense', 'Atlético Mineiro', 'Avaí', 'Botafogo', 'Bragantino', 'Ceará', 'Corinthians', 'Coritiba', 'Cuiabá', 'Flamengo', 'Fluminense', 'Fortaleza', 'Goiás', 'Internacional', 'Juventude', 'Palmeiras', 'Santos', 'São Paulo']\n",
      "-=-=-=-=-=-=-=-=-=-=-=-=-=-=-=-=-=-=-=-=-=-=-=-=-=\n",
      "Corinthians está na 1ª posição do brasilirão série A.\n"
     ]
    }
   ],
   "source": [
    "#Tabela do brasileirão ->a) os 5 primeiros colocados;b) os 4 últimos;c) Em ordem alfabética; d)Corinthians?\n",
    "brasileirão = 'Corinthians', 'Santos', 'Avaí', 'América Mineiro', 'Bragantino', 'Atlético Mineiro', 'São Paulo', 'Botafogo', 'Internacional', 'Coritiba', 'Cuiabá', 'Athletico Paranaense', 'Palmeiras', 'Flamengo', 'Fluminense', 'Goiás', 'Ceará', 'Juventude', 'Atlético Goianiense', 'Fortaleza'\n",
    "print('Brasileirão série A')\n",
    "print(brasileirão)\n",
    "print('-='*25)\n",
    "print('Primeiros 5 colocados:')\n",
    "print(brasileirão[:5])\n",
    "print('-='*25)\n",
    "print('Últimos 4 colocados:')\n",
    "print(brasileirão[-4:])\n",
    "print('-='*25)\n",
    "print('Em órdem alfabética:')\n",
    "print(sorted(brasileirão))\n",
    "print('-='*25)\n",
    "print(f'Corinthians está na {brasileirão.index(\"Corinthians\") + 1}ª posição do brasileirão série A.')\n"
   ]
  },
  {
   "cell_type": "markdown",
   "metadata": {},
   "source": [
    "Desafio 074"
   ]
  },
  {
   "cell_type": "code",
   "execution_count": 2,
   "metadata": {},
   "outputs": [
    {
     "name": "stdout",
     "output_type": "stream",
     "text": [
      "9 3 7 2 0 \n",
      "O maior valor sorteado foi 9\n",
      "O menor valor sorteado foi 0\n"
     ]
    }
   ],
   "source": [
    "#Cinco números aleatórios ->a)númeors; b)maior; c)menor\n",
    "from random import randint\n",
    "c = randint(0, 10), randint(0, 10), randint(0, 10), randint(0, 10), randint(0, 10)\n",
    "for n in c:\n",
    "    print(n, end=' ')\n",
    "print(f'\\nO maior valor sorteado foi {max(c)}')\n",
    "print(f'O menor valor sorteado foi {min(c)}')"
   ]
  },
  {
   "cell_type": "markdown",
   "metadata": {},
   "source": [
    "Desafio 075"
   ]
  },
  {
   "cell_type": "code",
   "execution_count": 2,
   "metadata": {},
   "outputs": [
    {
     "name": "stdout",
     "output_type": "stream",
     "text": [
      "Você digitou os valores: (7, 5, 3, 9).\n",
      "O valor 9 apareceu 1 vez(es).\n",
      "O número 3 apareceu na 3ª posição.\n",
      "Tem 0 números pares na lista\n"
     ]
    }
   ],
   "source": [
    "#4 valores -> a)Quantas vezes apareceu o 9; b) O primeiro 3; c)Quais números pares.\n",
    "n = int(input('Primeiro número:')), int(input('Segundo número:')), int(input('Terceiro número:')), int(input('Quarto número:'))\n",
    "print(f'Você digitou os valores: {n}.')\n",
    "if 9 in n:\n",
    "    print(f'O valor 9 apareceu {n.count(9)} vez(es).')\n",
    "if 3 in n:\n",
    "    print(f'O número 3 apareceu na {n.index(3)+1}ª posição.')\n",
    "c = 0\n",
    "if n[0]%2 == 0:\n",
    "    c += 1\n",
    "if n[1]%2 == 0:\n",
    "    c += 1\n",
    "if n[2]%2 == 0:\n",
    "    c += 1\n",
    "if n[3]%2 == 0:\n",
    "    c += 1\n",
    "print(f'Tem {c} números pares na lista')\n"
   ]
  },
  {
   "cell_type": "markdown",
   "metadata": {},
   "source": [
    "Desafio 076 "
   ]
  },
  {
   "cell_type": "code",
   "execution_count": 11,
   "metadata": {},
   "outputs": [
    {
     "name": "stdout",
     "output_type": "stream",
     "text": [
      "--------------------------------------------------\n",
      "           LISTAGEM DE PREÇOS           \n",
      "--------------------------------------------------\n",
      "Lápis......................... R$    1.75\n",
      "Borracha...................... R$    0.70\n",
      "Caderno....................... R$   20.00\n",
      "Caneta........................ R$    3.00\n",
      "Lapiseira..................... R$   10.00\n",
      "Grafite....................... R$    5.40\n",
      "--------------------------------------------------\n"
     ]
    }
   ],
   "source": [
    "#Nomes de produtos e seus preços -> Listadem de forma tabular;\n",
    "listagem = ('Lápis', 1.75, 'Borracha', 0.7, 'Caderno', 20, 'Caneta', 3, 'Lapiseira', 10, 'Grafite', 5.4)\n",
    "\n",
    "print('--'*25)\n",
    "print(f'{\"LISTAGEM DE PREÇOS\":^40}')\n",
    "print('--'*25)\n",
    "for pos in range(0, len(listagem)):\n",
    "    if pos%2 == 0:\n",
    "        print(f'{listagem[pos]:.<30} R$', end='')\n",
    "    else:\n",
    "        print(f'{listagem[pos]:>8.2f}')\n",
    "print('--'*25)\n"
   ]
  },
  {
   "cell_type": "markdown",
   "metadata": {},
   "source": [
    "Desafio 077"
   ]
  },
  {
   "cell_type": "code",
   "execution_count": 23,
   "metadata": {},
   "outputs": [
    {
     "name": "stdout",
     "output_type": "stream",
     "text": [
      "\n",
      "Na palavra ZERO temos as vogais: e o \n",
      "Na palavra MACACO temos as vogais: a a o \n",
      "Na palavra GELADO temos as vogais: e a o \n",
      "Na palavra SEGURA temos as vogais: e u a \n",
      "Na palavra DOCE temos as vogais: o e \n",
      "Na palavra ONTEM temos as vogais: o e \n",
      "Na palavra SUPER temos as vogais: u e "
     ]
    }
   ],
   "source": [
    "#várias palavras -> suas vogais\n",
    "word = 'zero', 'macaco', 'gelado', 'segura', 'doce', 'ontem', 'super'\n",
    "for w in word:\n",
    "    print(f'\\nNa palavra {w.upper()} temos as vogais: ', end='')\n",
    "    for letra in w:\n",
    "        if letra.lower() in 'aeiou':\n",
    "            print(f'{letra}', end=' ')\n"
   ]
  }
 ],
 "metadata": {
  "interpreter": {
   "hash": "346fbeca3117dc23ca25cf18d5ef4ea2d282dc80d0cb6d30ae0f533acd98a276"
  },
  "kernelspec": {
   "display_name": "Python 3.10.4 64-bit",
   "language": "python",
   "name": "python3"
  },
  "language_info": {
   "codemirror_mode": {
    "name": "ipython",
    "version": 3
   },
   "file_extension": ".py",
   "mimetype": "text/x-python",
   "name": "python",
   "nbconvert_exporter": "python",
   "pygments_lexer": "ipython3",
   "version": "3.10.4"
  },
  "orig_nbformat": 4
 },
 "nbformat": 4,
 "nbformat_minor": 2
}
