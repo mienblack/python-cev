{
 "cells": [
  {
   "cell_type": "markdown",
   "metadata": {},
   "source": [
    "Listas em Python"
   ]
  },
  {
   "cell_type": "markdown",
   "metadata": {},
   "source": [
    "\"Listas são mutáveis.\""
   ]
  },
  {
   "cell_type": "markdown",
   "metadata": {},
   "source": [
    "- [];\n",
    "- append adiciona valor a lista;\n",
    "- insert abre um espaço para adicionar um item\n",
    "- del, pop, remove -> apaga item s da lista"
   ]
  },
  {
   "cell_type": "code",
   "execution_count": 1,
   "metadata": {},
   "outputs": [
    {
     "name": "stdout",
     "output_type": "stream",
     "text": [
      "[0, 1, 2, 3, 4, 5, 6, 7, 8, 9]\n"
     ]
    }
   ],
   "source": [
    "valores  =list(range(0, 10))\n",
    "print(valores)"
   ]
  },
  {
   "cell_type": "markdown",
   "metadata": {},
   "source": [
    "- sort() ordena valores\n",
    "- sort(reverse=true) ordena inversamente"
   ]
  },
  {
   "cell_type": "code",
   "execution_count": 15,
   "metadata": {},
   "outputs": [
    {
     "name": "stdout",
     "output_type": "stream",
     "text": [
      "[2, 5, 9, 1]\n",
      "[2, 5, 3, 1]\n",
      "[2, 5, 3, 1, 7]\n",
      "[7, 5, 3, 2, 1]\n",
      "[7, 5, 3, 0, 2, 1]\n",
      "[7, 3, 0, 2, 1]\n",
      "<class 'list'>\n",
      "Esta lista tem 4 itens.\n"
     ]
    }
   ],
   "source": [
    "num = [2, 5, 9, 1]\n",
    "print(num)\n",
    "num[2] = 3\n",
    "print(num)\n",
    "num.append(7)\n",
    "print(num)\n",
    "num.sort(reverse=True)\n",
    "print(num)\n",
    "num.insert(3, 0)\n",
    "print(num)\n",
    "num.pop(1)\n",
    "print(num)\n",
    "if 2 in num:\n",
    "    num.remove(2)\n",
    "else:\n",
    "    print('Não achei o número 2.')\n",
    "print(type(num))\n",
    "print(f'Esta lista tem {len(num)} itens.')"
   ]
  },
  {
   "cell_type": "code",
   "execution_count": 16,
   "metadata": {},
   "outputs": [
    {
     "name": "stdout",
     "output_type": "stream",
     "text": [
      "Na posição 0, encontrei o valor 8!\n",
      "Na posição 1, encontrei o valor 9!\n",
      "Na posição 2, encontrei o valor 2!\n",
      "Fim da Lista\n"
     ]
    }
   ],
   "source": [
    "valor = list()\n",
    "for cont in range(0,3):\n",
    "    valor.append(int(input('Digite um valor: ')))\n",
    "for c, v in enumerate(valor):\n",
    "    print(f'Na posição {c}, encontrei o valor {v}!')\n",
    "print('Fim da Lista')"
   ]
  },
  {
   "cell_type": "code",
   "execution_count": 18,
   "metadata": {},
   "outputs": [
    {
     "name": "stdout",
     "output_type": "stream",
     "text": [
      "Lista A: [1, 2, 3, 4];\n",
      "Lista B: [1, 2, 1, 4];\n",
      "Lista C: [1, 2, 3, 4]\n"
     ]
    }
   ],
   "source": [
    "a = [1,2,2,4]\n",
    "c = a\n",
    "c[2] = 3\n",
    "b = a[:]\n",
    "b[2] = 1\n",
    "print(f'Lista A: {a};\\nLista B: {b};\\nLista C: {c}')"
   ]
  },
  {
   "cell_type": "markdown",
   "metadata": {},
   "source": [
    "Desafio #078"
   ]
  },
  {
   "cell_type": "code",
   "execution_count": 1,
   "metadata": {},
   "outputs": [
    {
     "name": "stdout",
     "output_type": "stream",
     "text": [
      "-=-=-=-=-=-=-=-=-=-=-=-=-=-=-=-=-=-=-=-=\n",
      "Você criou a lista [7, 5, 6, 3, 4].\n",
      "O maior valor da lista foi 7 na posições 0...\n",
      "O menor valor da lista foi 3 na posições 3...\n"
     ]
    }
   ],
   "source": [
    "#Lista da 5 valores ->maior e menor valor e suas posições na lista.\n",
    "n = []\n",
    "max = min = 0\n",
    "for i in range(0, 5):\n",
    "    n.append(int(input('Digite um valor: ')))\n",
    "    if i == 0:\n",
    "        max = min = n[i]\n",
    "    else:\n",
    "        if n[i] > max:\n",
    "            max = n[i]\n",
    "        if n[i] < min:\n",
    "            min = n[i]\n",
    "print('-='*20)\n",
    "print(f'Você criou a lista {n}.')\n",
    "\n",
    "print(f'O maior valor da lista foi {max} na posições ', end='')\n",
    "for c, v in enumerate(n):\n",
    "    if v == max:\n",
    "        print(f'{c}...', end='')\n",
    "print()\n",
    "\n",
    "print(f'O menor valor da lista foi {min} na posições ', end='')\n",
    "for c, v in enumerate(n):\n",
    "    if v == min:\n",
    "        print(f'{c}...', end='')\n",
    "print()"
   ]
  },
  {
   "cell_type": "markdown",
   "metadata": {},
   "source": [
    "Desafio #079"
   ]
  },
  {
   "cell_type": "code",
   "execution_count": 18,
   "metadata": {},
   "outputs": [
    {
     "name": "stdout",
     "output_type": "stream",
     "text": [
      "Valor adicionado com sucesso!\n",
      "Você digitou os valores [1].\n"
     ]
    }
   ],
   "source": [
    "#lista de valores não repetidos -> mostrar eem ordem crescente\n",
    "num = list()\n",
    "while True:\n",
    "    a = int(input('Digite um valor:'))\n",
    "    if a not in num:\n",
    "        num.append(a)\n",
    "        print('Valor adicionado com sucesso!')\n",
    "    else:\n",
    "        print('Valor já adicionado!')\n",
    "    while True:\n",
    "        resp = str(input('Deseja Continuar?[S/N]')).strip().upper()[0]\n",
    "        if resp in 'SsNn':\n",
    "            break\n",
    "    if resp in 'Nn':\n",
    "        break\n",
    "num.sort()\n",
    "print(f'Você digitou os valores {num}.')\n"
   ]
  },
  {
   "cell_type": "markdown",
   "metadata": {},
   "source": [
    "Desafio #080 ****"
   ]
  },
  {
   "cell_type": "code",
   "execution_count": 2,
   "metadata": {},
   "outputs": [
    {
     "name": "stdout",
     "output_type": "stream",
     "text": [
      "[4, 5, 7, 8, 8]\n"
     ]
    }
   ],
   "source": [
    "#5 valores -> na posição correta -> lista ordenada\n",
    "lista = []\n",
    "for c in range(0, 5):\n",
    "    l = int(input('Digite um valor: '))\n",
    "    if c == 0 or l > lista[-1]:\n",
    "        lista.append(l)\n",
    "    else:\n",
    "        pos = 0 \n",
    "        while pos <= len(lista):\n",
    "            if l <= lista[pos]:\n",
    "                lista.insert(pos, l)\n",
    "                break\n",
    "            pos += 1\n",
    "print(lista)\n"
   ]
  },
  {
   "cell_type": "markdown",
   "metadata": {},
   "source": [
    "Desafio #081"
   ]
  },
  {
   "cell_type": "code",
   "execution_count": 30,
   "metadata": {},
   "outputs": [
    {
     "name": "stdout",
     "output_type": "stream",
     "text": [
      "Você digitou 3 elementos.\n",
      "Os valores em ordem decrescente são [7, 7, 5].\n",
      "O valor 5 faz parte da lista.\n"
     ]
    }
   ],
   "source": [
    "#vários números -> a)Quantos foram?; b)Decrescente; c)5 está ou não na lista.\n",
    "z = list()\n",
    "while True:\n",
    "    a = int(input('Digite um número:'))\n",
    "    z.append(a)\n",
    "    resp = ' '\n",
    "    while resp not in 'SsNn':\n",
    "        resp = str(input('Deseja continuar?[S/N]')).strip().upper()[0]\n",
    "    if resp in 'Nn':\n",
    "        break\n",
    "print(f'Você digitou {len(z)} elementos.')\n",
    "z.sort(reverse=True)\n",
    "print(f'Os valores em ordem decrescente são {z}.')\n",
    "if 5 in z:\n",
    "    print('O valor 5 faz parte da lista.')\n"
   ]
  },
  {
   "cell_type": "markdown",
   "metadata": {},
   "source": [
    "Desafio #082"
   ]
  },
  {
   "cell_type": "code",
   "execution_count": 4,
   "metadata": {},
   "outputs": [
    {
     "name": "stdout",
     "output_type": "stream",
     "text": [
      "Lista completa: [5]\n",
      "Lista de valores pares: []\n",
      "Lista de valores ímpares: [5]\n"
     ]
    }
   ],
   "source": [
    "#Lista de  vários valores -> a)lista; b)pares; c)impares;\n",
    "x = []\n",
    "p = []\n",
    "i = []  \n",
    "while True:\n",
    "    b = int(input('Digite um valor: '))\n",
    "    x.append(b)\n",
    "    if b%2 == 0:\n",
    "        p.append(b)\n",
    "    else:\n",
    "        i.append(b)\n",
    "    resp = ' '    \n",
    "    while resp not in 'NnSs':\n",
    "        resp = str(input('Deseja continuar? ')).strip().upper()[0]\n",
    "    if resp in 'Nn':\n",
    "        break\n",
    "print(f'Lista completa: {x}')\n",
    "print(f'Lista de valores pares: {p}')\n",
    "print(f'Lista de valores ímpares: {i}')"
   ]
  },
  {
   "cell_type": "markdown",
   "metadata": {},
   "source": [
    "Desafio #083"
   ]
  },
  {
   "cell_type": "code",
   "execution_count": 6,
   "metadata": {},
   "outputs": [
    {
     "name": "stdout",
     "output_type": "stream",
     "text": [
      "A sia expressão está válida.\n"
     ]
    }
   ],
   "source": [
    "#expressão  matemática -> Corre ta ou não (parenteses)\n",
    "exp = str(input('Digite a expressão:'))\n",
    "paren = []\n",
    "for i in exp:\n",
    "    if i == '(':\n",
    "        paren.append('(')\n",
    "    elif i == ')':\n",
    "        if len(paren) > 0:\n",
    "            paren.pop()\n",
    "        else:\n",
    "            paren.append(')')\n",
    "            break\n",
    "if len(paren) == 0:\n",
    "    print('A sua expressão está válida.')\n",
    "else:\n",
    "    print('A sua expressão está inválida.')"
   ]
  },
  {
   "cell_type": "markdown",
   "metadata": {},
   "source": [
    "Parte 02"
   ]
  },
  {
   "cell_type": "code",
   "execution_count": 3,
   "metadata": {},
   "outputs": [
    {
     "name": "stdout",
     "output_type": "stream",
     "text": [
      "Pedro\n",
      "19\n",
      "João\n",
      "['Maria', 19]\n"
     ]
    }
   ],
   "source": [
    "pessoas = [['Pedro', 25], ['Maria', 19], ['João', 32]]\n",
    "print(pessoas[0][0])\n",
    "print(pessoas[1][1])\n",
    "print(pessoas[2][0])\n",
    "print(pessoas[1])"
   ]
  },
  {
   "cell_type": "code",
   "execution_count": 4,
   "metadata": {},
   "outputs": [
    {
     "name": "stdout",
     "output_type": "stream",
     "text": [
      "[['Damien', 19], ['Maria', 22]]\n"
     ]
    }
   ],
   "source": [
    "teste = []\n",
    "teste.append('Damien')\n",
    "teste.append(19)\n",
    "galera = []\n",
    "galera.append(teste[:])\n",
    "teste[0] = 'Maria'\n",
    "teste[1] = 22\n",
    "galera.append(teste[:])\n",
    "print(galera)"
   ]
  },
  {
   "cell_type": "code",
   "execution_count": 7,
   "metadata": {},
   "outputs": [
    {
     "name": "stdout",
     "output_type": "stream",
     "text": [
      "Ana\n",
      "João tem 19 anos de idade.\n",
      "Ana tem 33 anos de idade.\n",
      "Joaquim tem 13 anos de idade.\n",
      "Maria tem 45 anos de idade.\n"
     ]
    }
   ],
   "source": [
    "galeras = [['João', 19], ['Ana', 33], ['Joaquim', 13], ['Maria', 45]]\n",
    "print(galeras[1][0])\n",
    "for p in galeras:\n",
    "    print(f'{p[0]} tem {p[1]} anos de idade.')\n"
   ]
  },
  {
   "cell_type": "code",
   "execution_count": 1,
   "metadata": {},
   "outputs": [
    {
     "name": "stdout",
     "output_type": "stream",
     "text": [
      "[['fe', 44], ['das', 7], ['cer', 21]]\n",
      "fe é maior de idade.\n",
      "das é menor de idade.\n",
      "cer é maior de idade.\n",
      "Temos 2 maiores de idade e 1 menores de idade.\n"
     ]
    }
   ],
   "source": [
    "galera = []\n",
    "dados = []\n",
    "for i in range(0, 3):\n",
    "    dados.append(str(input('Nome: ')))\n",
    "    dados.append(int(input('Idade: ')))\n",
    "    galera.append(dados[:])\n",
    "    dados.clear()\n",
    "print(galera)\n",
    "\n",
    "totmaior = totmenor = 0\n",
    "for p in galera:\n",
    "    if p[1] >= 21:\n",
    "        print(f'{p[0]} é maior de idade.')\n",
    "        totmaior += 1\n",
    "    else:\n",
    "        print(f'{p[0]} é menor de idade.')\n",
    "        totmenor += 1\n",
    "print(f'Temos {totmaior} maiores de idade e {totmenor} menores de idade.')"
   ]
  },
  {
   "cell_type": "markdown",
   "metadata": {},
   "source": [
    "Desafio #084"
   ]
  },
  {
   "cell_type": "code",
   "execution_count": 6,
   "metadata": {},
   "outputs": [
    {
     "name": "stdout",
     "output_type": "stream",
     "text": [
      "[['kcnak', 45.0], ['csa', 78.0], ['cd', 66.0], ['fdsa', 79.0]]\n",
      "O número de pessoas cadastradas foi de 4.\n",
      "O maior peso foi de 79.0kg. Das pessoas ['csa', 'fdsa'].\n",
      "O menor peso foi de  45.0kg. Das pessoas [].\n"
     ]
    }
   ],
   "source": [
    "#nome e peso -> a) Quantass pessoas; b) Mais pesadas; c) mais leves;\n",
    "dado = []\n",
    "cadastro = []\n",
    "mais = menos = 0\n",
    "nmais = []\n",
    "nmenos = []\n",
    "while True:\n",
    "    dado.append(str(input('Nome: ')))\n",
    "    dado.append(float(input('Peso: ')))\n",
    "    cadastro.append(dado[:])\n",
    "    if len(cadastro) == 1:\n",
    "        mais = menos = dado[1]\n",
    "    else:\n",
    "        if dado[1] >= mais:\n",
    "            mais = dado[1]\n",
    "            nmais.append(dado[0])\n",
    "        if dado[1] <= menos:\n",
    "            menos = dado[1]\n",
    "            nmenos.append(dado[0])\n",
    "    dado.clear()\n",
    "    r = ' '\n",
    "    while r not in 'SsNn':\n",
    "        r = str(input('deseja continuar?[S/N] ')).strip().upper()[0]\n",
    "    if r in 'Nn':\n",
    "        break\n",
    "print(cadastro)\n",
    "print(f'O número de pessoas cadastradas foi de {len(cadastro)}.')\n",
    "print(f'O maior peso foi de {mais}kg. Das pessoas {nmais}.')\n",
    "print(f'O menor peso foi de  {menos}kg. Das pessoas {nmenos}.')\n"
   ]
  },
  {
   "cell_type": "markdown",
   "metadata": {},
   "source": [
    "Desafio #085"
   ]
  },
  {
   "cell_type": "code",
   "execution_count": 5,
   "metadata": {},
   "outputs": [
    {
     "ename": "SyntaxError",
     "evalue": "invalid syntax. Perhaps you forgot a comma? (2214553260.py, line 2)",
     "output_type": "error",
     "traceback": [
      "\u001b[1;36m  Input \u001b[1;32mIn [5]\u001b[1;36m\u001b[0m\n\u001b[1;33m    num = list([][])\u001b[0m\n\u001b[1;37m               ^\u001b[0m\n\u001b[1;31mSyntaxError\u001b[0m\u001b[1;31m:\u001b[0m invalid syntax. Perhaps you forgot a comma?\n"
     ]
    }
   ],
   "source": [
    "#7 valores -> impares e pares em ordem crescente\n",
    "num = list()\n",
    "par = []\n",
    "imp = []\n",
    "for p in range(1, 8):\n",
    "    s = int(input(f'Digite o {p}º número:'))\n",
    "    if s%2==0:\n",
    "        num[0].append(s)\n",
    "    else:\n",
    "        num[1].append(s)\n",
    "num.append(par[:])\n",
    "num.append(imp[:])\n",
    "print(f'Os números pares digitados foram: {num[0]}')\n",
    "print(f'Os números ímpares digitados foram: {num[1]}')\n",
    "\n"
   ]
  },
  {
   "cell_type": "markdown",
   "metadata": {},
   "source": [
    "Desafio #086"
   ]
  },
  {
   "cell_type": "code",
   "execution_count": 4,
   "metadata": {},
   "outputs": [
    {
     "name": "stdout",
     "output_type": "stream",
     "text": [
      "[1] [2] [3]\n",
      "[4] [5] [6]\n",
      "[7] [8] [9]\n"
     ]
    }
   ],
   "source": [
    "#matriz de dimensão 3x3\n",
    "linha = []\n",
    "d = []\n",
    "for c in range(0, 3):\n",
    "    d.append(int(input(f'Valor [0, {c}]')))\n",
    "    linha.append(d[:])\n",
    "    d.clear()\n",
    "for c in range(0, 3):\n",
    "    d.append(int(input(f'Valor [1, {c}]')))\n",
    "    linha.append(d[:])\n",
    "    d.clear()\n",
    "for c in range(0, 3):\n",
    "    d.append(int(input(f'Valor [2, {c}]')))\n",
    "    linha.append(d[:])\n",
    "    d.clear()\n",
    "print(linha[0], linha[1], linha[2])\n",
    "print(linha[3], linha[4], linha[5])\n",
    "print(linha[6], linha[7], linha[8])"
   ]
  },
  {
   "cell_type": "markdown",
   "metadata": {},
   "source": [
    "Desafio #087"
   ]
  },
  {
   "cell_type": "code",
   "execution_count": 5,
   "metadata": {},
   "outputs": [
    {
     "name": "stdout",
     "output_type": "stream",
     "text": [
      "[3, 6]\n"
     ]
    }
   ],
   "source": [
    "#matriz 3x3 -> a)Soma dos valores pares; b)Soma dos valores da terceira coluna; c)Maior valor da segunda linha;\n",
    "\n"
   ]
  },
  {
   "cell_type": "markdown",
   "metadata": {},
   "source": [
    "Desafio #088"
   ]
  },
  {
   "cell_type": "code",
   "execution_count": 6,
   "metadata": {},
   "outputs": [
    {
     "name": "stdout",
     "output_type": "stream",
     "text": [
      "Jogo 1: [38, 29, 25, 44, 25, 17]\n",
      "Jogo 2: [19, 1, 53, 38, 41, 39]\n",
      "Jogo 3: [40, 53, 18, 36, 58, 52]\n",
      "Jogo 4: [49, 25, 10, 38, 36, 34]\n",
      "Jogo 5: [45, 34, 56, 16, 39, 30]\n",
      "FIM\n"
     ]
    }
   ],
   "source": [
    "#Criar palpites (mega sena) -> Quantos jogos -> (1, 60)\n",
    "from random import randint\n",
    "jogo = []\n",
    "um = []\n",
    "quantos = int(input('Quantos jogos você quer que eu  sorteie?'))\n",
    "for j in range(0, quantos):\n",
    "    for i in range(0, 6):\n",
    "        um.append(randint(1, 60))\n",
    "    jogo.append(um[:])\n",
    "    um.clear()\n",
    "for j in range(0, len(jogo)):\n",
    "    print(f'Jogo {j+1}: {jogo[j]}')\n",
    "print('FIM')"
   ]
  },
  {
   "cell_type": "markdown",
   "metadata": {},
   "source": [
    "Desafio #089"
   ]
  },
  {
   "cell_type": "code",
   "execution_count": 9,
   "metadata": {},
   "outputs": [
    {
     "name": "stdout",
     "output_type": "stream",
     "text": [
      "-=-=-=-=-=-=-=-=-=-=-=-=-=-=-=-=-=-=-=-=-=-=-=-=-=\n",
      "nº   Nome    Média\n",
      "--------------------------------------------------\n",
      "0   so   2.0\n",
      "-=-=-=-=-=-=-=-=-=-=-=-=-=-=-=-=-=-=-=-=-=-=-=-=-=\n",
      "so: 2.0, 2.0\n",
      "FIM\n"
     ]
    }
   ],
   "source": [
    "#nome e duas notas -> média -> Notas individuais\n",
    "boletim = []\n",
    "aluno = []\n",
    "while True:\n",
    "    aluno.append(str(input('Nome:')).capitalize())\n",
    "    aluno.append(float(input('Nota 1: ')))\n",
    "    aluno.append(float(input('Nota 2: ')))\n",
    "    boletim.append(aluno[:])\n",
    "    aluno.clear()\n",
    "    r = ' '\n",
    "    while r not in 'NnSs':\n",
    "        r = str(input('Deseja Comtinuar? [S/N]')).strip().upper()[0]\n",
    "    if r in 'Nn':\n",
    "        break\n",
    "print('-='*25)\n",
    "print(f'nº   Nome    Média')\n",
    "print('--'*25)\n",
    "for n in range(0, len(boletim)):\n",
    "    print(f'{n}   {boletim[n][0]}   {(boletim[n][1]+boletim[n][2])/2}')\n",
    "print('-='*25)\n",
    "while True:\n",
    "    s = int(input('Mostar as notas de qual aluno? (999 para parar)'))\n",
    "    if s == 999:\n",
    "        break\n",
    "    print(f'{boletim[s][0]}: {boletim[s][1]}, {boletim[s][2]}')\n",
    "print('FIM')\n"
   ]
  }
 ],
 "metadata": {
  "interpreter": {
   "hash": "346fbeca3117dc23ca25cf18d5ef4ea2d282dc80d0cb6d30ae0f533acd98a276"
  },
  "kernelspec": {
   "display_name": "Python 3.10.4 64-bit",
   "language": "python",
   "name": "python3"
  },
  "language_info": {
   "codemirror_mode": {
    "name": "ipython",
    "version": 3
   },
   "file_extension": ".py",
   "mimetype": "text/x-python",
   "name": "python",
   "nbconvert_exporter": "python",
   "pygments_lexer": "ipython3",
   "version": "3.10.5"
  },
  "orig_nbformat": 4
 },
 "nbformat": 4,
 "nbformat_minor": 2
}
