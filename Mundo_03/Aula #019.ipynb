{
 "cells": [
  {
   "cell_type": "markdown",
   "metadata": {},
   "source": [
    "Dicionário Python"
   ]
  },
  {
   "cell_type": "markdown",
   "metadata": {},
   "source": [
    "- {}\n",
    "- Composto de chaves, itens e valores\n",
    "- "
   ]
  },
  {
   "cell_type": "code",
   "execution_count": 1,
   "metadata": {},
   "outputs": [
    {
     "name": "stdout",
     "output_type": "stream",
     "text": [
      "dict_values(['Star Wars', 1977, 'George Lucas'])\n",
      "dict_keys(['título', 'ano', 'diretor'])\n",
      "dict_items([('título', 'Star Wars'), ('ano', 1977), ('diretor', 'George Lucas')])\n"
     ]
    }
   ],
   "source": [
    "filme = {'título':'Star Wars', 'ano':1977, 'diretor':'George Lucas'}\n",
    "print(filme.values())\n",
    "print(filme.keys())\n",
    "print(filme.items())"
   ]
  },
  {
   "cell_type": "code",
   "execution_count": 2,
   "metadata": {},
   "outputs": [
    {
     "name": "stdout",
     "output_type": "stream",
     "text": [
      "{'nome': 'Damien', 'sexo': 'M', 'idade': 19}\n",
      "nome: Damien\n",
      "sexo: M\n",
      "idade: 19\n",
      "{'nome': 'Bon', 'idade': 19}\n"
     ]
    }
   ],
   "source": [
    "pessoas = {'nome': 'Damien', 'sexo': 'M', 'idade': 19}\n",
    "print(pessoas)\n",
    "for k, v in pessoas.items():\n",
    "    print(f'{k}: {v}')\n",
    "pessoas['nome'] = 'Bon'\n",
    "del pessoas['sexo']\n",
    "print(pessoas)\n"
   ]
  },
  {
   "cell_type": "code",
   "execution_count": 3,
   "metadata": {},
   "outputs": [
    {
     "name": "stdout",
     "output_type": "stream",
     "text": [
      "[{'uf': 'Rio de Janeiro', 'sigla': 'RJ'}, {'uf': 'São Paulo', 'sigla': 'SP'}]\n",
      "Rio de Janeiro\n"
     ]
    }
   ],
   "source": [
    "brasil = []\n",
    "estado1 = {'uf': 'Rio de Janeiro', 'sigla': 'RJ'}\n",
    "estado2 = {'uf': 'São Paulo', 'sigla': 'SP'}\n",
    "brasil.append(estado1)\n",
    "brasil.append(estado2)\n",
    "\n",
    "print(brasil)\n",
    "print(brasil[0]['uf'])\n"
   ]
  },
  {
   "cell_type": "code",
   "execution_count": 1,
   "metadata": {},
   "outputs": [
    {
     "name": "stdout",
     "output_type": "stream",
     "text": [
      "[{'uf': 'Sampa', 'sigla': 'SP'}, {'uf': 'Rio', 'sigla': 'RJ'}, {'uf': 'Maranhão', 'sigla': 'MA'}]\n",
      "Sampa SP \n",
      "Rio RJ \n",
      "Maranhão MA \n"
     ]
    }
   ],
   "source": [
    "estado = dict()\n",
    "brasil = list()\n",
    "for c in range(0, 3):\n",
    "    estado['uf'] = str(input('Unidade Federativa: '))\n",
    "    estado['sigla'] = str(input('Sigla do Estado: '))\n",
    "    brasil.append(estado.copy())\n",
    "print(brasil)\n",
    "for e in brasil:\n",
    "    for v in e.values():\n",
    "        print(v, end=' ')\n",
    "    print()\n"
   ]
  },
  {
   "cell_type": "markdown",
   "metadata": {},
   "source": [
    "Desafio #090"
   ]
  },
  {
   "cell_type": "code",
   "execution_count": 1,
   "metadata": {},
   "outputs": [
    {
     "name": "stdout",
     "output_type": "stream",
     "text": [
      "O nome do(a) aluno(a) é Pedro\n",
      "A média do(a) aluno(a) foi 6.9\n",
      "APROVADO!\n"
     ]
    }
   ],
   "source": [
    "#nome e média -> situação\n",
    "aluno = dict()\n",
    "aluno['nome'] = str(input(\"Nome: \"))\n",
    "aluno['média'] = float(input(f'Média de {aluno[\"nome\"]}: '))\n",
    "print(f'O nome do(a) aluno(a) é {aluno[\"nome\"]}')\n",
    "print(f'A média do(a) aluno(a) foi {aluno[\"média\"]}')\n",
    "if aluno['média'] >= 6.5:\n",
    "    print('APROVADO!')\n",
    "else:\n",
    "    print('REPROVADO!')\n"
   ]
  },
  {
   "cell_type": "markdown",
   "metadata": {},
   "source": [
    "Desafio #091"
   ]
  },
  {
   "cell_type": "code",
   "execution_count": 6,
   "metadata": {},
   "outputs": [
    {
     "name": "stdout",
     "output_type": "stream",
     "text": [
      "O Player1 tirou o valor 6 no dado.\n",
      "O Player2 tirou o valor 6 no dado.\n",
      "O Player3 tirou o valor 4 no dado.\n",
      "O Player4 tirou o valor 2 no dado.\n",
      "-=-=-=-=-=-=-=-=-=-=-=-=-=-=-=-=-=-=-=-=-=-=-=-=-=-=-=-=-=-=\n",
      "== RANKING DOS JOGADORES ==\n",
      "1º Lugar: Player1 com valor 6\n",
      "2º Lugar: Player2 com valor 6\n",
      "3º Lugar: Player3 com valor 4\n",
      "4º Lugar: Player4 com valor 2\n"
     ]
    }
   ],
   "source": [
    "#4 pessoas jogam o dado -> posicionar elas\n",
    "from random import randint\n",
    "from time import sleep\n",
    "from operator import itemgetter\n",
    "dice = dict()\n",
    "for p in range(1, 5):\n",
    "    dice[f'Player{p}'] = randint(1,6)\n",
    "ranking = list()\n",
    "ranking = sorted(dice.items(), key=itemgetter(1), reverse=True)\n",
    "for p, v in dice.items():\n",
    "    print(f'O {p} tirou o valor {v} no dado.')\n",
    "    sleep(1)\n",
    "print('-='*30)\n",
    "print('== RANKING DOS JOGADORES ==')\n",
    "for i, p in enumerate(ranking):\n",
    "    print(f'{i+1}º Lugar: {p[0]} com valor {p[1]}')\n"
   ]
  },
  {
   "cell_type": "markdown",
   "metadata": {},
   "source": [
    "Desafio #092"
   ]
  },
  {
   "cell_type": "code",
   "execution_count": 13,
   "metadata": {},
   "outputs": [
    {
     "name": "stdout",
     "output_type": "stream",
     "text": [
      "O trabalhador Damien do sexo M com idade atual de 20 anos, possuidor da carteira de trabalho 234564387 e salário de R$2168.00 irá se aposentar no ano 2054 com a idade de 52.\n"
     ]
    }
   ],
   "source": [
    "#Nome, Ano de nasc., ctps, ano de contratação, aposentadoria(H: 35 anos de de contr. e 60 anos de idade; M: 30 anos de contr. e 57 anos de idade)\n",
    "from datetime import date\n",
    "trab = dict()\n",
    "trab['nome'] = str(input('Nome: '))\n",
    "trab['sexo'] = str(input('Sexo: (M/F)')).strip().upper()[0]\n",
    "ano = int(input('Ano de nascimento: '))\n",
    "trab['idade'] = date.today().year - ano\n",
    "trab['ctps'] = int(input('Carteira de Trabalho: (Digite 0 caso não tenha)'))\n",
    "if trab['ctps'] != 0:\n",
    "    trab['contr'] = int(input('Ano de contratação: '))\n",
    "    trab['sal'] = float(input('Salário: '))\n",
    "    if trab['sexo'] in 'Mm':\n",
    "        trab['apos'] = trab['contr'] + 35\n",
    "    else:\n",
    "        trab['apos'] = trab['contr'] + 30\n",
    "aposid = trab['apos'] - ano\n",
    "print(f'O trabalhador {trab[\"nome\"]} do sexo {trab[\"sexo\"]} com idade atual de {trab[\"idade\"]} anos, possuidor da carteira de trabalho {trab[\"ctps\"]} e salário de R${trab[\"sal\"]:.2f} irá se aposentar no ano {trab[\"apos\"]} com a idade de {aposid}.')"
   ]
  },
  {
   "cell_type": "markdown",
   "metadata": {},
   "source": [
    "Desafio #093"
   ]
  },
  {
   "cell_type": "code",
   "execution_count": 22,
   "metadata": {},
   "outputs": [
    {
     "name": "stdout",
     "output_type": "stream",
     "text": [
      "O jogador Gleimel jogou 2 partidas e fez 4 gols.\n",
      "Na partida 1, fez 1 gols.\n",
      "Na partida 2, fez 3 gols.\n"
     ]
    }
   ],
   "source": [
    "#Jogador -> Quantas partidas, quantos gols em cada partida, total de gols\n",
    "jogador = dict()\n",
    "jogador['nome'] = str(input('Nome do Jogador: '))\n",
    "partidas = int(input(f'Quantas partidas {jogador[\"nome\"]} jogou?'))\n",
    "jogador['gols'] = list()\n",
    "t = 0\n",
    "for g in range(1, (partidas + 1)):\n",
    "    jogador['gols'].append(int(input(f'Gols na partida {g}?')))\n",
    "    t += jogador['gols'][g - 1]\n",
    "jogador['total'] = t\n",
    "print(f'O jogador {jogador[\"nome\"]} jogou {partidas} partidas e fez {jogador[\"total\"]} gols.')\n",
    "for g, p in enumerate(jogador['gols']):\n",
    "    print(f'Na partida {g + 1}, fez {p} gols.')"
   ]
  },
  {
   "cell_type": "markdown",
   "metadata": {},
   "source": [
    "Desafio #094"
   ]
  },
  {
   "cell_type": "code",
   "execution_count": 46,
   "metadata": {},
   "outputs": [
    {
     "name": "stdout",
     "output_type": "stream",
     "text": [
      "-=-=-=-=-=-=-=-=-=-=-=-=-=-=-=-=-=-=-=-=-=-=-=-=-=\n",
      "- 5 pessoas foram cadastradas.\n",
      "- A média de idade é de 21.2 anos.\n",
      "- As mulheres cadastradas foram Larissa, Lorena, Janete.\n",
      "- Lista de pessoas com idade acima da média:\n",
      "Nome = Janete; Sexo: F; Idade: 40\n",
      "Nome = Thiago; Sexo: M; Idade: 37\n"
     ]
    }
   ],
   "source": [
    "#Lista de pessoas{nome, idade, sexo} -> quantas pessoas, média de idade, mulheres cadastradas, lista de pessoas com idade acima da média\n",
    "cad = list()\n",
    "pessoa = dict()\n",
    "mulheres = list()\n",
    "acimaid = list()\n",
    "sidade =  0\n",
    "while True:\n",
    "    pessoa['nome'] = str(input('Nome: ')).capitalize()\n",
    "    pessoa['idade'] = int(input('Idade: '))\n",
    "    while True:\n",
    "        pessoa['sexo'] = str(input('Sexo: [M/F]')).strip().upper()[0]\n",
    "        if pessoa['sexo'] in 'MmFf':\n",
    "            break\n",
    "    if pessoa['sexo'] in 'Ff':\n",
    "        mulheres.append(pessoa['nome'])\n",
    "    cad.append(pessoa.copy())\n",
    "    sidade += pessoa['idade']\n",
    "    r = ' '\n",
    "    while r not in 'NnSs':\n",
    "        r = str(input('Deseja Continuar? [S/N]')).strip().upper()[0]\n",
    "    if r in 'Nn':\n",
    "        break\n",
    "m = sidade/len(cad)\n",
    "print('-='*25)\n",
    "print(f'- {len(cad)} pessoas foram cadastradas.')\n",
    "print(f'- A média de idade é de {m} anos.')\n",
    "print(f'- As mulheres cadastradas foram', end=' ')\n",
    "for k in range(0, len(mulheres)):\n",
    "    print(f'{mulheres[k]}', end='')\n",
    "    if k != len(mulheres) - 1:\n",
    "        print(',', end=' ')\n",
    "    else:\n",
    "        print('.')\n",
    "print('- Lista de pessoas com idade acima da média:')\n",
    "for i, p in enumerate(cad):\n",
    "    if cad[i]['idade'] > m:\n",
    "        print(f'Nome = {cad[i][\"nome\"]}; Sexo: {cad[i][\"sexo\"]}; Idade: {cad[i][\"idade\"]}')\n"
   ]
  },
  {
   "cell_type": "markdown",
   "metadata": {},
   "source": [
    "Desafio #095"
   ]
  },
  {
   "cell_type": "code",
   "execution_count": 3,
   "metadata": {},
   "outputs": [
    {
     "name": "stdout",
     "output_type": "stream",
     "text": [
      "-=-=-=-=-=-=-=-=-=-=-=-=-=-=-=-=-=-=-=-=-=-=-=-=-=-=-=-=-=-=-=-=-=-=-=\n",
      "Cod  Nome                Gols                Total\n",
      "----------------------------------------------------------------------\n",
      "    1 Ney                 [2, 2, 1]           5                   \n",
      "    2 Kyl                 [3, 0, 1]           4                   \n",
      "    3 Leo                 [2, 2]              4                   \n",
      "----------------------------------------------------------------------\n",
      "Levantamento do jogador --Ney--\n",
      "No jogo 1 ele fez 2 gols.\n",
      "No jogo 2 ele fez 2 gols.\n",
      "No jogo 3 ele fez 1 gols.\n",
      "----------------------------------------------------------------------\n",
      "Levantamento do jogador --Kyl--\n",
      "No jogo 1 ele fez 3 gols.\n",
      "No jogo 2 ele fez 0 gols.\n",
      "No jogo 3 ele fez 1 gols.\n",
      "----------------------------------------------------------------------\n",
      "ERRO, não existe jogador com esse código.\n",
      "ERRO, não existe jogador com esse código.\n",
      "<<ENCERRADO>>\n"
     ]
    }
   ],
   "source": [
    "#d093 con funções novas\n",
    "import enum\n",
    "\n",
    "\n",
    "jogador = dict()\n",
    "lista = list()\n",
    "while True:\n",
    "    jogador['nome'] = str(input('Nome do Jogador: ')).capitalize()\n",
    "    partidas = int(input(f'Quantas partidas {jogador[\"nome\"]} jogou?'))\n",
    "    jogador['gols'] = list()\n",
    "    t = 0\n",
    "    for g in range(1, (partidas + 1)):\n",
    "        jogador['gols'].append(int(input(f'Gols na partida {g}?')))\n",
    "        t += jogador['gols'][g - 1]\n",
    "    jogador['total'] = t\n",
    "    lista.append(jogador.copy())\n",
    "    r = ' '\n",
    "    while r not in 'NnSs':\n",
    "        r = str(input('Deseja registrar outro jogador?')).strip().upper()[0]\n",
    "    if r in 'Nn':\n",
    "        break\n",
    "print('-='*35)\n",
    "print(f'{\"Cod\":5}{\"Nome\":20}{\"Gols\":20}{\"Total\":2}')\n",
    "print('--'*35)\n",
    "for i, j in enumerate(lista):\n",
    "    print(f'{i+1:5}', end=' ')\n",
    "    for data in j.values():\n",
    "        print(f'{str(data):<20}', end='')\n",
    "    print()\n",
    "print('--'*35)\n",
    "while True:\n",
    "    while True:\n",
    "        j = int(input('Deseja ver os dados de qual jogador? (0 para parar)'))\n",
    "        if j >= len(lista):\n",
    "            print('ERRO, não existe jogador com esse código.')\n",
    "        elif j < 0:\n",
    "            print('ERRO, não existe jogador com esse código.')\n",
    "        else:\n",
    "            break\n",
    "    j -= 1\n",
    "    if j == -1:\n",
    "        break\n",
    "    print(f'Levantamento do jogador --{lista[j][\"nome\"]}--')\n",
    "    for g in range(0, len(lista[j][\"gols\"])):\n",
    "        print(f'No jogo {g+1} ele fez {lista[j][\"gols\"][g]} gols.')\n",
    "    print('--'*35)\n",
    "print('<<ENCERRADO>>')"
   ]
  }
 ],
 "metadata": {
  "interpreter": {
   "hash": "346fbeca3117dc23ca25cf18d5ef4ea2d282dc80d0cb6d30ae0f533acd98a276"
  },
  "kernelspec": {
   "display_name": "Python 3.10.4 64-bit",
   "language": "python",
   "name": "python3"
  },
  "language_info": {
   "codemirror_mode": {
    "name": "ipython",
    "version": 3
   },
   "file_extension": ".py",
   "mimetype": "text/x-python",
   "name": "python",
   "nbconvert_exporter": "python",
   "pygments_lexer": "ipython3",
   "version": "3.10.5"
  },
  "orig_nbformat": 4
 },
 "nbformat": 4,
 "nbformat_minor": 2
}
