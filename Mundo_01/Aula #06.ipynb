{
 "cells": [
  {
   "cell_type": "code",
   "execution_count": 2,
   "metadata": {},
   "outputs": [
    {
     "name": "stdout",
     "output_type": "stream",
     "text": [
      "A soma de 8 e 8 vale 16.\n"
     ]
    }
   ],
   "source": [
    "n1 = int(input('Primeiro número: '))\n",
    "n2 = int(input('Segundo número: '))\n",
    "s = n1 + n2\n",
    "print(f'A soma de {n1} e {n2} vale {s}.')"
   ]
  },
  {
   "cell_type": "markdown",
   "metadata": {},
   "source": [
    "- int:2, -4, 3562, 0;\n",
    "- float: 7.0, 4.5, 0.76, -15.223;\n",
    "- bool: True, False;\n",
    "- str: 'Olá', '7.0', "
   ]
  },
  {
   "cell_type": "markdown",
   "metadata": {},
   "source": [
    "print com o uso de máscara:"
   ]
  },
  {
   "cell_type": "code",
   "execution_count": 2,
   "metadata": {},
   "outputs": [
    {
     "name": "stdout",
     "output_type": "stream",
     "text": [
      "A soma vale 45\n"
     ]
    }
   ],
   "source": [
    "print('A soma vale {}'.format(s))"
   ]
  },
  {
   "cell_type": "code",
   "execution_count": 3,
   "metadata": {},
   "outputs": [
    {
     "name": "stdout",
     "output_type": "stream",
     "text": [
      "A soma vale  11\n",
      "A soma vale 11\n"
     ]
    }
   ],
   "source": [
    "n1 = int(input('Primeiro número: '))\n",
    "n2 = int(input('Segundo número: '))\n",
    "s = n1 + n2\n",
    "print('A soma vale ', s)\n",
    "print('A soma vale {}'.format(s))"
   ]
  },
  {
   "cell_type": "markdown",
   "metadata": {},
   "source": [
    "type:"
   ]
  },
  {
   "cell_type": "code",
   "execution_count": 12,
   "metadata": {},
   "outputs": [
    {
     "name": "stdout",
     "output_type": "stream",
     "text": [
      "<class 'int'>\n",
      "<class 'int'>\n"
     ]
    }
   ],
   "source": [
    "n1 = int(input('Valor um: '))\n",
    "print(type(n1))\n",
    "n2 = int(input('Valor dois: '))\n",
    "print(type(n2))"
   ]
  },
  {
   "cell_type": "code",
   "execution_count": 15,
   "metadata": {},
   "outputs": [
    {
     "name": "stdout",
     "output_type": "stream",
     "text": [
      "A soma entre 9 e 0 ,vale:  9\n"
     ]
    }
   ],
   "source": [
    "s = n1 + n2\n",
    "print('A soma entre', n1, 'e', n2, ',vale: ', s)"
   ]
  },
  {
   "cell_type": "code",
   "execution_count": 19,
   "metadata": {},
   "outputs": [
    {
     "name": "stdout",
     "output_type": "stream",
     "text": [
      "False\n",
      "False\n",
      "True\n",
      "True\n"
     ]
    }
   ],
   "source": [
    "n = input('Digite: ')\n",
    "print(n.isnumeric())\n",
    "print(n.isalpha())\n",
    "print(n.isalnum())\n",
    "print(n.isupper())"
   ]
  },
  {
   "cell_type": "markdown",
   "metadata": {},
   "source": [
    "Desafio  004"
   ]
  },
  {
   "cell_type": "code",
   "execution_count": 5,
   "metadata": {},
   "outputs": [
    {
     "name": "stdout",
     "output_type": "stream",
     "text": [
      "<class 'str'>\n",
      "número:  False ; alpha:  False ; alpha num:  True ; decimal:  False ; digito:  False\n"
     ]
    }
   ],
   "source": [
    "algo = input('Digite algo: ')\n",
    "print(type(algo))\n",
    "print('número: ', algo.isnumeric(), '; alpha: ', algo.isalpha(), '; alpha num: ', algo.isalnum(), '; decimal: ', algo.isdecimal(), '; digito: ', algo.isdigit())"
   ]
  },
  {
   "cell_type": "code",
   "execution_count": 6,
   "metadata": {},
   "outputs": [
    {
     "name": "stdout",
     "output_type": "stream",
     "text": [
      "O tipo primitivo é:  <class 'str'>\n",
      "É número:  False\n",
      "É alfabético:  False\n",
      "É alfabético e nummérico:  True\n"
     ]
    }
   ],
   "source": [
    "a = input('Digite: ')\n",
    "print('O tipo primitivo é: ', type(a))\n",
    "print('É número: ', a.isnumeric())\n",
    "print('É alfabético: ', a.isalpha())\n",
    "print('É alfabético e nummérico: ', a.isalnum())"
   ]
  }
 ],
 "metadata": {
  "kernelspec": {
   "display_name": "Python 3.10.5 64-bit",
   "language": "python",
   "name": "python3"
  },
  "language_info": {
   "codemirror_mode": {
    "name": "ipython",
    "version": 3
   },
   "file_extension": ".py",
   "mimetype": "text/x-python",
   "name": "python",
   "nbconvert_exporter": "python",
   "pygments_lexer": "ipython3",
   "version": "3.10.5"
  },
  "orig_nbformat": 4,
  "vscode": {
   "interpreter": {
    "hash": "346fbeca3117dc23ca25cf18d5ef4ea2d282dc80d0cb6d30ae0f533acd98a276"
   }
  }
 },
 "nbformat": 4,
 "nbformat_minor": 2
}
