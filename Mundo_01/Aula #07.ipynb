{
 "cells": [
  {
   "cell_type": "markdown",
   "metadata": {},
   "source": [
    "- +: Adição\n",
    "- -: Subtração\n",
    "- *: Multiplicação\n",
    "- /: Divisão\n",
    "- **: Potenciação\n",
    "- //: Divisão inteira\n",
    "- %: Resto da divisão"
   ]
  },
  {
   "cell_type": "markdown",
   "metadata": {},
   "source": [
    "1. ();\n",
    "2. **;\n",
    "3. *, /, //, %;\n",
    "4. +, -;"
   ]
  },
  {
   "cell_type": "code",
   "execution_count": 1,
   "metadata": {},
   "outputs": [
    {
     "data": {
      "text/plain": [
       "11"
      ]
     },
     "execution_count": 1,
     "metadata": {},
     "output_type": "execute_result"
    }
   ],
   "source": [
    "5 + 3 * 2"
   ]
  },
  {
   "cell_type": "code",
   "execution_count": 2,
   "metadata": {},
   "outputs": [
    {
     "data": {
      "text/plain": [
       "25"
      ]
     },
     "execution_count": 2,
     "metadata": {},
     "output_type": "execute_result"
    }
   ],
   "source": [
    "5 ** 2"
   ]
  },
  {
   "cell_type": "code",
   "execution_count": 4,
   "metadata": {},
   "outputs": [
    {
     "data": {
      "text/plain": [
       "706760699809591512123689701082984432135530965745436415642155042012843248261353257160334595434508253989953219873458068467943116884078351348448253234454351314944"
      ]
     },
     "execution_count": 4,
     "metadata": {},
     "output_type": "execute_result"
    }
   ],
   "source": [
    "548 **  58"
   ]
  },
  {
   "cell_type": "code",
   "execution_count": 5,
   "metadata": {},
   "outputs": [
    {
     "data": {
      "text/plain": [
       "2"
      ]
     },
     "execution_count": 5,
     "metadata": {},
     "output_type": "execute_result"
    }
   ],
   "source": [
    "122 % 5"
   ]
  },
  {
   "cell_type": "code",
   "execution_count": 6,
   "metadata": {},
   "outputs": [
    {
     "data": {
      "text/plain": [
       "64"
      ]
     },
     "execution_count": 6,
     "metadata": {},
     "output_type": "execute_result"
    }
   ],
   "source": [
    "4 ** 3"
   ]
  },
  {
   "cell_type": "code",
   "execution_count": 14,
   "metadata": {},
   "outputs": [
    {
     "data": {
      "text/plain": [
       "64"
      ]
     },
     "execution_count": 14,
     "metadata": {},
     "output_type": "execute_result"
    }
   ],
   "source": [
    "pow(4,3)"
   ]
  },
  {
   "cell_type": "code",
   "execution_count": 15,
   "metadata": {},
   "outputs": [
    {
     "data": {
      "text/plain": [
       "'Oi Olá'"
      ]
     },
     "execution_count": 15,
     "metadata": {},
     "output_type": "execute_result"
    }
   ],
   "source": [
    "'Oi ' + 'Olá'"
   ]
  },
  {
   "cell_type": "code",
   "execution_count": 16,
   "metadata": {},
   "outputs": [
    {
     "data": {
      "text/plain": [
       "'OiOiOiOiOiOiOi'"
      ]
     },
     "execution_count": 16,
     "metadata": {},
     "output_type": "execute_result"
    }
   ],
   "source": [
    "'Oi' * 7"
   ]
  },
  {
   "cell_type": "code",
   "execution_count": 17,
   "metadata": {},
   "outputs": [
    {
     "data": {
      "text/plain": [
       "'===================='"
      ]
     },
     "execution_count": 17,
     "metadata": {},
     "output_type": "execute_result"
    }
   ],
   "source": [
    "'=' * 20"
   ]
  },
  {
   "cell_type": "code",
   "execution_count": 18,
   "metadata": {},
   "outputs": [
    {
     "name": "stdout",
     "output_type": "stream",
     "text": [
      "OiOiOiOiOiOiOiOi\n"
     ]
    }
   ],
   "source": [
    "print('Oi' * 8)"
   ]
  },
  {
   "cell_type": "code",
   "execution_count": 11,
   "metadata": {},
   "outputs": [
    {
     "name": "stdout",
     "output_type": "stream",
     "text": [
      "Prazer em te conhecer Damien!\n",
      "Prazer Damien              !\n",
      "Prazer                         Damien!\n"
     ]
    }
   ],
   "source": [
    "nome = input('Qual é o seu nome?')\n",
    "print('Prazer em te conhecer {}!'.format(nome))\n",
    "print( 'Prazer {:20}!'.format(nome))\n",
    "print('Prazer {:>30}!'.format(nome))"
   ]
  },
  {
   "cell_type": "markdown",
   "metadata": {},
   "source": [
    "Posso usar: >, <, ^, = "
   ]
  },
  {
   "cell_type": "code",
   "execution_count": 12,
   "metadata": {},
   "outputs": [
    {
     "name": "stdout",
     "output_type": "stream",
     "text": [
      "A soma é 15, o produto é 56 e a divisão é 1.143. >>> Divisão inteira 1\n",
      " e potência 2097152.\n"
     ]
    }
   ],
   "source": [
    "n1 = int(input('Um valor: '))\n",
    "n2 = int(input('Outro valor: '))\n",
    "s = n1 + n2\n",
    "m = n1 * n2\n",
    "d = n1 / n2\n",
    "di = n1 // n2\n",
    "e = n1 ** n2\n",
    "print('A soma é {}, o produto é {} e a divisão é {:.3f}.'.format(s, m, d), end=' >>> ')\n",
    "print('Divisão inteira {}\\n e potência {}.'.format(di, e))"
   ]
  },
  {
   "cell_type": "markdown",
   "metadata": {},
   "source": [
    "Desafio 005"
   ]
  },
  {
   "cell_type": "code",
   "execution_count": 13,
   "metadata": {},
   "outputs": [
    {
     "name": "stdout",
     "output_type": "stream",
     "text": [
      "Seu sucessor é 1 e seu antecessor -1.\n",
      "Seu sucessor é 1 e seu antecessor -1.\n"
     ]
    }
   ],
   "source": [
    "n = int(input('Digite um número: '))\n",
    "s = n + 1\n",
    "a = n - 1\n",
    "print('Seu sucessor é {} e seu antecessor {}.'.format(s, a))\n",
    "print('Seu sucessor é {} e seu antecessor {}.'.format((n+1), (n-1)))"
   ]
  },
  {
   "cell_type": "markdown",
   "metadata": {},
   "source": [
    "Desafio 006"
   ]
  },
  {
   "cell_type": "code",
   "execution_count": 14,
   "metadata": {},
   "outputs": [
    {
     "name": "stdout",
     "output_type": "stream",
     "text": [
      "O dobro de 9 é 18, o triplo é 27 e a raiz quadrada é 3.0.\n",
      "O dobro de 9 é 18, o triplo é 27 e a raiz quadrada é 3.0\n"
     ]
    }
   ],
   "source": [
    "n = int(input('Digite um número: '))\n",
    "do = 2 * n\n",
    "to = 3 * n\n",
    "rq = n ** (1/2)\n",
    "print('O dobro de {} é {}, o triplo é {} e a raiz quadrada é {}.'.format(n, do, to, rq))\n",
    "print('O dobro de {} é {}, o triplo é {} e a raiz quadrada é {}'.format(n, (n*2), (n*3), (n**(1/2))))"
   ]
  },
  {
   "cell_type": "markdown",
   "metadata": {},
   "source": [
    "Desafio 007"
   ]
  },
  {
   "cell_type": "code",
   "execution_count": 15,
   "metadata": {},
   "outputs": [
    {
     "name": "stdout",
     "output_type": "stream",
     "text": [
      "A sua média final foi: 7.5\n",
      "A sua média final foi: 7.5\n"
     ]
    }
   ],
   "source": [
    "#nota 1, nota 2, soma as duas e divide por 2.\n",
    "g1 = float(input('Nota 1: '))\n",
    "g2 = float(input('Nota dois: '))\n",
    "m = (g1 + g2)/ 2\n",
    "print('A sua média final foi: {}'.format(m))\n",
    "print('A sua média final foi: {}'.format((g1 + g2)/2))\n"
   ]
  },
  {
   "cell_type": "markdown",
   "metadata": {},
   "source": [
    "Desafio 008"
   ]
  },
  {
   "cell_type": "code",
   "execution_count": 17,
   "metadata": {},
   "outputs": [
    {
     "name": "stdout",
     "output_type": "stream",
     "text": [
      "1 m correspode à:\n",
      "0.001 km\n",
      "0.01 hm\n",
      "0.1 dam\n",
      "10 dm\n",
      "100 cm\n",
      "1000 mm\n"
     ]
    }
   ],
   "source": [
    "# 1m = 100cm e 1m = 1000mm.\n",
    "# km hm dam m dm cm mm\n",
    "m  = float(input('Qual a medida? (em metros)'))\n",
    "\n",
    "mm = m * 10 ** 3\n",
    "cm = m * 10 ** 2\n",
    "dm = m * 10 ** 1 \n",
    "dam = m * 10 ** -1\n",
    "hm = m * 10 ** -2\n",
    "km = m * 10 ** -3\n",
    "\n",
    "print(f'{m} m correspode à:\\n{km} km\\n{hm} hm\\n{dam} dam\\n{dm} dm\\n{cm} cm\\n{mm} mm')"
   ]
  },
  {
   "cell_type": "markdown",
   "metadata": {},
   "source": [
    "Desafio 009"
   ]
  },
  {
   "cell_type": "code",
   "execution_count": 18,
   "metadata": {},
   "outputs": [
    {
     "name": "stdout",
     "output_type": "stream",
     "text": [
      "7 x  1 = 7\n",
      "7 x  2 = 14\n",
      "7 x  3 = 21\n",
      "7 x  4 = 28\n",
      "7 x  5 = 35\n",
      "7 x  6 = 42\n",
      "7 x  7 = 49\n",
      "7 x  8 = 56\n",
      "7 x  9 = 63\n",
      "7 x 10 = 70\n"
     ]
    }
   ],
   "source": [
    "n = int(input('Digite um número: '))\n",
    "print('{} x  1 = {}\\n{} x  2 = {}\\n{} x  3 = {}\\n{} x  4 = {}\\n{} x  5 = {}\\n{} x  6 = {}\\n{} x  7 = {}\\n{} x  8 = {}\\n{} x  9 = {}\\n{} x 10 = {}'.format(n, n*1, n, n*2, n, n*3, n, n*4,n,  n*5, n, n*6, n, n*7, n, n*8, n, n*9, n, n*10))"
   ]
  },
  {
   "cell_type": "markdown",
   "metadata": {},
   "source": [
    "Desafio 010"
   ]
  },
  {
   "cell_type": "code",
   "execution_count": 19,
   "metadata": {},
   "outputs": [
    {
     "name": "stdout",
     "output_type": "stream",
     "text": [
      "Você pode comprar US$39.53 dólares com R$200.00.\n"
     ]
    }
   ],
   "source": [
    "d = float(input('Quanto você tem na sua carteira? '))\n",
    "dollar = float(5.06)\n",
    "qd = float(d/dollar)\n",
    "s = d%dollar\n",
    "print('Você pode comprar US${:.2f} dólares com R${:.2f}.'.format(qd, d))"
   ]
  },
  {
   "cell_type": "markdown",
   "metadata": {},
   "source": [
    "Desafio 011"
   ]
  },
  {
   "cell_type": "code",
   "execution_count": 11,
   "metadata": {},
   "outputs": [
    {
     "name": "stdout",
     "output_type": "stream",
     "text": [
      "Você precisa de 72.0 l  de tinta para pintar a parede.\n"
     ]
    }
   ],
   "source": [
    "#O litro de tinta pinta 2m².\n",
    "h = float(input('Qual é a altura da parede que desseja pintar? (em metros)'))\n",
    "l = float(input('Qual é a largura da parede que deseja pintar? (em metros)'))\n",
    "a = h * l\n",
    "i = float(a/2)\n",
    "print('Você precisa de {} l  de tinta para pintar a parede.'.format(i))"
   ]
  },
  {
   "cell_type": "markdown",
   "metadata": {},
   "source": [
    "Desafio 012"
   ]
  },
  {
   "cell_type": "code",
   "execution_count": 12,
   "metadata": {},
   "outputs": [
    {
     "name": "stdout",
     "output_type": "stream",
     "text": [
      "O produto custa R$518.70 com o desconto aplicado.\n"
     ]
    }
   ],
   "source": [
    "#5% de  desconto.\n",
    "p = float(input('Qual o preço do produto que deseja comprar?'))\n",
    "d = p * (5/100)\n",
    "np = float(p - d)\n",
    "print('O produto custa R${:.2f} com o desconto aplicado.'.format(np))"
   ]
  },
  {
   "cell_type": "markdown",
   "metadata": {},
   "source": [
    "Desafio 013"
   ]
  },
  {
   "cell_type": "code",
   "execution_count": 15,
   "metadata": {},
   "outputs": [
    {
     "name": "stdout",
     "output_type": "stream",
     "text": [
      "Seu salário após  o aumento é: R$1416.80\n"
     ]
    }
   ],
   "source": [
    "# 15% de aumento  no salário.\n",
    "s = float(input('Qual o seu salário atual? '))\n",
    "a = s * (1 + (15/100))\n",
    "print('Seu salário após  o aumento é: R${:.2f}'.format(a))"
   ]
  },
  {
   "cell_type": "markdown",
   "metadata": {},
   "source": [
    "Desafio 014"
   ]
  },
  {
   "cell_type": "code",
   "execution_count": 17,
   "metadata": {},
   "outputs": [
    {
     "name": "stdout",
     "output_type": "stream",
     "text": [
      "A temperatura corresponte em fahrenheit é: 104.0ºF\n"
     ]
    }
   ],
   "source": [
    "#Celsius para Fahrenheit\n",
    "c = float(input('Informe a temperatura em ºC:'))\n",
    "f = c*(9/5) + 32\n",
    "print('A temperatura corresponte em fahrenheit é: {}ºF'.format(f))"
   ]
  },
  {
   "cell_type": "markdown",
   "metadata": {},
   "source": [
    "Desafio 015"
   ]
  },
  {
   "cell_type": "code",
   "execution_count": 21,
   "metadata": {},
   "outputs": [
    {
     "name": "stdout",
     "output_type": "stream",
     "text": [
      "O valor total de pagamento pelo carro alugado é de R$588.00\n"
     ]
    }
   ],
   "source": [
    "#Km rodado = R$0.15 e dia alugado = R$60.00\n",
    "pd = float(60.00)\n",
    "pk = float(0.15)\n",
    "d = int(input('Por quantos dias o carro foi alugado?'))\n",
    "x = float(input('Quantos km foram percorridos?'))\n",
    "t = (d*pd)+(x*pk)\n",
    "print('O valor total de pagamento pelo carro alugado é de R${:.2f}'.format(t))"
   ]
  }
 ],
 "metadata": {
  "kernelspec": {
   "display_name": "Python 3.10.5 64-bit (windows store)",
   "language": "python",
   "name": "python3"
  },
  "language_info": {
   "codemirror_mode": {
    "name": "ipython",
    "version": 3
   },
   "file_extension": ".py",
   "mimetype": "text/x-python",
   "name": "python",
   "nbconvert_exporter": "python",
   "pygments_lexer": "ipython3",
   "version": "3.10.6"
  },
  "orig_nbformat": 4,
  "vscode": {
   "interpreter": {
    "hash": "a09cfbe1da184d0f7af3839d38d8b0444656c81e00c4112e35b5e08da3441a1d"
   }
  }
 },
 "nbformat": 4,
 "nbformat_minor": 2
}
