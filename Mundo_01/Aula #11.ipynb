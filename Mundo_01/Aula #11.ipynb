{
 "cells": [
  {
   "cell_type": "markdown",
   "metadata": {},
   "source": [
    "/033[Style;text;backgroundm"
   ]
  },
  {
   "cell_type": "markdown",
   "metadata": {},
   "source": [
    "Style:\n",
    "- 0: None\n",
    "- 1: Bold\n",
    "- 4: Underline\n",
    "- 7: Negative"
   ]
  },
  {
   "cell_type": "markdown",
   "metadata": {},
   "source": [
    "Text:\n",
    "- 30: White\n",
    "- 31: Red\n",
    "- 32: Green\n",
    "- 33: Yellow\n",
    "- 34: Blue\n",
    "- 35: Purple\n",
    "- 36: Light blue\n",
    "- 37: Gray"
   ]
  },
  {
   "cell_type": "markdown",
   "metadata": {},
   "source": [
    "Background:\n",
    "- 40: White\n",
    "- 41: Red\n",
    "- 42: Green\n",
    "- 43: Yellow\n",
    "- 44: Blue\n",
    "- 45: Purple\n",
    "- 46: Light blue\n",
    "- 47: Gray"
   ]
  },
  {
   "cell_type": "code",
   "execution_count": 7,
   "metadata": {},
   "outputs": [
    {
     "name": "stdout",
     "output_type": "stream",
     "text": [
      "Olá! Prazer em te conhecer \u001b[1;32mDamien\u001b[m.\n"
     ]
    }
   ],
   "source": [
    "nome = str(input('Qual é o seu nome?'))\n",
    "print('Olá! Prazer em te conhecer {}{}{}.'.format('\\033[1;32m', nome, '\\033[m'))"
   ]
  }
 ],
 "metadata": {
  "kernelspec": {
   "display_name": "Python 3.10.6 64-bit (windows store)",
   "language": "python",
   "name": "python3"
  },
  "language_info": {
   "codemirror_mode": {
    "name": "ipython",
    "version": 3
   },
   "file_extension": ".py",
   "mimetype": "text/x-python",
   "name": "python",
   "nbconvert_exporter": "python",
   "pygments_lexer": "ipython3",
   "version": "3.10.6"
  },
  "orig_nbformat": 4,
  "vscode": {
   "interpreter": {
    "hash": "a09cfbe1da184d0f7af3839d38d8b0444656c81e00c4112e35b5e08da3441a1d"
   }
  }
 },
 "nbformat": 4,
 "nbformat_minor": 2
}
