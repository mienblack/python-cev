{
 "cells": [
  {
   "cell_type": "markdown",
   "metadata": {},
   "source": [
    "Operações com strings"
   ]
  },
  {
   "cell_type": "markdown",
   "metadata": {},
   "source": [
    "- Fatiamento"
   ]
  },
  {
   "cell_type": "code",
   "execution_count": 1,
   "metadata": {},
   "outputs": [
    {
     "name": "stdout",
     "output_type": "stream",
     "text": [
      "v\n",
      "víde\n",
      "vdoPto\n",
      "Curso\n",
      "Python\n",
      "vePh\n"
     ]
    }
   ],
   "source": [
    "frase = 'Curso em vídeo Python'\n",
    "a = frase[9]\n",
    "b = frase[9:13]\n",
    "c = frase[9:21:2]\n",
    "d = frase[:5]\n",
    "e = frase[15:]\n",
    "f = frase[9::3]\n",
    "print('{}\\n{}\\n{}\\n{}\\n{}\\n{}'.format(a, b, c, d, e, f))"
   ]
  },
  {
   "cell_type": "markdown",
   "metadata": {},
   "source": [
    "- Análise"
   ]
  },
  {
   "cell_type": "code",
   "execution_count": 12,
   "metadata": {},
   "outputs": [
    {
     "name": "stdout",
     "output_type": "stream",
     "text": [
      "Tamanho da string: 21\n",
      "Quantas letras \"o\" tem na string: 3\n",
      "Quantas letras \"p\" tem da posição 0 à 7: 0\n",
      "Em qual posição \"deo\" se encontra na string: 11\n",
      "Existe \"curso\" na string: False\n"
     ]
    }
   ],
   "source": [
    "frase = 'Curso em vídeo python'\n",
    "print(f'Tamanho da string: {len(frase)}')\n",
    "print(f'Quantas letras \"o\" tem na string: {frase.count(\"o\")}')\n",
    "print(f'Quantas letras \"p\" tem da posição 0 à 7: {frase.count(\"p\", 0, 7)}')\n",
    "print(f'Em qual posição \"deo\" se encontra na string: {frase.find(\"deo\")}')\n",
    "print(f'Existe \"curso\" na string: {\"curso\" in frase}')"
   ]
  },
  {
   "cell_type": "markdown",
   "metadata": {},
   "source": [
    "- Transformação"
   ]
  },
  {
   "cell_type": "code",
   "execution_count": 23,
   "metadata": {},
   "outputs": [
    {
     "name": "stdout",
     "output_type": "stream",
     "text": [
      "Curso em vídeo android\n",
      "CURSO EM VÍDEO PYTHON\n",
      "curso em vídeo python\n",
      "Curso em vídeo python\n",
      "Curso Em Vídeo Python\n"
     ]
    }
   ],
   "source": [
    "print(frase.replace('python', 'android'))\n",
    "print(frase.upper())\n",
    "print(frase.lower())\n",
    "print(frase.capitalize())\n",
    "print(frase.title())"
   ]
  },
  {
   "cell_type": "code",
   "execution_count": 5,
   "metadata": {},
   "outputs": [
    {
     "name": "stdout",
     "output_type": "stream",
     "text": [
      "Aprenda python\n",
      "  Aprenda python\n",
      "Aprenda python   \n"
     ]
    }
   ],
   "source": [
    "f = '  Aprenda python   '\n",
    "print(f.strip())\n",
    "print(f.rstrip())\n",
    "print(f.lstrip())"
   ]
  },
  {
   "cell_type": "markdown",
   "metadata": {},
   "source": [
    "- Divisão"
   ]
  },
  {
   "cell_type": "code",
   "execution_count": 9,
   "metadata": {},
   "outputs": [
    {
     "name": "stdout",
     "output_type": "stream",
     "text": [
      "['Curso', 'em', 'vídeo', 'python']\n"
     ]
    }
   ],
   "source": [
    "print(frase.split())"
   ]
  },
  {
   "cell_type": "markdown",
   "metadata": {},
   "source": [
    "- Junção"
   ]
  },
  {
   "cell_type": "code",
   "execution_count": 10,
   "metadata": {},
   "outputs": [
    {
     "name": "stdout",
     "output_type": "stream",
     "text": [
      "C-u-r-s-o- -e-m- -v-í-d-e-o- -p-y-t-h-o-n\n"
     ]
    }
   ],
   "source": [
    "print('-'.join(frase))"
   ]
  },
  {
   "cell_type": "code",
   "execution_count": 3,
   "metadata": {},
   "outputs": [
    {
     "name": "stdout",
     "output_type": "stream",
     "text": [
      "3\n",
      "3\n",
      "28\n",
      "21\n",
      "  Aula em vídeo Python     \n",
      "True\n",
      "6\n",
      "-1\n"
     ]
    }
   ],
   "source": [
    "frase = '  Curso em vídeo Python     '\n",
    "print(frase.count('o'))\n",
    "print(frase.upper().count('O'))\n",
    "print(len(frase))\n",
    "print(len(frase.strip()))\n",
    "print(frase.replace('Curso', 'Aula'))\n",
    "print('Curso' in frase)\n",
    "print(frase.find('o'))\n",
    "print(frase.lower().find('Curso'))"
   ]
  },
  {
   "cell_type": "markdown",
   "metadata": {},
   "source": [
    "Desafio 022"
   ]
  },
  {
   "cell_type": "code",
   "execution_count": 70,
   "metadata": {},
   "outputs": [
    {
     "name": "stdout",
     "output_type": "stream",
     "text": [
      "DAMIEN COSTA\n",
      "damien costa\n",
      "Seu nome tem 11 letras.\n",
      "Seu primeiro nome tem 6 letras.\n",
      "Seu primeiro nome é Damien e tem 6 letras.\n"
     ]
    }
   ],
   "source": [
    "# Crie um programa que leia o nome completo de uma pessoa e mostre\n",
    "# O nome com todas as letras maiúsculas; todas minúsculas; quantas letras; quantas letras tem o primeiro nome;\n",
    "nome = str(input('Digite um nome:')).strip()\n",
    "print(nome.upper())\n",
    "print(nome.lower())\n",
    "div = nome.split()\n",
    "print('Seu nome tem {} letras.'.format(len(nome) - nome.count(' ')))\n",
    "print('Seu primeiro nome tem {} letras.'.format(nome.find(' ')))\n",
    "sep = nome.split()\n",
    "print('Seu primeiro nome é {} e tem {} letras.'.format(sep[0], len(sep[0])))"
   ]
  },
  {
   "cell_type": "markdown",
   "metadata": {},
   "source": [
    "Desafio 023"
   ]
  },
  {
   "cell_type": "code",
   "execution_count": 5,
   "metadata": {},
   "outputs": [
    {
     "name": "stdout",
     "output_type": "stream",
     "text": [
      "O número 4545 possui: \n",
      "Milhar: 4\n",
      "Centena: 5\n",
      "Dezena: 4\n",
      "Unidade: 5\n"
     ]
    }
   ],
   "source": [
    "# Um número entre 0 e 9999 e mostre cada algarismo\n",
    "número = int(input('Digite um número:'))\n",
    "print(f'O número {número} possui: ')\n",
    "print('Milhar: {}\\nCentena: {}\\nDezena: {}\\nUnidade: {}'.format(número//1000%10, número//100%10, número//10%10, número//1%10))"
   ]
  },
  {
   "cell_type": "markdown",
   "metadata": {},
   "source": [
    "Desafio 024"
   ]
  },
  {
   "cell_type": "code",
   "execution_count": 6,
   "metadata": {},
   "outputs": [
    {
     "name": "stdout",
     "output_type": "stream",
     "text": [
      "False\n"
     ]
    }
   ],
   "source": [
    "# Sua cidade começa comm SANTO?\n",
    "cidade = str(input('Digite o nome da sua cidade:')).strip()\n",
    "print(cidade[:5].upper() == 'SANTO')"
   ]
  },
  {
   "cell_type": "markdown",
   "metadata": {},
   "source": [
    "Desafio 025"
   ]
  },
  {
   "cell_type": "code",
   "execution_count": 7,
   "metadata": {},
   "outputs": [
    {
     "name": "stdout",
     "output_type": "stream",
     "text": [
      "Seu nome tem Silva? False\n"
     ]
    }
   ],
   "source": [
    "# Seu  nome tem SILVA?\n",
    "nome = str(input('Digite seu nome completo:'))\n",
    "print('Seu nome tem Silva? {}'.format('silva' in nome.lower()))"
   ]
  },
  {
   "cell_type": "markdown",
   "metadata": {},
   "source": [
    "Desafio 026"
   ]
  },
  {
   "cell_type": "code",
   "execution_count": 12,
   "metadata": {},
   "outputs": [
    {
     "name": "stdout",
     "output_type": "stream",
     "text": [
      "Na frase \"Avengers assemble\"\n",
      "A letra \"a\" aparece 2 vezes na sua frase.\n",
      "A primeira letra \"a\" aparece na posição 1 e a última na posição 10\n"
     ]
    }
   ],
   "source": [
    "# Frase -> Quantas vezes a letra A; Em qual posição ela aparece primeiro; Em aparece a última:\n",
    "frase = str(input('Digite uma frase:'))\n",
    "print(f'Na frase \"{frase}\"')\n",
    "frase = frase.lower().strip()\n",
    "print(f'A letra \"a\" aparece {frase.count(\"a\")} vezes na sua frase.')\n",
    "print(f'A primeira letra \"a\" aparece na posição {frase.find(\"a\") + 1} e a última na posição {frase.rfind(\"a\") + 1}')"
   ]
  },
  {
   "cell_type": "markdown",
   "metadata": {},
   "source": [
    "Desafio 027"
   ]
  },
  {
   "cell_type": "code",
   "execution_count": 13,
   "metadata": {},
   "outputs": [
    {
     "name": "stdout",
     "output_type": "stream",
     "text": [
      "Seu primeiro nome é Damien e seu último nome é Pereira.\n"
     ]
    }
   ],
   "source": [
    "# Lê o nome completo da pessoa e mostra o primeiro e o último nome.\n",
    "nome = str(input('Digite seu nome completo:')).strip()\n",
    "n = nome.split()\n",
    "print('Seu primeiro nome é {} e seu último nome é {}.'.format(n[0], n[len(n) - 1]))"
   ]
  }
 ],
 "metadata": {
  "kernelspec": {
   "display_name": "Python 3.10.6 64-bit (windows store)",
   "language": "python",
   "name": "python3"
  },
  "language_info": {
   "codemirror_mode": {
    "name": "ipython",
    "version": 3
   },
   "file_extension": ".py",
   "mimetype": "text/x-python",
   "name": "python",
   "nbconvert_exporter": "python",
   "pygments_lexer": "ipython3",
   "version": "3.10.6"
  },
  "orig_nbformat": 4,
  "vscode": {
   "interpreter": {
    "hash": "a09cfbe1da184d0f7af3839d38d8b0444656c81e00c4112e35b5e08da3441a1d"
   }
  }
 },
 "nbformat": 4,
 "nbformat_minor": 2
}
