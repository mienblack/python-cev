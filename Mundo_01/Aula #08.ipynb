{
 "cells": [
  {
   "cell_type": "markdown",
   "metadata": {},
   "source": [
    "Utilizando módulos"
   ]
  },
  {
   "cell_type": "code",
   "execution_count": 6,
   "metadata": {},
   "outputs": [
    {
     "name": "stdout",
     "output_type": "stream",
     "text": [
      "A raiz de 56 é 7.483314773547883\n"
     ]
    }
   ],
   "source": [
    "import math\n",
    "n = int(input('Digite um número: '))\n",
    "r = math.sqrt(n)\n",
    "print('A raiz de {} é {}.'.format(n, r))"
   ]
  },
  {
   "cell_type": "code",
   "execution_count": 9,
   "metadata": {},
   "outputs": [
    {
     "name": "stdout",
     "output_type": "stream",
     "text": [
      "A raiz é: 6.708203932499369\n"
     ]
    }
   ],
   "source": [
    "from math import sqrt\n",
    "num = int(input('Número'))\n",
    "roo = sqrt(num)\n",
    "print('A raiz é: {}'.format(roo))"
   ]
  },
  {
   "cell_type": "code",
   "execution_count": 16,
   "metadata": {},
   "outputs": [
    {
     "name": "stdout",
     "output_type": "stream",
     "text": [
      "51 0.04792242230448995\n"
     ]
    }
   ],
   "source": [
    "import random\n",
    "ran = random.random()\n",
    "ran1 = random.randint(20, 90)\n",
    "print(ran1, ran)"
   ]
  },
  {
   "cell_type": "code",
   "execution_count": 8,
   "metadata": {},
   "outputs": [
    {
     "ename": "ModuleNotFoundError",
     "evalue": "No module named 'emoji'",
     "output_type": "error",
     "traceback": [
      "\u001b[1;31m---------------------------------------------------------------------------\u001b[0m",
      "\u001b[1;31mModuleNotFoundError\u001b[0m                       Traceback (most recent call last)",
      "\u001b[1;32mc:\\Users\\damie\\OneDrive\\Área de Trabalho\\Programação\\Python [Curso em vídeo]\\Aula #08.ipynb Cell 5'\u001b[0m in \u001b[0;36m<cell line: 1>\u001b[1;34m()\u001b[0m\n\u001b[1;32m----> <a href='vscode-notebook-cell:/c%3A/Users/damie/OneDrive/%C3%81rea%20de%20Trabalho/Programa%C3%A7%C3%A3o/Python%20%5BCurso%20em%20v%C3%ADdeo%5D/Aula%20%2308.ipynb#ch0000004?line=0'>1</a>\u001b[0m \u001b[39mimport\u001b[39;00m \u001b[39memoji\u001b[39;00m\n",
      "\u001b[1;31mModuleNotFoundError\u001b[0m: No module named 'emoji'"
     ]
    }
   ],
   "source": [
    "import emoji"
   ]
  },
  {
   "cell_type": "markdown",
   "metadata": {},
   "source": [
    "Desafio 016"
   ]
  },
  {
   "cell_type": "code",
   "execution_count": 2,
   "metadata": {},
   "outputs": [
    {
     "name": "stdout",
     "output_type": "stream",
     "text": [
      "A parte inteira de 45.0 é 45.\n",
      "A porção inteira de 45.0 é 45.\n"
     ]
    }
   ],
   "source": [
    "#Ler um número real e mostrar porção inteira.\n",
    "import math\n",
    "num = float(input('Digite um valor: '))\n",
    "print('A parte inteira de {} é {}.'.format(num, math.trunc(num)))\n",
    "print('A porção inteira de {} é {}.'.format(num, int(num)))"
   ]
  },
  {
   "cell_type": "markdown",
   "metadata": {},
   "source": [
    "Desafio 017"
   ]
  },
  {
   "cell_type": "code",
   "execution_count": 3,
   "metadata": {},
   "outputs": [
    {
     "name": "stdout",
     "output_type": "stream",
     "text": [
      "Tendo os catetos de comprimentos 4.0 e 3.0 a hipotenusa mede 5.0.\n",
      "A hipotenusa do triângulo retângulo de catetos 4.0 e 3.0 é 5.0.\n"
     ]
    }
   ],
   "source": [
    "#Ler catetos e mostrar hipotenusa\n",
    "from math import hypot\n",
    "l1 = float(input('Qual o comprimento do cateto oposto ao menor ângulo? '))\n",
    "l2 = float(input('Qual o comprimento do cateto adjcente ao menor ângulo? '))\n",
    "h = (l1**2 + l2**2)**(1/2)\n",
    "print('Tendo os catetos de comprimentos {} e {} a hipotenusa mede {}.'.format(l1, l2, hypot(l1, l2)))\n",
    "print('A hipotenusa do triângulo retângulo de catetos {} e {} é {}.'.format(l1, l2, h))"
   ]
  },
  {
   "cell_type": "markdown",
   "metadata": {},
   "source": [
    "Desafio 018"
   ]
  },
  {
   "cell_type": "code",
   "execution_count": 15,
   "metadata": {},
   "outputs": [
    {
     "name": "stdout",
     "output_type": "stream",
     "text": [
      "O ângulo 45.0 tem seno 0.7071067811865476, cosseno 0.7071067811865476 e tangente 0.9999999999999999.\n"
     ]
    }
   ],
   "source": [
    "#Ângulo -> sen, cos e tan.\n",
    "import math\n",
    "a = float(input('Qual o valor do ângulo? (em graus)'))\n",
    "r = math.radians(a)\n",
    "sin = math.sin(r)\n",
    "cos = math.cos(r)\n",
    "tan = math.tan(r)\n",
    "print('O ângulo {} tem seno {}, cosseno {} e tangente {}.'.format(a, sin, cos, tan))"
   ]
  },
  {
   "cell_type": "markdown",
   "metadata": {},
   "source": [
    "Desafio 019"
   ]
  },
  {
   "cell_type": "code",
   "execution_count": 8,
   "metadata": {},
   "outputs": [
    {
     "name": "stdout",
     "output_type": "stream",
     "text": [
      "O aluno escolhido para limpar o quadro foi: a\n"
     ]
    }
   ],
   "source": [
    "#Sortear o nome de um dos alunos.\n",
    "import random\n",
    "a = input('Digite o nome do aluno 1: ')\n",
    "b = input('Digite o nome do aluno 2: ')\n",
    "c = input('Digite o nome do aluno 3: ')\n",
    "d = input('Digite o nome do aluno 4: ')\n",
    "s = [a, b, c, d]\n",
    "nome = random.choice(s)\n",
    "print('O aluno escolhido para limpar o quadro foi: {}'.format(nome))"
   ]
  },
  {
   "cell_type": "markdown",
   "metadata": {},
   "source": [
    "Desafio 020"
   ]
  },
  {
   "cell_type": "code",
   "execution_count": 9,
   "metadata": {},
   "outputs": [
    {
     "name": "stdout",
     "output_type": "stream",
     "text": [
      "A ordem de apresentação será: ['de', 'di', 'da', 'do']\n"
     ]
    }
   ],
   "source": [
    "#\n",
    "import random\n",
    "a1 = input('Primeiro aluno: ')\n",
    "a2 = input('Segundo aluno: ')\n",
    "a3 = input('Terceiro aluno: ')\n",
    "a4 = input('Quarto aluno: ')\n",
    "ordem = [a1, a2, a3, a4]\n",
    "random.shuffle(ordem)\n",
    "print('A ordem de apresentação será: {}'.format(ordem))"
   ]
  },
  {
   "cell_type": "markdown",
   "metadata": {},
   "source": [
    "Desafio 021"
   ]
  },
  {
   "cell_type": "code",
   "execution_count": null,
   "metadata": {},
   "outputs": [],
   "source": [
    "#Tocar mp3 no python.\n",
    "import "
   ]
  }
 ],
 "metadata": {
  "kernelspec": {
   "display_name": "Python 3.10.6 64-bit (windows store)",
   "language": "python",
   "name": "python3"
  },
  "language_info": {
   "codemirror_mode": {
    "name": "ipython",
    "version": 3
   },
   "file_extension": ".py",
   "mimetype": "text/x-python",
   "name": "python",
   "nbconvert_exporter": "python",
   "pygments_lexer": "ipython3",
   "version": "3.10.6"
  },
  "orig_nbformat": 4,
  "vscode": {
   "interpreter": {
    "hash": "a09cfbe1da184d0f7af3839d38d8b0444656c81e00c4112e35b5e08da3441a1d"
   }
  }
 },
 "nbformat": 4,
 "nbformat_minor": 2
}
