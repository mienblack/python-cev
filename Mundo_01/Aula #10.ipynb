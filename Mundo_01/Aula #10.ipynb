{
 "cells": [
  {
   "cell_type": "markdown",
   "metadata": {},
   "source": [
    "- Ordem sempre de cima para bixo.\n",
    "- Sempre termina me parenteses.\n",
    "- Se um, senão dois."
   ]
  },
  {
   "cell_type": "code",
   "execution_count": 1,
   "metadata": {},
   "outputs": [
    {
     "name": "stdout",
     "output_type": "stream",
     "text": [
      "Carro velho.\n",
      "--FIM--\n"
     ]
    }
   ],
   "source": [
    "tempo = int(input('Quantos anos tem seu carro?'))\n",
    "if tempo <= 3: \n",
    "    print('Carro novo.')\n",
    "else:\n",
    "    print('Carro velho.')\n",
    "print('--FIM--')"
   ]
  },
  {
   "cell_type": "code",
   "execution_count": 3,
   "metadata": {},
   "outputs": [
    {
     "name": "stdout",
     "output_type": "stream",
     "text": [
      "A sua nota final foi 7.0\n",
      "Boa lek!\n"
     ]
    }
   ],
   "source": [
    "n1 = float(input('Primeira nota: '))\n",
    "n2 = float(input('Segunda nota:'))\n",
    "nf = (n1 + n2) / 2\n",
    "print('A sua nota final foi {}'.format(nf))\n",
    "if nf >= 6:\n",
    "    print('Boa lek!')\n",
    "else:\n",
    "    print('Bora melhorar campeão..')"
   ]
  },
  {
   "cell_type": "markdown",
   "metadata": {},
   "source": [
    "Desafio 028"
   ]
  },
  {
   "cell_type": "code",
   "execution_count": 24,
   "metadata": {},
   "outputs": [
    {
     "name": "stdout",
     "output_type": "stream",
     "text": [
      "O número pensado foi: 5\n",
      "E você pensou em: 5\n",
      "Boa campeão!!!\n"
     ]
    }
   ],
   "source": [
    "# pensar -> [0,5], tente adivinhar, se conseguir vence, se não perde\n",
    "from random import randint\n",
    "n = randint(0,5)\n",
    "num = int(input('Digite um número entre 0 e 5:'))\n",
    "print('O número pensado foi: {}\\nE você pensou em: {}'.format(n, num))\n",
    "if n == num:\n",
    "    print('Boa campeão!!!')\n",
    "else:\n",
    "    print('Quem sabe na próxima.')"
   ]
  },
  {
   "cell_type": "markdown",
   "metadata": {},
   "source": [
    "Desafio 029"
   ]
  },
  {
   "cell_type": "code",
   "execution_count": 25,
   "metadata": {},
   "outputs": [
    {
     "name": "stdout",
     "output_type": "stream",
     "text": [
      "Você não ultrapassou o limite de velocidade.\n"
     ]
    }
   ],
   "source": [
    "# v >= 80km/h -> multa; R$7,00 para cada km acima.\n",
    "v = float(input('Qual foi a velocidade do veículo?(em km/h)'))\n",
    "multa = (v - 80)*7\n",
    "if v > 80:\n",
    "    print('Você foi multado por ultrapassar o limite de velocidade.\\nO valor da multa é R${:.2f}.'.format(multa))\n",
    "else:\n",
    "    print('Você não ultrapassou o limite de velocidade.')"
   ]
  },
  {
   "cell_type": "markdown",
   "metadata": {},
   "source": [
    "Desafio 030"
   ]
  },
  {
   "cell_type": "code",
   "execution_count": 30,
   "metadata": {},
   "outputs": [
    {
     "name": "stdout",
     "output_type": "stream",
     "text": [
      "89 é ÍMPAR\n"
     ]
    }
   ],
   "source": [
    "#par ou ímpar.\n",
    "num = int(input('Digite um número:'))\n",
    "if num % 2 == 0:\n",
    "    print(f'{num} é PAR')\n",
    "else:\n",
    "    print(f'{num} é ÍMPAR')"
   ]
  },
  {
   "cell_type": "markdown",
   "metadata": {},
   "source": [
    "Desafio 031"
   ]
  },
  {
   "cell_type": "code",
   "execution_count": 31,
   "metadata": {},
   "outputs": [
    {
     "name": "stdout",
     "output_type": "stream",
     "text": [
      "O custo da viagem foi R$205.20.\n"
     ]
    }
   ],
   "source": [
    "# dist. da viagem -> 0.5 por km if <= 200km, else 0.45 por km\n",
    "d = float(input('Qual foi a distância da viagem?(em km)'))\n",
    "if d <= 200:\n",
    "    print('O custo da viagem foi R${:.2f}.'.format(d*0.5))\n",
    "else:\n",
    "    print('O custo da viagem foi R${:.2f}.'.format(d*0.45))"
   ]
  },
  {
   "cell_type": "markdown",
   "metadata": {},
   "source": [
    "Desafio 032"
   ]
  },
  {
   "cell_type": "code",
   "execution_count": 34,
   "metadata": {},
   "outputs": [
    {
     "name": "stdout",
     "output_type": "stream",
     "text": [
      "2002 não é ANO BISSEXTO\n"
     ]
    }
   ],
   "source": [
    "#Ano bissexto.\n",
    "import datetime\n",
    "ano = int(input('Digite um ano: (Use 0 para analisar o ano atual)'))\n",
    "if ano % 4 == 0 and ano % 100 != 0 or ano % 400 == 0:\n",
    "    print(f'{ano} é ANO BISSEXTO')\n",
    "else:\n",
    "    print(f'{ano} não é ANO BISSEXTO')"
   ]
  },
  {
   "cell_type": "markdown",
   "metadata": {},
   "source": [
    "Desafio 033"
   ]
  },
  {
   "cell_type": "code",
   "execution_count": 35,
   "metadata": {},
   "outputs": [
    {
     "name": "stdout",
     "output_type": "stream",
     "text": [
      "O maior número é 9.0 e o menor 4.0.\n"
     ]
    }
   ],
   "source": [
    "#Ler 3 num e mostro maior e o menor.\n",
    "n1 = float(input('Primeiro número:'))\n",
    "n2 = float(input('Segundo número:'))\n",
    "n3 = float(input('Terceiro número:'))\n",
    "if n1 >= n2 >= n3:\n",
    "    print('O maior número é {} e o menor {}.'.format(n1, n3))\n",
    "elif n1 >= n3 >= n2:\n",
    "     print('O maior número é {} e o menor {}.'.format(n1, n2))\n",
    "elif n2 >= n1 >= n3:\n",
    "    print('O maior número é {} e o menor {}.'.format(n2, n3))\n",
    "elif n2 >= n3 >= n1:\n",
    "    print('O maior número é {} e o menor {}.'.format(n2, n1))\n",
    "elif n3 >= n1 >= n2:\n",
    "    print('O maior número é {} e o menor {}.'.format(n3, n2))\n",
    "else:\n",
    "    print('O maior número é {} e o menor {}.'.format(n3, n1))\n",
    "\n"
   ]
  },
  {
   "cell_type": "markdown",
   "metadata": {},
   "source": [
    "Desafio 034"
   ]
  },
  {
   "cell_type": "code",
   "execution_count": 36,
   "metadata": {},
   "outputs": [
    {
     "name": "stdout",
     "output_type": "stream",
     "text": [
      "Seu salário atual é R$734.00.\n",
      "O seu salário após o ajuste é R$844.10.\n"
     ]
    }
   ],
   "source": [
    "# salário -> > 1250, 10% de aumento; < 1250, 15% de aumento.\n",
    "sal = float(input('Qual o seu salário atual?'))\n",
    "print('Seu salário atual é R${:.2f}.'.format(sal))\n",
    "if sal > 1250:\n",
    "    print('O seu salário após o ajuste é R${:.2f}.'.format(sal*(1+0.1)))\n",
    "else:\n",
    "    print('O seu salário após o ajuste é R${:.2f}.'.format(sal*(1+0.15)))"
   ]
  },
  {
   "cell_type": "markdown",
   "metadata": {},
   "source": [
    "Desafio 035"
   ]
  },
  {
   "cell_type": "code",
   "execution_count": 38,
   "metadata": {},
   "outputs": [
    {
     "name": "stdout",
     "output_type": "stream",
     "text": [
      "Não podem ser um triângulo.\n"
     ]
    }
   ],
   "source": [
    "# comprimento de 3 retas, triangulo ou não.\n",
    "r1 = float(input('Qual o comprimento da primeira reta?'))\n",
    "r2 = float(input('Qual o comprimento da segunda reta?'))\n",
    "r3 = float(input('Qual o coprimento da terceira reta?'))\n",
    "if r1+r2 < r3:\n",
    "    print('Não podem ser um triângulo.')\n",
    "elif r1+r3 <  r2:\n",
    "    print('Não podem ser um triângulo.')\n",
    "elif r2+r3 < r1:\n",
    "    print('Não podem ser um triângulo.')\n",
    "else:\n",
    "    print('Pode ser um triângulo.')"
   ]
  }
 ],
 "metadata": {
  "kernelspec": {
   "display_name": "Python 3.10.6 64-bit (windows store)",
   "language": "python",
   "name": "python3"
  },
  "language_info": {
   "codemirror_mode": {
    "name": "ipython",
    "version": 3
   },
   "file_extension": ".py",
   "mimetype": "text/x-python",
   "name": "python",
   "nbconvert_exporter": "python",
   "pygments_lexer": "ipython3",
   "version": "3.10.6"
  },
  "orig_nbformat": 4,
  "vscode": {
   "interpreter": {
    "hash": "a09cfbe1da184d0f7af3839d38d8b0444656c81e00c4112e35b5e08da3441a1d"
   }
  }
 },
 "nbformat": 4,
 "nbformat_minor": 2
}
